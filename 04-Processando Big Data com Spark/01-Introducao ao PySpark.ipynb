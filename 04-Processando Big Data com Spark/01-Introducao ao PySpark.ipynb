{
 "cells": [
  {
   "cell_type": "markdown",
   "metadata": {},
   "source": [
    "# Introdução ao PySpark"
   ]
  },
  {
   "cell_type": "markdown",
   "metadata": {},
   "source": [
    "*** Atenção: *** Utilize Java JDK 1.8.0_202 e Apache Spark 2.4.0\n",
    "\n",
    "** Caso receba mensagem de erro \"name 'sc' is not defined\", interrompa o pyspark e apague o diretório metastore_db no mesmo diretório onde está este Jupyter notebook **"
   ]
  },
  {
   "cell_type": "code",
   "execution_count": 1,
   "metadata": {},
   "outputs": [
    {
     "name": "stdout",
     "output_type": "stream",
     "text": [
      "3.7.1 (default, Dec 14 2018, 19:28:38) \n",
      "[GCC 7.3.0]\n"
     ]
    }
   ],
   "source": [
    "import sys\n",
    "print(sys.version)"
   ]
  },
  {
   "cell_type": "code",
   "execution_count": 2,
   "metadata": {},
   "outputs": [
    {
     "name": "stdout",
     "output_type": "stream",
     "text": [
      "<SparkContext master=local[*] appName=PySparkShell>\n"
     ]
    }
   ],
   "source": [
    "print(sc)"
   ]
  },
  {
   "cell_type": "code",
   "execution_count": 3,
   "metadata": {},
   "outputs": [
    {
     "name": "stdout",
     "output_type": "stream",
     "text": [
      "2.4.0\n"
     ]
    }
   ],
   "source": [
    "print(sc.version)"
   ]
  },
  {
   "cell_type": "code",
   "execution_count": 4,
   "metadata": {},
   "outputs": [],
   "source": [
    "# Testando o spark e criando um RDD\n",
    "lst = [25,98,81,37,776,3320]\n",
    "testData = sc.parallelize(lst)"
   ]
  },
  {
   "cell_type": "code",
   "execution_count": 5,
   "metadata": {},
   "outputs": [],
   "source": [
    "?sc.parallelize"
   ]
  },
  {
   "cell_type": "code",
   "execution_count": 6,
   "metadata": {},
   "outputs": [
    {
     "data": {
      "text/plain": [
       "pyspark.rdd.RDD"
      ]
     },
     "execution_count": 6,
     "metadata": {},
     "output_type": "execute_result"
    }
   ],
   "source": [
    "type(testData)"
   ]
  },
  {
   "cell_type": "code",
   "execution_count": 7,
   "metadata": {},
   "outputs": [
    {
     "data": {
      "text/plain": [
       "6"
      ]
     },
     "execution_count": 7,
     "metadata": {},
     "output_type": "execute_result"
    }
   ],
   "source": [
    "testData.count()"
   ]
  },
  {
   "cell_type": "code",
   "execution_count": 8,
   "metadata": {},
   "outputs": [
    {
     "data": {
      "text/plain": [
       "[25, 98, 81, 37, 776, 3320]"
      ]
     },
     "execution_count": 8,
     "metadata": {},
     "output_type": "execute_result"
    }
   ],
   "source": [
    "# Visualizar os dados\n",
    "testData.collect()"
   ]
  },
  {
   "cell_type": "markdown",
   "metadata": {},
   "source": [
    "RDD's são coleções distribuídas de itens. RDD's podem ser criadas a partir do Hadoop (arquivos no HDFS), através da transformação de outras RDD's, a partir de bancos de dados (relacionais e não-relacionais) ou a partir de arquivos locais."
   ]
  },
  {
   "cell_type": "code",
   "execution_count": 9,
   "metadata": {},
   "outputs": [],
   "source": [
    "# Criando uma RDD a partir de um arquivo csv\n",
    "sentimentoRDD = sc.textFile(\"data/sentimentos.csv\")"
   ]
  },
  {
   "cell_type": "code",
   "execution_count": 10,
   "metadata": {},
   "outputs": [
    {
     "data": {
      "text/plain": [
       "100"
      ]
     },
     "execution_count": 10,
     "metadata": {},
     "output_type": "execute_result"
    }
   ],
   "source": [
    "sentimentoRDD.count()"
   ]
  },
  {
   "cell_type": "code",
   "execution_count": 11,
   "metadata": {},
   "outputs": [
    {
     "data": {
      "text/plain": [
       "100"
      ]
     },
     "execution_count": 11,
     "metadata": {},
     "output_type": "execute_result"
    }
   ],
   "source": [
    "# Ação - Contando o número de registros\n",
    "sentimentoRDD.count()"
   ]
  },
  {
   "cell_type": "code",
   "execution_count": 12,
   "metadata": {},
   "outputs": [
    {
     "data": {
      "text/plain": [
       "['positivo,Esse livro é incrível.',\n",
       " 'positivo,Um dos melhores livros que eu já li.',\n",
       " 'positivo,um dos melhores livros que eu já li',\n",
       " 'positivo,Acho que ele tem um conteúdo que vai além do que está em sua descrição.',\n",
       " 'positivo,O Sol é para todos é profundo e emocionante',\n",
       " 'positivo,Me encantei por este livro',\n",
       " 'positivo,Este livro, apesar de antigo e com uma história que trata de uma época mais antiga ainda, possui um conteúdo atual e de extrema importância.',\n",
       " 'positivo,The Da Vinci Code is actually a good movie...',\n",
       " 'positivo,I thought the Da Vinci Code was a pretty good book.',\n",
       " 'positivo,Um livro que realmente deveria ser lido por todas as pessoas.',\n",
       " 'positivo,The Da Vinci Code is an * amazing * book',\n",
       " 'positivo,then I turn on the light and the radio and enjoy my Da Vinci Code.',\n",
       " 'positivo,Harper Lee aborda temas muito polêmicos, como o racismo e o Bullying, pelos olhos inocentes de uma criança de 7 anos.',\n",
       " 'positivo,i love da vinci code....',\n",
       " 'positivo,i loved da vinci code..',\n",
       " 'positivo,TO NIGHT:: THE DA VINCI CODE AND A BEAUTIFUL MIND...',\n",
       " 'positivo,THE DA VINCI CODE is AN AWESOME BOOK....',\n",
       " 'positivo,very da vinci code slash amazing race.',\n",
       " 'positivo,Hey I loved The Da Vinci Code!..',\n",
       " 'positivo,also loved the da vinci code..',\n",
       " 'positivo,Ele relata sobre relação e educação de pais e filhos, fala sobre respeito, individualidade e muito mais.',\n",
       " 'positivo,I do like Angels and Demons more then The Da Vinci Code.',\n",
       " 'positivo,The Da Vinci Code was a really good movie.',\n",
       " 'positivo,I really like The Da Vinci Code.',\n",
       " 'positivo,Da Vinci Code is amazing.',\n",
       " 'positivo,Um dos melhores livros que eu já li.',\n",
       " 'positivo,um dos melhores livros que eu já li.',\n",
       " 'positivo,Book ( s ): I love The Da Vinci Code..',\n",
       " 'positivo,And then we went to see The Da Vinci Code',\n",
       " 'positivo,I love the Da Vinci Code.',\n",
       " 'positivo,Da Vinci code is awesome!',\n",
       " 'positivo,The Da Vinci Code is awesome.',\n",
       " 'positivo,The Da Vinci Code is SUCH an awesome book!',\n",
       " 'positivo,I LOVE THE DA VINCI CODE...',\n",
       " 'positivo,I loved The Da Vinci Code.',\n",
       " 'positivo,um dos melhores livros que eu já li.',\n",
       " 'positivo,oh so beautiful Da Vinci Code...',\n",
       " 'positivo,i loved the da vinci code.',\n",
       " 'positivo,The Da Vinci Code is an awesome book.',\n",
       " 'positivo,Da vinci code is an awesome book.',\n",
       " 'positivo,I miss ripping acoustic music and the Da Vinci Code...',\n",
       " \"positivo,looks amazingly fun and possibly a bit cold... [ don't tell anyone ] but da vinci code is an awesome book.\",\n",
       " 'positivo,Da Vinci Code is of course a awesome book',\n",
       " 'positivo,\"I love \"\" The Da Vinci Code!\"',\n",
       " 'positivo,i LOVED the Da Vinci Code.',\n",
       " 'positivo,da vinci code is awesome.',\n",
       " 'positivo,I love The Da Vinci Code.',\n",
       " 'positivo,Os personagens são maravilhosos... ',\n",
       " 'positivo,omg i love the da vinci code that is such an awesome book!',\n",
       " 'positivo,O que falar desde livro INCRÍVEL? O sol é para todos me conquistou de uma forma pura! ',\n",
       " 'negativo,da vinci code was a terrible movie.',\n",
       " 'negativo,i thought the da vinci code movie was really boring.',\n",
       " 'negativo,Da Vinci Code does suck.',\n",
       " 'negativo,I think this bolsters my arguments that both England and the Da Vinci Code sucks...',\n",
       " 'negativo,And better..-We all know Da Vinci code is bogus and inaccurate.',\n",
       " 'negativo,I really hate The Da Vinci Code.',\n",
       " 'negativo,The more you say The Da Vinci Code is evil',\n",
       " 'negativo,da vinci code sucked too long and too slow.....',\n",
       " 'negativo,Da Vinci Code sucked',\n",
       " 'negativo,not sure if i already threw this at you but I hate the Da Vinci Code.',\n",
       " 'negativo,This is why I hate the Da Vinci Code: because it takes nothing but a fucking pop culture phenomenon to get people to question things.',\n",
       " 'negativo,I hate the Da Vinci Code',\n",
       " 'negativo,Da Vinci Code really did suck and congrats on beating Jay it must of been like that time at Rickards when we beat them in the finals.',\n",
       " 'negativo,The Da Vinci Code sucks.',\n",
       " 'negativo,I hated The Da Vinci Code.',\n",
       " 'negativo,I hate the Da Vinci Code',\n",
       " 'negativo,I know Da Vinci Code is going to suck.',\n",
       " 'negativo,The Da Vinci Code sucks..',\n",
       " \"negativo,I also think The Da Vinci Code sucked balls and it's the worst piece of shit I've ever read.\",\n",
       " 'negativo,Thank God Someone Has Sense I hate The Da Vinci Code.',\n",
       " \"negativo,RACHEL you could of told me your nans a libarian before i said i hated'The da vinci code '!!\",\n",
       " 'negativo,Sol para todos é um Livro ruim',\n",
       " 'negativo,Livro ruim',\n",
       " 'negativo,Livro ruim',\n",
       " 'negativo,Livro ruim',\n",
       " 'negativo,the da vinci code sucks btw..',\n",
       " 'negativo,I hate the Da Vinci Code..',\n",
       " 'negativo,i fucking hated the da vinci code.',\n",
       " 'negativo,\"poderia ter sido melhor\"',\n",
       " 'negativo,simples e raso',\n",
       " 'negativo,Livro ruim',\n",
       " 'negativo,Livro ruim',\n",
       " 'negativo,Livro ruim',\n",
       " 'negativo,\"poderia ter sido melhor\"',\n",
       " 'negativo,O Sol para todos não é para todos.',\n",
       " 'negativo,well DA VINCI CODE SUCKS!!',\n",
       " \"negativo,The Da Vinci Code sucked ass if you're wondering.\",\n",
       " 'negativo,Da Vinci Code sucks...',\n",
       " 'negativo,I hate the Da Vinci Code',\n",
       " 'negativo,about how much i hate the da vinci code.',\n",
       " 'negativo,And I absolutely loathe the Da Vinci Code.',\n",
       " 'negativo,I hated the da vinci code...',\n",
       " 'negativo,Livro ruim...',\n",
       " 'negativo,Livro ruim',\n",
       " 'negativo,já esqueci o livro de tão ruim que foi.',\n",
       " 'negativo,todos disseram que era bom, mas não achei',\n",
       " 'negativo,abaixo das expectativas',\n",
       " 'negativo,muito ruim...',\n",
       " 'negativo,Não gostei.',\n",
       " 'negativo,Livro muito infantil!']"
      ]
     },
     "execution_count": 12,
     "metadata": {},
     "output_type": "execute_result"
    }
   ],
   "source": [
    "sentimentoRDD.collect()"
   ]
  },
  {
   "cell_type": "code",
   "execution_count": 13,
   "metadata": {},
   "outputs": [
    {
     "data": {
      "text/plain": [
       "['positivo,Esse livro é incrível.',\n",
       " 'positivo,Um dos melhores livros que eu já li.',\n",
       " 'positivo,um dos melhores livros que eu já li',\n",
       " 'positivo,Acho que ele tem um conteúdo que vai além do que está em sua descrição.',\n",
       " 'positivo,O Sol é para todos é profundo e emocionante']"
      ]
     },
     "execution_count": 13,
     "metadata": {},
     "output_type": "execute_result"
    }
   ],
   "source": [
    "# Listando os primeiros registros\n",
    "sentimentoRDD.take(5)"
   ]
  },
  {
   "cell_type": "code",
   "execution_count": 14,
   "metadata": {},
   "outputs": [
    {
     "data": {
      "text/plain": [
       "['POSITIVO,ESSE LIVRO É INCRÍVEL.',\n",
       " 'POSITIVO,UM DOS MELHORES LIVROS QUE EU JÁ LI.',\n",
       " 'POSITIVO,UM DOS MELHORES LIVROS QUE EU JÁ LI',\n",
       " 'POSITIVO,ACHO QUE ELE TEM UM CONTEÚDO QUE VAI ALÉM DO QUE ESTÁ EM SUA DESCRIÇÃO.',\n",
       " 'POSITIVO,O SOL É PARA TODOS É PROFUNDO E EMOCIONANTE']"
      ]
     },
     "execution_count": 14,
     "metadata": {},
     "output_type": "execute_result"
    }
   ],
   "source": [
    "# Transformando os dados - transformação para letras maiúsculas\n",
    "# A RDD é imutável, por isso temos que criar uma nova RDD (coleção de elementos)\n",
    "\n",
    "tranfRDD = sentimentoRDD.map(lambda x: x.upper())\n",
    "tranfRDD.take(5)"
   ]
  },
  {
   "cell_type": "code",
   "execution_count": 15,
   "metadata": {},
   "outputs": [
    {
     "data": {
      "text/plain": [
       "['positivo,Esse livro é incrível.',\n",
       " 'positivo,Um dos melhores livros que eu já li.',\n",
       " 'positivo,um dos melhores livros que eu já li',\n",
       " 'positivo,Acho que ele tem um conteúdo que vai além do que está em sua descrição.',\n",
       " 'positivo,O Sol é para todos é profundo e emocionante']"
      ]
     },
     "execution_count": 15,
     "metadata": {},
     "output_type": "execute_result"
    }
   ],
   "source": [
    "sentimentoRDD.take(5)"
   ]
  },
  {
   "cell_type": "code",
   "execution_count": 16,
   "metadata": {},
   "outputs": [],
   "source": [
    "arquivo = sc.textFile(\"data/sentimentos.csv\")"
   ]
  },
  {
   "cell_type": "code",
   "execution_count": 17,
   "metadata": {},
   "outputs": [
    {
     "data": {
      "text/plain": [
       "pyspark.rdd.RDD"
      ]
     },
     "execution_count": 17,
     "metadata": {},
     "output_type": "execute_result"
    }
   ],
   "source": [
    "type(arquivo)"
   ]
  },
  {
   "cell_type": "code",
   "execution_count": 18,
   "metadata": {},
   "outputs": [
    {
     "data": {
      "text/plain": [
       "100"
      ]
     },
     "execution_count": 18,
     "metadata": {},
     "output_type": "execute_result"
    }
   ],
   "source": [
    "arquivo.count()"
   ]
  },
  {
   "cell_type": "code",
   "execution_count": 19,
   "metadata": {},
   "outputs": [
    {
     "data": {
      "text/plain": [
       "'positivo,Esse livro é incrível.'"
      ]
     },
     "execution_count": 19,
     "metadata": {},
     "output_type": "execute_result"
    }
   ],
   "source": [
    "arquivo.first()"
   ]
  },
  {
   "cell_type": "code",
   "execution_count": 20,
   "metadata": {},
   "outputs": [],
   "source": [
    "# Operação de filtro - Sempre necessário criar um novo RDD\n",
    "linhasComSol = arquivo.filter(lambda line: 'Sol' in line)"
   ]
  },
  {
   "cell_type": "code",
   "execution_count": 21,
   "metadata": {},
   "outputs": [
    {
     "data": {
      "text/plain": [
       "pyspark.rdd.PipelinedRDD"
      ]
     },
     "execution_count": 21,
     "metadata": {},
     "output_type": "execute_result"
    }
   ],
   "source": [
    "type(linhasComSol)"
   ]
  },
  {
   "cell_type": "code",
   "execution_count": 22,
   "metadata": {},
   "outputs": [
    {
     "data": {
      "text/plain": [
       "3"
      ]
     },
     "execution_count": 22,
     "metadata": {},
     "output_type": "execute_result"
    }
   ],
   "source": [
    "linhasComSol.count()"
   ]
  },
  {
   "cell_type": "markdown",
   "metadata": {},
   "source": [
    "Primeiro a função map() determina o comprimento de cada linha do arquivo, criando uma RDD. A função reduce() é chamada para encontrar a linha com maior número de caracteres. O argumento para as funções map() e reduce() são funções anônimas criadas com lambda (da linguagem Python)."
   ]
  },
  {
   "cell_type": "code",
   "execution_count": 23,
   "metadata": {},
   "outputs": [
    {
     "data": {
      "text/plain": [
       "27"
      ]
     },
     "execution_count": 23,
     "metadata": {},
     "output_type": "execute_result"
    }
   ],
   "source": [
    "# Este exemplo é apenas em tempo de execução\n",
    "arquivo.map(lambda line: len(line.split())).reduce(lambda a, b: a if(a > b) else b)"
   ]
  },
  {
   "cell_type": "markdown",
   "metadata": {},
   "source": [
    "Está linha pode ser reescrita da sequinte forma"
   ]
  },
  {
   "cell_type": "code",
   "execution_count": 24,
   "metadata": {},
   "outputs": [
    {
     "data": {
      "text/plain": [
       "27"
      ]
     },
     "execution_count": 24,
     "metadata": {},
     "output_type": "execute_result"
    }
   ],
   "source": [
    "def max(a,b):\n",
    "    if a > b:\n",
    "        return a\n",
    "    else:\n",
    "        return b\n",
    "\n",
    "arquivo.map(lambda line: len(line.split())).reduce(max)"
   ]
  },
  {
   "cell_type": "markdown",
   "metadata": {},
   "source": [
    "## Operação de MapReduce"
   ]
  },
  {
   "cell_type": "markdown",
   "metadata": {},
   "source": [
    "As operações de MapReduce foram popularizadas pelo Hadoop e podem ser feitas com Spark até 100x mais rápido."
   ]
  },
  {
   "cell_type": "code",
   "execution_count": 25,
   "metadata": {},
   "outputs": [],
   "source": [
    "contaPalavras = arquivo.flatMap(lambda line: line.split()).map(lambda palavra: (palavra, 1)).reduceByKey(lambda a, b: a + b)"
   ]
  },
  {
   "cell_type": "code",
   "execution_count": 27,
   "metadata": {},
   "outputs": [
    {
     "data": {
      "text/plain": [
       "pyspark.rdd.PipelinedRDD"
      ]
     },
     "execution_count": 27,
     "metadata": {},
     "output_type": "execute_result"
    }
   ],
   "source": [
    "type(contaPalavras)"
   ]
  },
  {
   "cell_type": "code",
   "execution_count": 28,
   "metadata": {},
   "outputs": [
    {
     "data": {
      "text/plain": [
       "[('livro', 5),\n",
       " ('que', 13),\n",
       " ('li.', 4),\n",
       " ('positivo,um', 3),\n",
       " ('li', 1),\n",
       " ('positivo,Acho', 1),\n",
       " ('tem', 1),\n",
       " ('um', 3),\n",
       " ('vai', 1),\n",
       " ('do', 2),\n",
       " ('em', 1),\n",
       " ('descrição.', 1),\n",
       " ('positivo,O', 2),\n",
       " ('para', 5),\n",
       " ('todos', 4),\n",
       " ('positivo,Me', 1),\n",
       " ('este', 1),\n",
       " ('livro,', 1),\n",
       " ('antigo', 1),\n",
       " ('uma', 4),\n",
       " ('história', 1),\n",
       " ('antiga', 1),\n",
       " ('positivo,The', 6),\n",
       " ('Da', 38),\n",
       " ('Vinci', 45),\n",
       " ('Code', 24),\n",
       " ('is', 17),\n",
       " ('good', 3),\n",
       " ('movie...', 1),\n",
       " ('thought', 2),\n",
       " ('was', 4),\n",
       " ('pretty', 1),\n",
       " ('book.', 4),\n",
       " ('realmente', 1),\n",
       " ('deveria', 1),\n",
       " ('todas', 1),\n",
       " ('as', 1),\n",
       " ('pessoas.', 1),\n",
       " ('an', 6),\n",
       " ('*', 2),\n",
       " ('book', 2),\n",
       " ('turn', 1),\n",
       " ('positivo,Harper', 1),\n",
       " ('aborda', 1),\n",
       " ('muito', 3),\n",
       " ('polêmicos,', 1),\n",
       " ('como', 1),\n",
       " ('Bullying,', 1),\n",
       " ('olhos', 1),\n",
       " ('inocentes', 1),\n",
       " ('positivo,i', 4),\n",
       " ('love', 6),\n",
       " ('da', 13),\n",
       " ('code....', 1),\n",
       " ('loved', 5),\n",
       " ('code..', 2),\n",
       " ('VINCI', 4),\n",
       " ('BEAUTIFUL', 1),\n",
       " ('positivo,THE', 1),\n",
       " ('slash', 1),\n",
       " ('race.', 1),\n",
       " ('positivo,Hey', 1),\n",
       " ('The', 13),\n",
       " ('Code!..', 1),\n",
       " ('positivo,also', 1),\n",
       " ('sobre', 2),\n",
       " ('relação', 1),\n",
       " ('educação', 1),\n",
       " ('pais', 1),\n",
       " ('filhos,', 1),\n",
       " ('fala', 1),\n",
       " ('like', 3),\n",
       " ('Angels', 1),\n",
       " ('Demons', 1),\n",
       " ('more', 2),\n",
       " ('really', 5),\n",
       " ('positivo,Da', 4),\n",
       " ('s', 1),\n",
       " ('positivo,And', 1),\n",
       " ('we', 2),\n",
       " ('awesome.', 2),\n",
       " ('awesome', 6),\n",
       " ('book!', 2),\n",
       " ('positivo,oh', 1),\n",
       " ('code.', 3),\n",
       " ('ripping', 1),\n",
       " ('music', 1),\n",
       " ('cold...', 1),\n",
       " ('[', 1),\n",
       " ('tell', 1),\n",
       " ('anyone', 1),\n",
       " ('but', 3),\n",
       " ('of', 4),\n",
       " ('positivo,Os', 1),\n",
       " ('personagens', 1),\n",
       " ('positivo,omg', 1),\n",
       " ('i', 5),\n",
       " ('falar', 1),\n",
       " ('INCRÍVEL?', 1),\n",
       " ('O', 1),\n",
       " ('sol', 1),\n",
       " ('negativo,da', 2),\n",
       " ('terrible', 1),\n",
       " ('negativo,i', 2),\n",
       " ('movie', 1),\n",
       " ('think', 2),\n",
       " ('this', 2),\n",
       " ('bolsters', 1),\n",
       " ('arguments', 1),\n",
       " ('both', 1),\n",
       " ('know', 2),\n",
       " ('inaccurate.', 1),\n",
       " ('hate', 9),\n",
       " ('negativo,The', 4),\n",
       " ('say', 1),\n",
       " ('evil', 1),\n",
       " ('sucked', 4),\n",
       " ('long', 1),\n",
       " ('slow.....', 1),\n",
       " ('negativo,not', 1),\n",
       " ('sure', 1),\n",
       " ('already', 1),\n",
       " ('threw', 1),\n",
       " ('at', 2),\n",
       " ('negativo,This', 1),\n",
       " ('why', 1),\n",
       " ('Code:', 1),\n",
       " ('pop', 1),\n",
       " ('question', 1),\n",
       " ('congrats', 1),\n",
       " ('beating', 1),\n",
       " ('Jay', 1),\n",
       " ('must', 1),\n",
       " ('Rickards', 1),\n",
       " ('when', 1),\n",
       " ('beat', 1),\n",
       " ('them', 1),\n",
       " ('in', 1),\n",
       " ('balls', 1),\n",
       " ('worst', 1),\n",
       " ('shit', 1),\n",
       " (\"I've\", 1),\n",
       " ('ever', 1),\n",
       " ('God', 1),\n",
       " ('Has', 1),\n",
       " ('told', 1),\n",
       " ('nans', 1),\n",
       " ('before', 1),\n",
       " ('said', 1),\n",
       " (\"'!!\", 1),\n",
       " ('negativo,Sol', 1),\n",
       " ('ruim', 9),\n",
       " ('negativo,Livro', 9),\n",
       " ('negativo,the', 1),\n",
       " ('sucks', 1),\n",
       " ('negativo,\"poderia', 2),\n",
       " ('ter', 2),\n",
       " ('sido', 2),\n",
       " ('melhor\"', 2),\n",
       " ('raso', 1),\n",
       " ('negativo,well', 1),\n",
       " ('SUCKS!!', 1),\n",
       " ('ass', 1),\n",
       " (\"you're\", 1),\n",
       " ('code...', 1),\n",
       " ('esqueci', 1),\n",
       " ('negativo,todos', 1),\n",
       " ('disseram', 1),\n",
       " ('mas', 1),\n",
       " ('achei', 1),\n",
       " ('negativo,abaixo', 1),\n",
       " ('das', 1),\n",
       " ('expectativas', 1),\n",
       " ('negativo,muito', 1),\n",
       " ('gostei.', 1),\n",
       " ('infantil!', 1),\n",
       " ('positivo,Esse', 1),\n",
       " ('é', 6),\n",
       " ('incrível.', 1),\n",
       " ('positivo,Um', 3),\n",
       " ('dos', 5),\n",
       " ('melhores', 5),\n",
       " ('livros', 5),\n",
       " ('eu', 5),\n",
       " ('já', 5),\n",
       " ('ele', 1),\n",
       " ('conteúdo', 2),\n",
       " ('além', 1),\n",
       " ('está', 1),\n",
       " ('sua', 1),\n",
       " ('Sol', 2),\n",
       " ('profundo', 1),\n",
       " ('e', 8),\n",
       " ('emocionante', 1),\n",
       " ('encantei', 1),\n",
       " ('por', 2),\n",
       " ('positivo,Este', 1),\n",
       " ('apesar', 1),\n",
       " ('de', 8),\n",
       " ('com', 1),\n",
       " ('trata', 1),\n",
       " ('época', 1),\n",
       " ('mais', 1),\n",
       " ('ainda,', 1),\n",
       " ('possui', 1),\n",
       " ('atual', 1),\n",
       " ('extrema', 1),\n",
       " ('importância.', 1),\n",
       " ('actually', 1),\n",
       " ('a', 8),\n",
       " ('positivo,I', 8),\n",
       " ('the', 23),\n",
       " ('ser', 1),\n",
       " ('lido', 1),\n",
       " ('amazing', 2),\n",
       " ('positivo,then', 1),\n",
       " ('I', 7),\n",
       " ('on', 2),\n",
       " ('light', 1),\n",
       " ('and', 10),\n",
       " ('radio', 1),\n",
       " ('enjoy', 1),\n",
       " ('my', 2),\n",
       " ('Code.', 12),\n",
       " ('Lee', 1),\n",
       " ('temas', 1),\n",
       " ('o', 3),\n",
       " ('racismo', 1),\n",
       " ('pelos', 1),\n",
       " ('criança', 1),\n",
       " ('7', 1),\n",
       " ('anos.', 1),\n",
       " ('vinci', 17),\n",
       " ('positivo,TO', 1),\n",
       " ('NIGHT::', 1),\n",
       " ('THE', 2),\n",
       " ('DA', 4),\n",
       " ('CODE', 3),\n",
       " ('AND', 1),\n",
       " ('A', 1),\n",
       " ('MIND...', 1),\n",
       " ('AN', 1),\n",
       " ('AWESOME', 1),\n",
       " ('BOOK....', 1),\n",
       " ('positivo,very', 1),\n",
       " ('code', 12),\n",
       " ('positivo,Ele', 1),\n",
       " ('relata', 1),\n",
       " ('respeito,', 1),\n",
       " ('individualidade', 1),\n",
       " ('mais.', 1),\n",
       " ('then', 2),\n",
       " ('movie.', 2),\n",
       " ('amazing.', 1),\n",
       " ('positivo,Book', 1),\n",
       " ('(', 1),\n",
       " ('):', 1),\n",
       " ('Code..', 2),\n",
       " ('went', 1),\n",
       " ('to', 4),\n",
       " ('see', 1),\n",
       " ('awesome!', 1),\n",
       " ('SUCH', 1),\n",
       " ('LOVE', 1),\n",
       " ('CODE...', 1),\n",
       " ('so', 1),\n",
       " ('beautiful', 1),\n",
       " ('Code...', 2),\n",
       " ('miss', 1),\n",
       " ('acoustic', 1),\n",
       " ('positivo,looks', 1),\n",
       " ('amazingly', 1),\n",
       " ('fun', 1),\n",
       " ('possibly', 1),\n",
       " ('bit', 1),\n",
       " (\"don't\", 1),\n",
       " (']', 1),\n",
       " ('course', 1),\n",
       " ('positivo,\"I', 1),\n",
       " ('\"\"', 1),\n",
       " ('Code!\"', 1),\n",
       " ('LOVED', 1),\n",
       " ('positivo,da', 1),\n",
       " ('são', 1),\n",
       " ('maravilhosos...', 1),\n",
       " ('that', 3),\n",
       " ('such', 1),\n",
       " ('desde', 1),\n",
       " ('me', 2),\n",
       " ('conquistou', 1),\n",
       " ('forma', 1),\n",
       " ('pura!', 1),\n",
       " ('boring.', 1),\n",
       " ('negativo,Da', 4),\n",
       " ('does', 1),\n",
       " ('suck.', 2),\n",
       " ('negativo,I', 10),\n",
       " ('England', 1),\n",
       " ('sucks...', 2),\n",
       " ('negativo,And', 2),\n",
       " ('better..-We', 1),\n",
       " ('all', 1),\n",
       " ('bogus', 1),\n",
       " ('you', 3),\n",
       " ('too', 2),\n",
       " ('if', 2),\n",
       " ('because', 1),\n",
       " ('it', 2),\n",
       " ('takes', 1),\n",
       " ('nothing', 1),\n",
       " ('fucking', 2),\n",
       " ('culture', 1),\n",
       " ('phenomenon', 1),\n",
       " ('get', 1),\n",
       " ('people', 1),\n",
       " ('things.', 1),\n",
       " ('did', 1),\n",
       " ('suck', 1),\n",
       " ('been', 1),\n",
       " ('time', 1),\n",
       " ('finals.', 1),\n",
       " ('sucks.', 1),\n",
       " ('hated', 3),\n",
       " ('going', 1),\n",
       " ('sucks..', 1),\n",
       " ('also', 1),\n",
       " (\"it's\", 1),\n",
       " ('piece', 1),\n",
       " ('read.', 1),\n",
       " ('negativo,Thank', 1),\n",
       " ('Someone', 1),\n",
       " ('Sense', 1),\n",
       " ('negativo,RACHEL', 1),\n",
       " ('could', 1),\n",
       " ('your', 1),\n",
       " ('libarian', 1),\n",
       " (\"hated'The\", 1),\n",
       " ('Livro', 1),\n",
       " ('btw..', 1),\n",
       " ('negativo,simples', 1),\n",
       " ('negativo,O', 1),\n",
       " ('não', 2),\n",
       " ('todos.', 1),\n",
       " ('wondering.', 1),\n",
       " ('negativo,about', 1),\n",
       " ('how', 1),\n",
       " ('much', 1),\n",
       " ('absolutely', 1),\n",
       " ('loathe', 1),\n",
       " ('ruim...', 2),\n",
       " ('negativo,já', 1),\n",
       " ('tão', 1),\n",
       " ('foi.', 1),\n",
       " ('era', 1),\n",
       " ('bom,', 1),\n",
       " ('negativo,Não', 1)]"
      ]
     },
     "execution_count": 28,
     "metadata": {},
     "output_type": "execute_result"
    }
   ],
   "source": [
    "contaPalavras.collect()"
   ]
  },
  {
   "cell_type": "code",
   "execution_count": null,
   "metadata": {},
   "outputs": [],
   "source": []
  }
 ],
 "metadata": {
  "kernelspec": {
   "display_name": "Python 3",
   "language": "python",
   "name": "python3"
  },
  "language_info": {
   "codemirror_mode": {
    "name": "ipython",
    "version": 3
   },
   "file_extension": ".py",
   "mimetype": "text/x-python",
   "name": "python",
   "nbconvert_exporter": "python",
   "pygments_lexer": "ipython3",
   "version": "3.7.1"
  }
 },
 "nbformat": 4,
 "nbformat_minor": 2
}
