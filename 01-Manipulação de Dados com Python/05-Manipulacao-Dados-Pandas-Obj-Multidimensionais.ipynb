{
 "cells": [
  {
   "cell_type": "markdown",
   "metadata": {},
   "source": [
    "# Estrutura de dados em pandas"
   ]
  },
  {
   "cell_type": "markdown",
   "metadata": {},
   "source": [
    "pandas.Series()          - 1 Dimensão  - 1D\n",
    "\n",
    "pandas.DataFrame()  - 2 Dimensões - 2D\n",
    "\n",
    "pandas.Panel()           - 3 Dimensões - 3D\n",
    "\n",
    "numpy.ndarray()     - x Dimensões "
   ]
  },
  {
   "cell_type": "markdown",
   "metadata": {},
   "source": [
    "### Panel"
   ]
  },
  {
   "cell_type": "code",
   "execution_count": 1,
   "metadata": {},
   "outputs": [],
   "source": [
    "import pandas as pd\n",
    "import numpy as np\n",
    "import warnings\n",
    "warnings.filterwarnings(\"ignore\")"
   ]
  },
  {
   "cell_type": "code",
   "execution_count": 2,
   "metadata": {},
   "outputs": [
    {
     "data": {
      "text/plain": [
       "array([[[ 63.03,  61.48,  75.  ],\n",
       "        [ 62.05,  62.75,  46.  ],\n",
       "        [ 62.74,  62.19,  53.  ]],\n",
       "\n",
       "       [[411.9 , 404.38,   2.9 ],\n",
       "        [405.45, 405.91,   2.6 ],\n",
       "        [403.15, 404.42,   2.4 ]]])"
      ]
     },
     "execution_count": 2,
     "metadata": {},
     "output_type": "execute_result"
    }
   ],
   "source": [
    "stockData = np.array([[[63.03,61.48,75],\n",
    "                      [62.05,62.75,46],\n",
    "                      [62.74,62.19,53]],\n",
    "                     [[411.90, 404.38, 2.9],\n",
    "                     [405.45, 405.91, 2.6],\n",
    "                     [403.15, 404.42, 2.4]]])\n",
    "stockData"
   ]
  },
  {
   "cell_type": "code",
   "execution_count": 3,
   "metadata": {},
   "outputs": [
    {
     "data": {
      "text/plain": [
       "numpy.ndarray"
      ]
     },
     "execution_count": 3,
     "metadata": {},
     "output_type": "execute_result"
    }
   ],
   "source": [
    "type(stockData)"
   ]
  },
  {
   "cell_type": "code",
   "execution_count": 4,
   "metadata": {},
   "outputs": [
    {
     "data": {
      "text/plain": [
       "<class 'pandas.core.panel.Panel'>\n",
       "Dimensions: 2 (items) x 3 (major_axis) x 3 (minor_axis)\n",
       "Items axis: FB to NFLX\n",
       "Major_axis axis: 2016-02-03 00:00:00 to 2016-02-05 00:00:00\n",
       "Minor_axis axis: open price to volume"
      ]
     },
     "execution_count": 4,
     "metadata": {},
     "output_type": "execute_result"
    }
   ],
   "source": [
    "# Construçõo de cubo\n",
    "stockHistoricalPrinces = pd.Panel(stockData,\n",
    "                                 items = ['FB', 'NFLX'],\n",
    "                                 major_axis = pd.date_range('2/3/2016', periods=3),\n",
    "                                 minor_axis = ['open price', 'closing price', 'volume'])\n",
    "\n",
    "stockHistoricalPrinces"
   ]
  },
  {
   "cell_type": "markdown",
   "metadata": {},
   "source": [
    "### Criando um DataFrame a partir de um dicionario"
   ]
  },
  {
   "cell_type": "code",
   "execution_count": 5,
   "metadata": {},
   "outputs": [
    {
     "data": {
      "text/html": [
       "<div>\n",
       "<style scoped>\n",
       "    .dataframe tbody tr th:only-of-type {\n",
       "        vertical-align: middle;\n",
       "    }\n",
       "\n",
       "    .dataframe tbody tr th {\n",
       "        vertical-align: top;\n",
       "    }\n",
       "\n",
       "    .dataframe thead th {\n",
       "        text-align: right;\n",
       "    }\n",
       "</style>\n",
       "<table border=\"1\" class=\"dataframe\">\n",
       "  <thead>\n",
       "    <tr style=\"text-align: right;\">\n",
       "      <th></th>\n",
       "      <th>População(M)</th>\n",
       "      <th>PIB($B)</th>\n",
       "    </tr>\n",
       "  </thead>\n",
       "  <tbody>\n",
       "    <tr>\n",
       "      <th>1995</th>\n",
       "      <td>249.62</td>\n",
       "      <td>8900.0</td>\n",
       "    </tr>\n",
       "    <tr>\n",
       "      <th>2005</th>\n",
       "      <td>282.16</td>\n",
       "      <td>12680.0</td>\n",
       "    </tr>\n",
       "    <tr>\n",
       "      <th>2015</th>\n",
       "      <td>309.35</td>\n",
       "      <td>14940.0</td>\n",
       "    </tr>\n",
       "  </tbody>\n",
       "</table>\n",
       "</div>"
      ],
      "text/plain": [
       "      População(M)  PIB($B)\n",
       "1995        249.62   8900.0\n",
       "2005        282.16  12680.0\n",
       "2015        309.35  14940.0"
      ]
     },
     "execution_count": 5,
     "metadata": {},
     "output_type": "execute_result"
    }
   ],
   "source": [
    "USData = pd.DataFrame(np.array([[249.62 , 8900],\n",
    "                               [282.16,12680],\n",
    "                               [309.35,14940]]),\n",
    "                     columns = ['População(M)','PIB($B)'],\n",
    "                     index = [1995,2005,2015])\n",
    "USData"
   ]
  },
  {
   "cell_type": "code",
   "execution_count": 6,
   "metadata": {},
   "outputs": [
    {
     "data": {
      "text/html": [
       "<div>\n",
       "<style scoped>\n",
       "    .dataframe tbody tr th:only-of-type {\n",
       "        vertical-align: middle;\n",
       "    }\n",
       "\n",
       "    .dataframe tbody tr th {\n",
       "        vertical-align: top;\n",
       "    }\n",
       "\n",
       "    .dataframe thead th {\n",
       "        text-align: right;\n",
       "    }\n",
       "</style>\n",
       "<table border=\"1\" class=\"dataframe\">\n",
       "  <thead>\n",
       "    <tr style=\"text-align: right;\">\n",
       "      <th></th>\n",
       "      <th>População(M)</th>\n",
       "      <th>PIB($B)</th>\n",
       "    </tr>\n",
       "  </thead>\n",
       "  <tbody>\n",
       "    <tr>\n",
       "      <th>1995</th>\n",
       "      <td>1133.68</td>\n",
       "      <td>390.28</td>\n",
       "    </tr>\n",
       "    <tr>\n",
       "      <th>2005</th>\n",
       "      <td>1266.83</td>\n",
       "      <td>1198.48</td>\n",
       "    </tr>\n",
       "    <tr>\n",
       "      <th>2015</th>\n",
       "      <td>1339.72</td>\n",
       "      <td>9923.47</td>\n",
       "    </tr>\n",
       "  </tbody>\n",
       "</table>\n",
       "</div>"
      ],
      "text/plain": [
       "      População(M)  PIB($B)\n",
       "1995       1133.68   390.28\n",
       "2005       1266.83  1198.48\n",
       "2015       1339.72  9923.47"
      ]
     },
     "execution_count": 6,
     "metadata": {},
     "output_type": "execute_result"
    }
   ],
   "source": [
    "ChinaData = pd.DataFrame(np.array([[1133.68, 390.28],\n",
    "                                  [1266.83,1198.48],\n",
    "                                  [1339.72, 9923.47]]),\n",
    "                        columns = ['População(M)','PIB($B)'],\n",
    "                        index = [1995,2005,2015])\n",
    "ChinaData"
   ]
  },
  {
   "cell_type": "code",
   "execution_count": 7,
   "metadata": {},
   "outputs": [
    {
     "data": {
      "text/plain": [
       "{'US':       População(M)  PIB($B)\n",
       " 1995        249.62   8900.0\n",
       " 2005        282.16  12680.0\n",
       " 2015        309.35  14940.0, 'China':       População(M)  PIB($B)\n",
       " 1995       1133.68   390.28\n",
       " 2005       1266.83  1198.48\n",
       " 2015       1339.72  9923.47}"
      ]
     },
     "execution_count": 7,
     "metadata": {},
     "output_type": "execute_result"
    }
   ],
   "source": [
    "US_ChinaData = {'US': USData,\n",
    "               'China': ChinaData}\n",
    "US_ChinaData"
   ]
  },
  {
   "cell_type": "code",
   "execution_count": 8,
   "metadata": {},
   "outputs": [
    {
     "data": {
      "text/plain": [
       "<class 'pandas.core.panel.Panel'>\n",
       "Dimensions: 2 (items) x 3 (major_axis) x 2 (minor_axis)\n",
       "Items axis: US to China\n",
       "Major_axis axis: 1995 to 2015\n",
       "Minor_axis axis: População(M) to PIB($B)"
      ]
     },
     "execution_count": 8,
     "metadata": {},
     "output_type": "execute_result"
    }
   ],
   "source": [
    "pd.Panel(US_ChinaData)"
   ]
  },
  {
   "cell_type": "code",
   "execution_count": 9,
   "metadata": {},
   "outputs": [
    {
     "data": {
      "text/plain": [
       "pandas.core.panel.Panel"
      ]
     },
     "execution_count": 9,
     "metadata": {},
     "output_type": "execute_result"
    }
   ],
   "source": [
    "type(pd.Panel(US_ChinaData))"
   ]
  },
  {
   "cell_type": "markdown",
   "metadata": {},
   "source": [
    "### Convertendo DataFrame para Panel"
   ]
  },
  {
   "cell_type": "code",
   "execution_count": 10,
   "metadata": {},
   "outputs": [
    {
     "data": {
      "text/plain": [
       "MultiIndex(levels=[['US', 'China'], [1995, 2005, 2015]],\n",
       "           labels=[[1, 1, 1, 0, 0, 0], [0, 1, 2, 0, 1, 2]])"
      ]
     },
     "execution_count": 10,
     "metadata": {},
     "output_type": "execute_result"
    }
   ],
   "source": [
    "mIdx = pd.MultiIndex(levels = [['US', 'China'], [1995,2005, 2015]],\n",
    "                    labels = [[1,1,1,0,0,0], [0,1,2,0,1,2]])\n",
    "mIdx"
   ]
  },
  {
   "cell_type": "code",
   "execution_count": 11,
   "metadata": {},
   "outputs": [
    {
     "data": {
      "text/html": [
       "<div>\n",
       "<style scoped>\n",
       "    .dataframe tbody tr th:only-of-type {\n",
       "        vertical-align: middle;\n",
       "    }\n",
       "\n",
       "    .dataframe tbody tr th {\n",
       "        vertical-align: top;\n",
       "    }\n",
       "\n",
       "    .dataframe thead th {\n",
       "        text-align: right;\n",
       "    }\n",
       "</style>\n",
       "<table border=\"1\" class=\"dataframe\">\n",
       "  <thead>\n",
       "    <tr style=\"text-align: right;\">\n",
       "      <th></th>\n",
       "      <th></th>\n",
       "      <th>População(M)</th>\n",
       "      <th>PIB($B)</th>\n",
       "    </tr>\n",
       "  </thead>\n",
       "  <tbody>\n",
       "    <tr>\n",
       "      <th rowspan=\"3\" valign=\"top\">China</th>\n",
       "      <th>1995</th>\n",
       "      <td>1133.68</td>\n",
       "      <td>390.28</td>\n",
       "    </tr>\n",
       "    <tr>\n",
       "      <th>2005</th>\n",
       "      <td>1266.83</td>\n",
       "      <td>1198.48</td>\n",
       "    </tr>\n",
       "    <tr>\n",
       "      <th>2015</th>\n",
       "      <td>1339.72</td>\n",
       "      <td>6988.47</td>\n",
       "    </tr>\n",
       "    <tr>\n",
       "      <th rowspan=\"3\" valign=\"top\">US</th>\n",
       "      <th>1995</th>\n",
       "      <td>249.62</td>\n",
       "      <td>8900.00</td>\n",
       "    </tr>\n",
       "    <tr>\n",
       "      <th>2005</th>\n",
       "      <td>282.16</td>\n",
       "      <td>12680.00</td>\n",
       "    </tr>\n",
       "    <tr>\n",
       "      <th>2015</th>\n",
       "      <td>309.35</td>\n",
       "      <td>14940.00</td>\n",
       "    </tr>\n",
       "  </tbody>\n",
       "</table>\n",
       "</div>"
      ],
      "text/plain": [
       "            População(M)   PIB($B)\n",
       "China 1995       1133.68    390.28\n",
       "      2005       1266.83   1198.48\n",
       "      2015       1339.72   6988.47\n",
       "US    1995        249.62   8900.00\n",
       "      2005        282.16  12680.00\n",
       "      2015        309.35  14940.00"
      ]
     },
     "execution_count": 11,
     "metadata": {},
     "output_type": "execute_result"
    }
   ],
   "source": [
    "ChinaUSDF = pd.DataFrame({'População(M)' : [1133.68, 1266.83, 1339.72, 249.62, 282.16,309.35], \n",
    "                          'PIB($B)': [390.28, 1198.48, 6988.47, 8900,12680,14940]},\n",
    "                        index = mIdx)\n",
    "ChinaUSDF"
   ]
  },
  {
   "cell_type": "code",
   "execution_count": 12,
   "metadata": {},
   "outputs": [
    {
     "data": {
      "text/plain": [
       "<class 'pandas.core.panel.Panel'>\n",
       "Dimensions: 2 (items) x 2 (major_axis) x 3 (minor_axis)\n",
       "Items axis: População(M) to PIB($B)\n",
       "Major_axis axis: China to US\n",
       "Minor_axis axis: 1995 to 2015"
      ]
     },
     "execution_count": 12,
     "metadata": {},
     "output_type": "execute_result"
    }
   ],
   "source": [
    "ChinaUSDF.to_panel()"
   ]
  },
  {
   "cell_type": "code",
   "execution_count": 13,
   "metadata": {},
   "outputs": [
    {
     "name": "stdout",
     "output_type": "stream",
     "text": [
      "Requirement already satisfied: xarray in c:\\users\\aline.assuncao\\appdata\\local\\continuum\\anaconda3\\lib\\site-packages (0.11.2)\n",
      "Requirement already satisfied: numpy>=1.12 in c:\\users\\aline.assuncao\\appdata\\local\\continuum\\anaconda3\\lib\\site-packages (from xarray) (1.14.3)\n",
      "Requirement already satisfied: pandas>=0.19.2 in c:\\users\\aline.assuncao\\appdata\\local\\continuum\\anaconda3\\lib\\site-packages (from xarray) (0.23.0)\n",
      "Requirement already satisfied: python-dateutil>=2.5.0 in c:\\users\\aline.assuncao\\appdata\\local\\continuum\\anaconda3\\lib\\site-packages (from pandas>=0.19.2->xarray) (2.7.3)\n",
      "Requirement already satisfied: pytz>=2011k in c:\\users\\aline.assuncao\\appdata\\local\\continuum\\anaconda3\\lib\\site-packages (from pandas>=0.19.2->xarray) (2018.4)\n",
      "Requirement already satisfied: six>=1.5 in c:\\users\\aline.assuncao\\appdata\\local\\continuum\\anaconda3\\lib\\site-packages (from python-dateutil>=2.5.0->pandas>=0.19.2->xarray) (1.11.0)\n"
     ]
    },
    {
     "name": "stderr",
     "output_type": "stream",
     "text": [
      "You are using pip version 18.0, however version 19.0.1 is available.\n",
      "You should consider upgrading via the 'python -m pip install --upgrade pip' command.\n"
     ]
    }
   ],
   "source": [
    "!pip install xarray"
   ]
  },
  {
   "cell_type": "code",
   "execution_count": 14,
   "metadata": {},
   "outputs": [
    {
     "data": {
      "text/plain": [
       "<xarray.Dataset>\n",
       "Dimensions:       (level_0: 2, level_1: 3)\n",
       "Coordinates:\n",
       "  * level_0       (level_0) object 'US' 'China'\n",
       "  * level_1       (level_1) int64 1995 2005 2015\n",
       "Data variables:\n",
       "    População(M)  (level_0, level_1) float64 249.6 282.2 ... 1.267e+03 1.34e+03\n",
       "    PIB($B)       (level_0, level_1) float64 8.9e+03 1.268e+04 ... 6.988e+03"
      ]
     },
     "execution_count": 14,
     "metadata": {},
     "output_type": "execute_result"
    }
   ],
   "source": [
    "ChinaUSDF.to_xarray()"
   ]
  },
  {
   "cell_type": "code",
   "execution_count": null,
   "metadata": {},
   "outputs": [],
   "source": []
  }
 ],
 "metadata": {
  "kernelspec": {
   "display_name": "Python 3",
   "language": "python",
   "name": "python3"
  },
  "language_info": {
   "codemirror_mode": {
    "name": "ipython",
    "version": 3
   },
   "file_extension": ".py",
   "mimetype": "text/x-python",
   "name": "python",
   "nbconvert_exporter": "python",
   "pygments_lexer": "ipython3",
   "version": "3.6.5"
  }
 },
 "nbformat": 4,
 "nbformat_minor": 2
}
