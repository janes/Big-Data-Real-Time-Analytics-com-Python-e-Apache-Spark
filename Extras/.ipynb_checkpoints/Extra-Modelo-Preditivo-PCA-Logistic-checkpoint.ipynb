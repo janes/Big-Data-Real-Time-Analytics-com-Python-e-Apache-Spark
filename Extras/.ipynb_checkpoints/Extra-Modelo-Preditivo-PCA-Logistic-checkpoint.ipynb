{
 "cells": [
  {
   "cell_type": "markdown",
   "metadata": {},
   "source": [
    "# Modelo Preditivo"
   ]
  },
  {
   "cell_type": "code",
   "execution_count": 1,
   "metadata": {},
   "outputs": [],
   "source": [
    "# importando os móodulos\n",
    "from sklearn.decomposition import PCA\n",
    "from sklearn.linear_model import LogisticRegression\n",
    "from sklearn.pipeline import Pipeline\n",
    "import pandas as pd\n",
    "import numpy as np"
   ]
  },
  {
   "cell_type": "code",
   "execution_count": 2,
   "metadata": {},
   "outputs": [],
   "source": [
    "# Dados de Treino\n",
    "n_treino = 10\n",
    "np.random.seed(0)\n",
    "df_treino = pd.DataFrame({\"var1\": np.random.random(n_treino), \\\n",
    "                         \"var2\": np.random.random(n_treino), \\\n",
    "                         \"var3\": np.random.random(n_treino), \\\n",
    "                         \"var4\": np.random.randint(0, 2, n_treino).astype(bool), \\\n",
    "                         \"target\": np.random.randint(0, 2, n_treino).astype(bool)})\n",
    "\n",
    "# Dados de Treino\n",
    "n_validade = 3\n",
    "np.random.seed(1)\n",
    "df_validade = pd.DataFrame({\"var1\": np.random.random(n_validade), \\\n",
    "                            \"var2\": np.random.random(n_validade), \\\n",
    "                            \"var3\": np.random.random(n_validade), \\\n",
    "                            \"var4\": np.random.randint(0, 2, n_validade).astype(bool), \\\n",
    "                            \"target\": np.random.randint(0, 2, n_validade).astype(bool)})"
   ]
  },
  {
   "cell_type": "code",
   "execution_count": 3,
   "metadata": {},
   "outputs": [],
   "source": [
    "# Reduzindo a dimensionalidade para 3 componentes\n",
    "pca = PCA(n_components=3)"
   ]
  },
  {
   "cell_type": "code",
   "execution_count": 4,
   "metadata": {},
   "outputs": [],
   "source": [
    "# Aplicando o PCA aos datasets\n",
    "newdf_treino = pca.fit_transform(df_treino.drop('target', axis = 1))\n",
    "newdf_validade = pca.fit_transform(df_validade.drop('target', axis = 1))\n"
   ]
  },
  {
   "cell_type": "code",
   "execution_count": 5,
   "metadata": {},
   "outputs": [],
   "source": [
    "# Gerando novos datasets\n",
    "features_treino = pd.DataFrame(newdf_treino)\n",
    "features_validade = pd.DataFrame(newdf_validade)"
   ]
  },
  {
   "cell_type": "code",
   "execution_count": 6,
   "metadata": {},
   "outputs": [],
   "source": [
    "# Cria o modelo de regressão Logística\n",
    "regr = LogisticRegression()"
   ]
  },
  {
   "cell_type": "code",
   "execution_count": 7,
   "metadata": {},
   "outputs": [],
   "source": [
    "# Usando o recurso de pipeline do scikit-learn para encadear 2 algoritmos em um mesmo modelo, no caso PCA e Regressão Logística\n",
    "pipe = Pipeline([('pca', pca), ('logistic', regr)])\n",
    "pipe.fit(features_treino, df_treino['target'])\n",
    "predictions = pipe.predict(features_validade)"
   ]
  },
  {
   "cell_type": "code",
   "execution_count": 8,
   "metadata": {},
   "outputs": [
    {
     "name": "stdout",
     "output_type": "stream",
     "text": [
      "[ True  True False]\n"
     ]
    }
   ],
   "source": [
    "# Imprimindo as previsõs\n",
    "print(predictions)"
   ]
  },
  {
   "cell_type": "code",
   "execution_count": null,
   "metadata": {},
   "outputs": [],
   "source": []
  }
 ],
 "metadata": {
  "kernelspec": {
   "display_name": "Python 3",
   "language": "python",
   "name": "python3"
  },
  "language_info": {
   "codemirror_mode": {
    "name": "ipython",
    "version": 3
   },
   "file_extension": ".py",
   "mimetype": "text/x-python",
   "name": "python",
   "nbconvert_exporter": "python",
   "pygments_lexer": "ipython3",
   "version": "3.7.1"
  }
 },
 "nbformat": 4,
 "nbformat_minor": 2
}
