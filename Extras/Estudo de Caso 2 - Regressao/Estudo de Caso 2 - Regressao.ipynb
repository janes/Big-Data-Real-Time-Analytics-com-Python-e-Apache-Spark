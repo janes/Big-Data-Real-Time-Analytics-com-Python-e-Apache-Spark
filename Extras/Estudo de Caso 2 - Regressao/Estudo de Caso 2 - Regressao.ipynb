{
 "cells": [
  {
   "cell_type": "markdown",
   "metadata": {},
   "source": [
    "# Estudo de Caso 2 - Regressão"
   ]
  },
  {
   "cell_type": "markdown",
   "metadata": {},
   "source": [
    "Neste estudo de caso veremos como funciona a construção de um modelo preditivo do início ao fim. Resolveremos o problema de negócio usando técnicas de regressão.\n",
    "\n",
    "Definição do problema: Construir um modelo para prever o preço de uma casa na cidade de Boston, nos EUA. Para treinar nosso modelo preditivo, usaremos o dataset Boston House Price do repositório da UCI.\n",
    "\n",
    "Atributos do Dataset:\n",
    "\n",
    "1. CRIM: per capita crime rate by town\n",
    "2. ZN: proportion of residential land zoned for lots over 25,000 sq.ft.\n",
    "3. INDUS: proportion of non-retail business acres per town\n",
    "4. CHAS: Charles River dummy variable (= 1 if tract bounds river; 0 otherwise)\n",
    "5. NOX: nitric oxides concentration (parts per 10 million)\n",
    "6. RM: average number of rooms per dwelling\n",
    "7. AGE: proportion of owner-occupied units built prior to 1940\n",
    "8. DIS: weighted distances to five Boston employment centers\n",
    "9. RAD: index of accessibility to radial highways\n",
    "10. TAX: full-value property-tax rate per 10,000\n",
    "11. PTRATIO: pupil-teacher ratio by town\n",
    "12. Bk: proportion of blacks by town\n",
    "13. LSTAT: lower status of the population\n",
    "14. MEDV: Median value of owner-occupied homes in 1000s"
   ]
  },
  {
   "cell_type": "markdown",
   "metadata": {},
   "source": [
    "## Importando os módulos"
   ]
  },
  {
   "cell_type": "code",
   "execution_count": 8,
   "metadata": {},
   "outputs": [],
   "source": [
    "from sklearn.preprocessing import StandardScaler\n",
    "from sklearn.model_selection import GridSearchCV\n",
    "from sklearn.metrics import mean_squared_error\n",
    "from sklearn import model_selection\n",
    "from sklearn.linear_model import LinearRegression\n",
    "from sklearn.linear_model import Lasso\n",
    "from sklearn.linear_model import ElasticNet\n",
    "from sklearn.tree import DecisionTreeRegressor\n",
    "from sklearn.neighbors import KNeighborsRegressor\n",
    "from sklearn.svm import SVR\n",
    "from sklearn.pipeline import Pipeline\n",
    "from sklearn.ensemble import RandomForestRegressor\n",
    "from sklearn.ensemble import GradientBoostingRegressor\n",
    "from sklearn.ensemble import ExtraTreesRegressor\n",
    "from sklearn.ensemble import AdaBoostRegressor\n",
    "from xgboost import XGBClassifier\n",
    "from pandas import read_csv\n",
    "from pandas.tools.plotting import scatter_matrix\n",
    "import numpy as np\n",
    "import matplotlib.pyplot as plt\n",
    "%matplotlib inline\n",
    "import warnings\n",
    "warnings.filterwarnings(\"ignore\")"
   ]
  },
  {
   "cell_type": "markdown",
   "metadata": {},
   "source": [
    "## Carregando os dados"
   ]
  },
  {
   "cell_type": "code",
   "execution_count": 3,
   "metadata": {},
   "outputs": [],
   "source": [
    "# Carregando os dados e definindo o nome das colunas\n",
    "url = \"http://datascienceacademy.com.br/blog/aluno/Python-Spark/Datasets/boston-houses.csv\"\n",
    "colunas = ['CRIM', 'ZN', 'INDUS', 'CHAS', 'NOX', 'RM', 'AGE', 'DIS', 'RAD', 'TAX', 'PTRATIO', 'B', 'LSTAT', 'MEDV']\n",
    "dados = read_csv(url, delim_whitespace=True, names=colunas)"
   ]
  },
  {
   "cell_type": "markdown",
   "metadata": {},
   "source": [
    "## Sumarizando os dados"
   ]
  },
  {
   "cell_type": "code",
   "execution_count": 4,
   "metadata": {},
   "outputs": [
    {
     "name": "stdout",
     "output_type": "stream",
     "text": [
      "Shape\n",
      "(506, 14)\n",
      "Tipo de Dados\n",
      "CRIM       float64\n",
      "ZN         float64\n",
      "INDUS      float64\n",
      "CHAS         int64\n",
      "NOX        float64\n",
      "RM         float64\n",
      "AGE        float64\n",
      "DIS        float64\n",
      "RAD          int64\n",
      "TAX        float64\n",
      "PTRATIO    float64\n",
      "B          float64\n",
      "LSTAT      float64\n",
      "MEDV       float64\n",
      "dtype: object\n",
      "Lendo as primeiras linhas\n",
      "       CRIM    ZN  INDUS  CHAS    NOX     RM    AGE     DIS  RAD    TAX  \\\n",
      "0   0.00632  18.0   2.31     0  0.538  6.575   65.2  4.0900    1  296.0   \n",
      "1   0.02731   0.0   7.07     0  0.469  6.421   78.9  4.9671    2  242.0   \n",
      "2   0.02729   0.0   7.07     0  0.469  7.185   61.1  4.9671    2  242.0   \n",
      "3   0.03237   0.0   2.18     0  0.458  6.998   45.8  6.0622    3  222.0   \n",
      "4   0.06905   0.0   2.18     0  0.458  7.147   54.2  6.0622    3  222.0   \n",
      "5   0.02985   0.0   2.18     0  0.458  6.430   58.7  6.0622    3  222.0   \n",
      "6   0.08829  12.5   7.87     0  0.524  6.012   66.6  5.5605    5  311.0   \n",
      "7   0.14455  12.5   7.87     0  0.524  6.172   96.1  5.9505    5  311.0   \n",
      "8   0.21124  12.5   7.87     0  0.524  5.631  100.0  6.0821    5  311.0   \n",
      "9   0.17004  12.5   7.87     0  0.524  6.004   85.9  6.5921    5  311.0   \n",
      "10  0.22489  12.5   7.87     0  0.524  6.377   94.3  6.3467    5  311.0   \n",
      "11  0.11747  12.5   7.87     0  0.524  6.009   82.9  6.2267    5  311.0   \n",
      "12  0.09378  12.5   7.87     0  0.524  5.889   39.0  5.4509    5  311.0   \n",
      "13  0.62976   0.0   8.14     0  0.538  5.949   61.8  4.7075    4  307.0   \n",
      "14  0.63796   0.0   8.14     0  0.538  6.096   84.5  4.4619    4  307.0   \n",
      "15  0.62739   0.0   8.14     0  0.538  5.834   56.5  4.4986    4  307.0   \n",
      "16  1.05393   0.0   8.14     0  0.538  5.935   29.3  4.4986    4  307.0   \n",
      "17  0.78420   0.0   8.14     0  0.538  5.990   81.7  4.2579    4  307.0   \n",
      "18  0.80271   0.0   8.14     0  0.538  5.456   36.6  3.7965    4  307.0   \n",
      "19  0.72580   0.0   8.14     0  0.538  5.727   69.5  3.7965    4  307.0   \n",
      "\n",
      "    PTRATIO       B  LSTAT  MEDV  \n",
      "0      15.3  396.90   4.98  24.0  \n",
      "1      17.8  396.90   9.14  21.6  \n",
      "2      17.8  392.83   4.03  34.7  \n",
      "3      18.7  394.63   2.94  33.4  \n",
      "4      18.7  396.90   5.33  36.2  \n",
      "5      18.7  394.12   5.21  28.7  \n",
      "6      15.2  395.60  12.43  22.9  \n",
      "7      15.2  396.90  19.15  27.1  \n",
      "8      15.2  386.63  29.93  16.5  \n",
      "9      15.2  386.71  17.10  18.9  \n",
      "10     15.2  392.52  20.45  15.0  \n",
      "11     15.2  396.90  13.27  18.9  \n",
      "12     15.2  390.50  15.71  21.7  \n",
      "13     21.0  396.90   8.26  20.4  \n",
      "14     21.0  380.02  10.26  18.2  \n",
      "15     21.0  395.62   8.47  19.9  \n",
      "16     21.0  386.85   6.58  23.1  \n",
      "17     21.0  386.75  14.67  17.5  \n",
      "18     21.0  288.99  11.69  20.2  \n",
      "19     21.0  390.95  11.28  18.2  \n",
      "Describe das colunas\n",
      "             CRIM          ZN       INDUS        CHAS         NOX          RM  \\\n",
      "count  506.000000  506.000000  506.000000  506.000000  506.000000  506.000000   \n",
      "mean     3.613524   11.363636   11.136779    0.069170    0.554695    6.284634   \n",
      "std      8.601545   23.322453    6.860353    0.253994    0.115878    0.702617   \n",
      "min      0.006320    0.000000    0.460000    0.000000    0.385000    3.561000   \n",
      "25%      0.082045    0.000000    5.190000    0.000000    0.449000    5.885500   \n",
      "50%      0.256510    0.000000    9.690000    0.000000    0.538000    6.208500   \n",
      "75%      3.677082   12.500000   18.100000    0.000000    0.624000    6.623500   \n",
      "max     88.976200  100.000000   27.740000    1.000000    0.871000    8.780000   \n",
      "\n",
      "              AGE         DIS         RAD         TAX     PTRATIO           B  \\\n",
      "count  506.000000  506.000000  506.000000  506.000000  506.000000  506.000000   \n",
      "mean    68.574901    3.795043    9.549407  408.237154   18.455534  356.674032   \n",
      "std     28.148861    2.105710    8.707259  168.537116    2.164946   91.294864   \n",
      "min      2.900000    1.129600    1.000000  187.000000   12.600000    0.320000   \n",
      "25%     45.025000    2.100175    4.000000  279.000000   17.400000  375.377500   \n",
      "50%     77.500000    3.207450    5.000000  330.000000   19.050000  391.440000   \n",
      "75%     94.075000    5.188425   24.000000  666.000000   20.200000  396.225000   \n",
      "max    100.000000   12.126500   24.000000  711.000000   22.000000  396.900000   \n",
      "\n",
      "            LSTAT        MEDV  \n",
      "count  506.000000  506.000000  \n",
      "mean    12.653063   22.532806  \n",
      "std      7.141062    9.197104  \n",
      "min      1.730000    5.000000  \n",
      "25%      6.950000   17.025000  \n",
      "50%     11.360000   21.200000  \n",
      "75%     16.955000   25.000000  \n",
      "max     37.970000   50.000000  \n",
      "Correlação\n",
      "             CRIM        ZN     INDUS      CHAS       NOX        RM       AGE  \\\n",
      "CRIM     1.000000 -0.200469  0.406583 -0.055892  0.420972 -0.219247  0.352734   \n",
      "ZN      -0.200469  1.000000 -0.533828 -0.042697 -0.516604  0.311991 -0.569537   \n",
      "INDUS    0.406583 -0.533828  1.000000  0.062938  0.763651 -0.391676  0.644779   \n",
      "CHAS    -0.055892 -0.042697  0.062938  1.000000  0.091203  0.091251  0.086518   \n",
      "NOX      0.420972 -0.516604  0.763651  0.091203  1.000000 -0.302188  0.731470   \n",
      "RM      -0.219247  0.311991 -0.391676  0.091251 -0.302188  1.000000 -0.240265   \n",
      "AGE      0.352734 -0.569537  0.644779  0.086518  0.731470 -0.240265  1.000000   \n",
      "DIS     -0.379670  0.664408 -0.708027 -0.099176 -0.769230  0.205246 -0.747881   \n",
      "RAD      0.625505 -0.311948  0.595129 -0.007368  0.611441 -0.209847  0.456022   \n",
      "TAX      0.582764 -0.314563  0.720760 -0.035587  0.668023 -0.292048  0.506456   \n",
      "PTRATIO  0.289946 -0.391679  0.383248 -0.121515  0.188933 -0.355501  0.261515   \n",
      "B       -0.385064  0.175520 -0.356977  0.048788 -0.380051  0.128069 -0.273534   \n",
      "LSTAT    0.455621 -0.412995  0.603800 -0.053929  0.590879 -0.613808  0.602339   \n",
      "MEDV    -0.388305  0.360445 -0.483725  0.175260 -0.427321  0.695360 -0.376955   \n",
      "\n",
      "              DIS       RAD       TAX   PTRATIO         B     LSTAT      MEDV  \n",
      "CRIM    -0.379670  0.625505  0.582764  0.289946 -0.385064  0.455621 -0.388305  \n",
      "ZN       0.664408 -0.311948 -0.314563 -0.391679  0.175520 -0.412995  0.360445  \n",
      "INDUS   -0.708027  0.595129  0.720760  0.383248 -0.356977  0.603800 -0.483725  \n",
      "CHAS    -0.099176 -0.007368 -0.035587 -0.121515  0.048788 -0.053929  0.175260  \n",
      "NOX     -0.769230  0.611441  0.668023  0.188933 -0.380051  0.590879 -0.427321  \n",
      "RM       0.205246 -0.209847 -0.292048 -0.355501  0.128069 -0.613808  0.695360  \n",
      "AGE     -0.747881  0.456022  0.506456  0.261515 -0.273534  0.602339 -0.376955  \n",
      "DIS      1.000000 -0.494588 -0.534432 -0.232471  0.291512 -0.496996  0.249929  \n",
      "RAD     -0.494588  1.000000  0.910228  0.464741 -0.444413  0.488676 -0.381626  \n",
      "TAX     -0.534432  0.910228  1.000000  0.460853 -0.441808  0.543993 -0.468536  \n",
      "PTRATIO -0.232471  0.464741  0.460853  1.000000 -0.177383  0.374044 -0.507787  \n",
      "B        0.291512 -0.444413 -0.441808 -0.177383  1.000000 -0.366087  0.333461  \n",
      "LSTAT   -0.496996  0.488676  0.543993  0.374044 -0.366087  1.000000 -0.737663  \n",
      "MEDV     0.249929 -0.381626 -0.468536 -0.507787  0.333461 -0.737663  1.000000  \n"
     ]
    }
   ],
   "source": [
    "# Estatística Descritiva\n",
    "\n",
    "print(\"Shape\")\n",
    "print(dados.shape)\n",
    "\n",
    "print(\"Tipo de Dados\")\n",
    "print(dados.dtypes)\n",
    "\n",
    "# head\n",
    "print(\"Lendo as primeiras linhas\")\n",
    "print(dados.head(20))\n",
    "\n",
    "# Describe\n",
    "print(\"Describe das colunas\")\n",
    "print(dados.describe())\n",
    "\n",
    "print(\"Correlação\")\n",
    "print(dados.corr(method='pearson'))"
   ]
  },
  {
   "cell_type": "markdown",
   "metadata": {},
   "source": [
    "## Visualização de Dados"
   ]
  },
  {
   "cell_type": "code",
   "execution_count": 5,
   "metadata": {},
   "outputs": [
    {
     "data": {
      "image/png": "[encoded data removed]",
      "text/plain": [
       "<Figure size 432x288 with 16 Axes>"
      ]
     },
     "metadata": {},
     "output_type": "display_data"
    }
   ],
   "source": [
    "# Histograma - Visualização unimodal\n",
    "dados.hist()\n",
    "plt.show()"
   ]
  },
  {
   "cell_type": "code",
   "execution_count": 6,
   "metadata": {},
   "outputs": [
    {
     "data": {
      "image/png": "[encoded data removed]",
      "text/plain": [
       "<Figure size 432x288 with 2 Axes>"
      ]
     },
     "metadata": {},
     "output_type": "display_data"
    }
   ],
   "source": [
    "# Matriz de correlação\n",
    "fig = plt.figure()\n",
    "ax = fig.add_subplot(111)\n",
    "cax = ax.matshow(dados.corr(), vmin = -1, vmax = 1, interpolation = 'none')\n",
    "fig.colorbar(cax)\n",
    "ticks = np.arange(0,14,1)\n",
    "ax.set_xticks(ticks)\n",
    "ax.set_yticks(ticks)\n",
    "ax.set_xticklabels(colunas)\n",
    "ax.set_yticklabels(colunas)\n",
    "plt.show()"
   ]
  },
  {
   "cell_type": "markdown",
   "metadata": {},
   "source": [
    "## Preparação dos Dados"
   ]
  },
  {
   "cell_type": "code",
   "execution_count": 7,
   "metadata": {},
   "outputs": [],
   "source": [
    "# Separação de Dados de Treino e Teste\n",
    "dados_valores = dados.values\n",
    "\n",
    "# Variáveis independentes\n",
    "x = dados_valores[:,0:13]\n",
    "\n",
    "# Variável dependente\n",
    "y = dados_valores[:,13]\n",
    "\n",
    "# Conjunto de dados de treino e de teste\n",
    "x_treino, x_teste, y_treino, y_teste = model_selection.train_test_split(x, y, test_size = 0.20, random_state = 7)"
   ]
  },
  {
   "cell_type": "markdown",
   "metadata": {},
   "source": [
    "## Avaliação do Algoritmo"
   ]
  },
  {
   "cell_type": "code",
   "execution_count": 9,
   "metadata": {},
   "outputs": [
    {
     "name": "stdout",
     "output_type": "stream",
     "text": [
      "LR: -22.006009 (12.188886)\n",
      "LASSO: -27.105803 (13.165915)\n",
      "EN: -27.923014 (13.156405)\n",
      "KNN: -39.808936 (16.507968)\n",
      "CART: -24.710464 (16.672670)\n",
      "SVR: -85.676872 (34.383644)\n"
     ]
    }
   ],
   "source": [
    "# Criando modelo de Machine Leanring a partir de cada algoritmo\n",
    "# Vamos utilizar como métrica o MSE (Mean Squared Error). Valor igual a zero indica excelente nível de precisão.\n",
    "modelos = []\n",
    "modelos.append(('LR', LinearRegression()))\n",
    "modelos.append(('LASSO', Lasso()))\n",
    "modelos.append(('EN', ElasticNet()))\n",
    "modelos.append(('KNN', KNeighborsRegressor()))\n",
    "modelos.append(('CART', DecisionTreeRegressor()))\n",
    "modelos.append(('SVR', SVR()))\n",
    "resultados = []\n",
    "nomes = []\n",
    "\n",
    "# Percorrendo cada um dos modelos\n",
    "for nome, modelo in modelos:\n",
    "    kfold = model_selection.KFold(10, True, random_state=7)\n",
    "    cross_val_result = model_selection.cross_val_score(modelo,\n",
    "                                                      x_treino,\n",
    "                                                      y_treino,\n",
    "                                                      cv = kfold,\n",
    "                                                      scoring = 'neg_mean_squared_error')\n",
    "    resultados.append(cross_val_result)\n",
    "    nomes.append(nome)\n",
    "    texto = \"%s: %f (%f)\" % (nome, cross_val_result.mean(), cross_val_result.std())\n",
    "    print(texto)"
   ]
  },
  {
   "cell_type": "code",
   "execution_count": 10,
   "metadata": {},
   "outputs": [
    {
     "data": {
      "image/png": "[encoded data removed]",
      "text/plain": [
       "<Figure size 432x288 with 1 Axes>"
      ]
     },
     "metadata": {},
     "output_type": "display_data"
    }
   ],
   "source": [
    "# De acordo com os resultados anteriores, os modelos criados com Regressão Linear e CART apresentaram \n",
    "# os valores mais baixos para o MSE e portanto os melhores resultados.\n",
    "# Isso pode ser confirmado, comparando os algoritmos através de boxplots.\n",
    "fig = plt.figure()\n",
    "fig.suptitle(\"Comparando os algoritmos\")\n",
    "ax = fig.add_subplot(111)\n",
    "plt.boxplot(resultados)\n",
    "ax.set_xticklabels(nomes)\n",
    "plt.show()"
   ]
  },
  {
   "cell_type": "code",
   "execution_count": 11,
   "metadata": {},
   "outputs": [
    {
     "name": "stdout",
     "output_type": "stream",
     "text": [
      "Scaler-LR: -22.006009 (12.188886)\n",
      "Scaler-LASSO: -27.205896 (12.124418)\n",
      "Scaler-EN: -28.301160 (13.609110)\n",
      "Scaler-KNN: -21.456867 (15.016218)\n",
      "Scaler-CART: -26.581501 (18.757214)\n",
      "Scaler-SVR: -29.570433 (18.052964)\n"
     ]
    }
   ],
   "source": [
    "# Os dados estão em diferentes escalas e isso pode estar prejudicando a performance de alguns algoritmos.\n",
    "# Vamos avaliar novamente os algoritmos, mas agora padronizando os dados (colocando-os na mesma escala).\n",
    "# Aplicando Padronização ao conjunto de dados\n",
    "# Nesta técnica, os dados serão transformados de modo que estejam com uma dsitrbuição normal, com média igual a zero e\n",
    "# desvio padrão igual a 1.\n",
    "\n",
    "pipelines = []\n",
    "pipelines.append(('Scaler-LR', Pipeline([('Scaler', StandardScaler()),('LR', LinearRegression())])))\n",
    "pipelines.append(('Scaler-LASSO', Pipeline([('Scaler', StandardScaler()),('LASSO', Lasso())])))\n",
    "pipelines.append(('Scaler-EN', Pipeline([('Scaler', StandardScaler()),('EN', ElasticNet())])))\n",
    "pipelines.append(('Scaler-KNN', Pipeline([('Scaler', StandardScaler()),('KNN', KNeighborsRegressor())])))\n",
    "pipelines.append(('Scaler-CART', Pipeline([('Scaler', StandardScaler()),('CART', DecisionTreeRegressor())])))\n",
    "pipelines.append(('Scaler-SVR', Pipeline([('Scaler', StandardScaler()),('SVR', SVR())])))\n",
    "resultados = []\n",
    "nomes = []\n",
    "\n",
    "# Percorrendo cada um dos modelos\n",
    "for nome, modelo in pipelines:\n",
    "    kfold = model_selection.KFold(10, True, random_state=7)\n",
    "    cross_val_result = model_selection.cross_val_score(modelo,\n",
    "                                                      x_treino,\n",
    "                                                      y_treino,\n",
    "                                                      cv = kfold,\n",
    "                                                      scoring = 'neg_mean_squared_error')\n",
    "    resultados.append(cross_val_result)\n",
    "    nomes.append(nome)\n",
    "    texto = \"%s: %f (%f)\" % (nome, cross_val_result.mean(), cross_val_result.std())\n",
    "    print(texto)"
   ]
  },
  {
   "cell_type": "code",
   "execution_count": 12,
   "metadata": {},
   "outputs": [
    {
     "data": {
      "image/png": "[encoded data removed]",
      "text/plain": [
       "<Figure size 432x288 with 1 Axes>"
      ]
     },
     "metadata": {},
     "output_type": "display_data"
    }
   ],
   "source": [
    "# Nos resultdados anteriores, podemos perceber que a padronização gerou um efeito no modelo criado com algoritmo KNN,\n",
    "# reduzindo as taxa de erros.\n",
    "# A distribuição dos scores abaixo comprova que o KNN é o melhor algortimo para criar o modelo preditivo, \n",
    "# uma vez que ese dataset esteja padronizado.\n",
    "# Comparando os algoritmos\n",
    "fig = plt.figure()\n",
    "fig.suptitle(\"Comparando os Algoritmos Padronizados\")\n",
    "ax = fig.add_subplot(111)\n",
    "plt.boxplot(resultados)\n",
    "ax.set_xticklabels(nomes)\n",
    "plt.show()"
   ]
  },
  {
   "cell_type": "markdown",
   "metadata": {},
   "source": [
    "## Tuning do Modelo criado com KNN"
   ]
  },
  {
   "cell_type": "code",
   "execution_count": 13,
   "metadata": {},
   "outputs": [
    {
     "name": "stdout",
     "output_type": "stream",
     "text": [
      "Melhor MSE: -19.532921, utilizando {'n_neighbors': 1}\n",
      "-19.532921 (15.809604) with {'n_neighbors': 1}\n",
      "-19.976746 (13.845123) with {'n_neighbors': 3}\n",
      "-21.270695 (14.877693) with {'n_neighbors': 5}\n",
      "-21.595627 (15.016710) with {'n_neighbors': 7}\n",
      "-21.021208 (14.769371) with {'n_neighbors': 9}\n",
      "-21.507995 (14.939525) with {'n_neighbors': 11}\n",
      "-21.280531 (14.522987) with {'n_neighbors': 13}\n",
      "-21.975913 (14.273897) with {'n_neighbors': 15}\n",
      "-22.746000 (14.553729) with {'n_neighbors': 17}\n",
      "-23.511412 (14.961989) with {'n_neighbors': 19}\n",
      "-24.241155 (15.212979) with {'n_neighbors': 21}\n"
     ]
    }
   ],
   "source": [
    "# Embora o KNN tenha apresentado a menor taxa de erro após a padronização dos dados, podemos ainda otimizá-lo\n",
    "# com o ajuste dos parâmetros.\n",
    "\n",
    "# Definindo a escala\n",
    "scaler = StandardScaler().fit(x_treino)\n",
    "rescaledX = scaler.transform(x_treino)\n",
    "\n",
    "# Ajustando valores para o tamanho do k\n",
    "k_value = np.array([1,3,5,7,9,11,13,15,17,19,21])\n",
    "valores_grid = dict(n_neighbors = k_value)\n",
    "\n",
    "# Criando o modelo\n",
    "modelo = KNeighborsRegressor()\n",
    "\n",
    "# Definindo k\n",
    "kfold = model_selection.KFold(10, True, random_state=7)\n",
    "\n",
    "\n",
    "# Testando diferentes combinações com os valores de k\n",
    "grid = GridSearchCV(estimator=modelo, param_grid=valores_grid, scoring='neg_mean_squared_error', cv = kfold)\n",
    "grid_results = grid.fit(rescaledX, y_treino)\n",
    "\n",
    "\n",
    "# Print do resultado\n",
    "# De acordo com o resultado, o melhor valor de k é 3. Com isso alcançamos um MSE de -18, \n",
    "# o melhor até agora.\n",
    "\n",
    "# Alteração do print dos mean, std do resultado\n",
    "mean_score = [mean for mean in grid_results.cv_results_['mean_test_score']]\n",
    "\n",
    "# Criando uma lista com desvio padrão dos scores\n",
    "std_score = [std for std in grid_results.cv_results_['std_test_score']]\n",
    "\n",
    "# Criando uma lista com os parametros utilizados\n",
    "params = [params for params in grid_results.cv_results_['params']]\n",
    "\n",
    "# Variavel para indicar a linha da lista\n",
    "i = 0\n",
    "\n",
    "print(\"Melhor MSE: %f, utilizando %s\" % (grid_results.best_score_, grid_results.best_params_))\n",
    "\n",
    "for param in params:\n",
    "    print(\"%f (%f) with %r\" % (mean_score[i], std_score[i], param))\n",
    "    i = i + 1"
   ]
  },
  {
   "cell_type": "markdown",
   "metadata": {},
   "source": [
    "## Usando métodos Ensemble"
   ]
  },
  {
   "cell_type": "code",
   "execution_count": 14,
   "metadata": {},
   "outputs": [
    {
     "name": "stdout",
     "output_type": "stream",
     "text": [
      "Scaler-AB: -14.860336 (7.624586)\n",
      "Scaler-GBM: -10.968909 (8.592086)\n",
      "Scaler-RF: -13.320625 (10.749215)\n",
      "Scaler-ET: -11.575480 (8.054500)\n",
      "Scaler-XGBoost: -23.771487 (9.096182)\n"
     ]
    }
   ],
   "source": [
    "# *************** Dependendo do seu computador esta célula pode levar alguns minutos para ser executada **********\n",
    "\n",
    "# Métodos Ensemble são outra forma de otimizar o modelo preditivo. Vamos utilizar aqui:\n",
    "# Metodos Bagging - RandomForest e Extra Trees\n",
    "# Métodos Boosting - AdaBoost, Gradient Boosting e XGBoost\n",
    "\n",
    "ensembles = []\n",
    "ensembles.append(('Scaler-AB', Pipeline([('Scaler', StandardScaler()),('AB', AdaBoostRegressor())])))\n",
    "ensembles.append(('Scaler-GBM', Pipeline([('Scaler', StandardScaler()),('GBM', GradientBoostingRegressor())])))\n",
    "ensembles.append(('Scaler-RF', Pipeline([('Scaler', StandardScaler()),('RF', RandomForestRegressor())])))\n",
    "ensembles.append(('Scaler-ET', Pipeline([('Scaler', StandardScaler()),('ET', ExtraTreesRegressor())])))\n",
    "ensembles.append(('Scaler-XGBoost', Pipeline([('Scaler', StandardScaler()),('XG', XGBClassifier())])))\n",
    "resultados = []\n",
    "nomes = []\n",
    "\n",
    "# Percorrendo cada um dos modelos\n",
    "for nome, modelo in ensembles:\n",
    "    kfold = model_selection.KFold(10, True, random_state=7)\n",
    "    cross_val_result = model_selection.cross_val_score(modelo,\n",
    "                                                      x_treino,\n",
    "                                                      y_treino,\n",
    "                                                      cv = kfold,\n",
    "                                                      scoring = 'neg_mean_squared_error')\n",
    "    resultados.append(cross_val_result)\n",
    "    nomes.append(nome)\n",
    "    texto = \"%s: %f (%f)\" % (nome, cross_val_result.mean(), cross_val_result.std())\n",
    "    print(texto)"
   ]
  },
  {
   "cell_type": "code",
   "execution_count": 15,
   "metadata": {},
   "outputs": [
    {
     "data": {
      "image/png": "[encoded data removed]",
      "text/plain": [
       "<Figure size 432x288 with 1 Axes>"
      ]
     },
     "metadata": {},
     "output_type": "display_data"
    }
   ],
   "source": [
    "# **** Lembre-se: Cada algoritmo espera receber os dados em um formato/escala específicos e diversas variações ****\n",
    "# **** no dataset podem ser necessárias até que se consiga o modelo ideal. ****\n",
    "\n",
    "# Podemos ver que o Gradient Boosting apresentou o menor mean score e portanto a menor taxa de erro.\n",
    "# Vamos comprovar isso comparando os modelos criados com esses algoritmos\n",
    "fig = plt.figure()\n",
    "fig.suptitle(\"Comparando os Algoritmos Ensemble\")\n",
    "ax = fig.add_subplot(111)\n",
    "plt.boxplot(resultados)\n",
    "ax.set_xticklabels(nomes)\n",
    "plt.show()"
   ]
  },
  {
   "cell_type": "markdown",
   "metadata": {},
   "source": [
    "## Tuning do Modelo criado com GBM (Gradient Boosting Method)"
   ]
  },
  {
   "cell_type": "code",
   "execution_count": 16,
   "metadata": {},
   "outputs": [
    {
     "name": "stdout",
     "output_type": "stream",
     "text": [
      "Melhor MSE: -10.654941, utilizando {'n_estimators': 400}\n",
      "-11.722587 (8.878891) with {'n_estimators': 50}\n",
      "-11.172510 (8.816384) with {'n_estimators': 100}\n",
      "-10.930084 (8.780688) with {'n_estimators': 150}\n",
      "-10.877179 (8.702015) with {'n_estimators': 200}\n",
      "-10.747099 (8.585154) with {'n_estimators': 250}\n",
      "-10.742783 (8.542028) with {'n_estimators': 300}\n",
      "-10.682488 (8.457970) with {'n_estimators': 350}\n",
      "-10.654941 (8.397120) with {'n_estimators': 400}\n"
     ]
    }
   ],
   "source": [
    "# Embora o GBM tenha apresentado a menor taxa de erro entre os métodos ensemble, podemos ainda otimizá-lo\n",
    "# com o ajuste dos parâmetros.\n",
    "\n",
    "# Definindo a escala\n",
    "scaler = StandardScaler().fit(x_treino)\n",
    "rescaledX = scaler.transform(x_treino)\n",
    "\n",
    "# O número padrão de estimadores com o GBM é 100 (número de árvores). \n",
    "# Vamos testar outros valores para o estimador.\n",
    "valores_grid = dict(n_estimators = np.array([50,100,150,200,250,300,350,400]))\n",
    "\n",
    "# Criando o modelo\n",
    "modelo = GradientBoostingRegressor(random_state=7)\n",
    "\n",
    "# Definindo k\n",
    "kfold = model_selection.KFold(10, True, random_state=7)\n",
    "\n",
    "\n",
    "# Testando a combinação de parametros\n",
    "grid = GridSearchCV(estimator=modelo, param_grid=valores_grid, scoring='neg_mean_squared_error', cv = kfold)\n",
    "grid_results = grid.fit(rescaledX, y_treino)\n",
    "\n",
    "\n",
    "# Print do resultado\n",
    "# De acordo com o resultado, o melhor valor para os estimadores é 400. \n",
    "# Com isso alcançamos um MSE de -9, definitivamente um excelente nível de precisão.\n",
    "\n",
    "# Alteração do print dos mean, std do resultado\n",
    "mean_score = [mean for mean in grid_results.cv_results_['mean_test_score']]\n",
    "\n",
    "# Criando uma lista com desvio padrão dos scores\n",
    "std_score = [std for std in grid_results.cv_results_['std_test_score']]\n",
    "\n",
    "# Criando uma lista com os parametros utilizados\n",
    "params = [params for params in grid_results.cv_results_['params']]\n",
    "\n",
    "# Variavel para indicar a linha da lista\n",
    "i = 0\n",
    "\n",
    "print(\"Melhor MSE: %f, utilizando %s\" % (grid_results.best_score_, grid_results.best_params_))\n",
    "\n",
    "for param in params:\n",
    "    print(\"%f (%f) with %r\" % (mean_score[i], std_score[i], param))\n",
    "    i = i + 1"
   ]
  },
  {
   "cell_type": "markdown",
   "metadata": {},
   "source": [
    "## Finalizando o modelo preditivo"
   ]
  },
  {
   "cell_type": "code",
   "execution_count": 17,
   "metadata": {},
   "outputs": [
    {
     "data": {
      "text/plain": [
       "GradientBoostingRegressor(alpha=0.9, criterion='friedman_mse', init=None,\n",
       "             learning_rate=0.1, loss='ls', max_depth=3, max_features=None,\n",
       "             max_leaf_nodes=None, min_impurity_decrease=0.0,\n",
       "             min_impurity_split=None, min_samples_leaf=1,\n",
       "             min_samples_split=2, min_weight_fraction_leaf=0.0,\n",
       "             n_estimators=400, presort='auto', random_state=7,\n",
       "             subsample=1.0, verbose=0, warm_start=False)"
      ]
     },
     "execution_count": 17,
     "metadata": {},
     "output_type": "execute_result"
    }
   ],
   "source": [
    "# Preparando a versão final do modelo\n",
    "scaler = StandardScaler().fit(x_treino)\n",
    "rescaledX = scaler.transform(x_treino)\n",
    "modelo = GradientBoostingRegressor(random_state=7, n_estimators=400)\n",
    "modelo.fit(rescaledX, y_treino)"
   ]
  },
  {
   "cell_type": "code",
   "execution_count": 18,
   "metadata": {},
   "outputs": [
    {
     "name": "stdout",
     "output_type": "stream",
     "text": [
      "11.875252079219903\n"
     ]
    }
   ],
   "source": [
    "# Aplicando o modelo aos dados de teste\n",
    "rescaledValidationX= scaler.transform(x_teste)\n",
    "previsoes = modelo.predict(rescaledValidationX)\n",
    "\n",
    "# Nosso MSE nos dados de teste é de 11.8, muito próximo do que conseguimos nos dados de treino\n",
    "print(mean_squared_error(y_teste, previsoes))"
   ]
  },
  {
   "cell_type": "code",
   "execution_count": null,
   "metadata": {},
   "outputs": [],
   "source": []
  }
 ],
 "metadata": {
  "kernelspec": {
   "display_name": "Python 3",
   "language": "python",
   "name": "python3"
  },
  "language_info": {
   "codemirror_mode": {
    "name": "ipython",
    "version": 3
   },
   "file_extension": ".py",
   "mimetype": "text/x-python",
   "name": "python",
   "nbconvert_exporter": "python",
   "pygments_lexer": "ipython3",
   "version": "3.6.5"
  }
 },
 "nbformat": 4,
 "nbformat_minor": 2
}
