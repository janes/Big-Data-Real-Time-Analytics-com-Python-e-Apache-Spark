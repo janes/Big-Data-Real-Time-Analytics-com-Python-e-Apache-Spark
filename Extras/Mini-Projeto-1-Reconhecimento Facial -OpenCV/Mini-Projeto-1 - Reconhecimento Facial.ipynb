{
 "cells": [
  {
   "cell_type": "markdown",
   "metadata": {},
   "source": [
    "# Reconhecimento Facial utilizando OpenCV"
   ]
  },
  {
   "cell_type": "markdown",
   "metadata": {},
   "source": [
    "Neste projeto aplicaremos um classificador utilizando a biblioteca opencv, para treinar o reconhecimento de imagem.\n",
    "Utilizaremos o arquivo haarcascade_frontalface_alt.xml fornecido pela opencv com os parametros de classificação"
   ]
  },
  {
   "cell_type": "code",
   "execution_count": 1,
   "metadata": {},
   "outputs": [
    {
     "name": "stdout",
     "output_type": "stream",
     "text": [
      "Collecting opencv-python\n",
      "  Downloading https://files.pythonhosted.org/packages/96/30/99bd865802cd5f425c42efd2ee4e10bd3bc605640008f03e3c72a1dbe320/opencv_python-4.0.0.21-cp36-cp36m-win_amd64.whl (30.4MB)\n",
      "Requirement already satisfied: numpy>=1.11.3 in c:\\users\\aline.assuncao\\appdata\\local\\continuum\\anaconda3\\lib\\site-packages (from opencv-python) (1.14.3)\n",
      "Installing collected packages: opencv-python\n",
      "Successfully installed opencv-python-4.0.0.21\n"
     ]
    }
   ],
   "source": [
    "# Instalando o OpenCV\n",
    "!pip install opencv-python"
   ]
  },
  {
   "cell_type": "code",
   "execution_count": 25,
   "metadata": {},
   "outputs": [],
   "source": [
    "# Importando o modulo do opencv\n",
    "import cv2"
   ]
  },
  {
   "cell_type": "code",
   "execution_count": 26,
   "metadata": {},
   "outputs": [
    {
     "data": {
      "text/plain": [
       "'4.0.0'"
      ]
     },
     "execution_count": 26,
     "metadata": {},
     "output_type": "execute_result"
    }
   ],
   "source": [
    "cv2.__version__"
   ]
  },
  {
   "cell_type": "code",
   "execution_count": 27,
   "metadata": {},
   "outputs": [
    {
     "data": {
      "text/html": [
       "<img src=\"Imagem/foto.jpg\"/>"
      ],
      "text/plain": [
       "<IPython.core.display.Image object>"
      ]
     },
     "execution_count": 27,
     "metadata": {},
     "output_type": "execute_result"
    }
   ],
   "source": [
    "from IPython.display import Image\n",
    "Image(url = 'Imagem/foto.jpg')"
   ]
  },
  {
   "cell_type": "code",
   "execution_count": 28,
   "metadata": {},
   "outputs": [],
   "source": [
    "# O arquivo haarcascade_frontalface_alt.xml possui as regras de classificacao (abra o arquivo e verifique seu conteudo)\n",
    "\n",
    "# Windows:\n",
    "# arquivo_parametros = 'C:/tmp/haarcascade_frontalface_alt.xml'\n",
    "\n",
    "# MacOS ou Linux\n",
    "# arquivo_parametros = '/Users/dmpm/Dropbox/DSA/BigDataAnalytics-Python-Spark/Projetos/Projeto1/haarcascade_frontalface_alt.xml'\n",
    "\n",
    "arquivo_parametros = 'haarcascades/haarcascade_frontalface_alt.xml'"
   ]
  },
  {
   "cell_type": "code",
   "execution_count": 29,
   "metadata": {},
   "outputs": [],
   "source": [
    "# Executando o classificador\n",
    "classificador_Cascade = cv2.CascadeClassifier(arquivo_parametros)"
   ]
  },
  {
   "cell_type": "code",
   "execution_count": 30,
   "metadata": {},
   "outputs": [],
   "source": [
    "# Leitura da imagem\n",
    "imagem = cv2.imread('Imagem/foto.jpg')"
   ]
  },
  {
   "cell_type": "code",
   "execution_count": 31,
   "metadata": {},
   "outputs": [],
   "source": [
    "# Conversão da imagem em escala de cinza (gray)\n",
    "grayImage = cv2.cvtColor(imagem, cv2.COLOR_BGR2GRAY)"
   ]
  },
  {
   "cell_type": "code",
   "execution_count": 32,
   "metadata": {},
   "outputs": [
    {
     "data": {
      "text/plain": [
       "array([[199, 196, 196, ..., 171, 176, 177],\n",
       "       [199, 197, 197, ..., 174, 168, 173],\n",
       "       [198, 196, 195, ..., 173, 173, 177],\n",
       "       ...,\n",
       "       [154, 154, 156, ..., 114, 110, 109],\n",
       "       [153, 164, 157, ..., 117, 114, 129],\n",
       "       [158, 152, 147, ..., 110, 123, 126]], dtype=uint8)"
      ]
     },
     "execution_count": 32,
     "metadata": {},
     "output_type": "execute_result"
    }
   ],
   "source": [
    "grayImage"
   ]
  },
  {
   "cell_type": "code",
   "execution_count": 33,
   "metadata": {},
   "outputs": [],
   "source": [
    "faces = classificador_Cascade.detectMultiScale(grayImage, scaleFactor = 1.1, minNeighbors = 10, minSize = (30,30))"
   ]
  },
  {
   "cell_type": "code",
   "execution_count": 34,
   "metadata": {},
   "outputs": [
    {
     "data": {
      "text/plain": [
       "array([[ 88,  23,  45,  45],\n",
       "       [311,  24,  51,  51],\n",
       "       [848,  25,  50,  50],\n",
       "       [ 99, 340,  53,  53],\n",
       "       [759, 357,  51,  51],\n",
       "       [377,  36,  48,  48],\n",
       "       [542,  44,  45,  45],\n",
       "       [226,  50,  48,  48],\n",
       "       [158,  48,  46,  46],\n",
       "       [615,  44,  46,  46],\n",
       "       [305, 361,  56,  56],\n",
       "       [558, 372,  54,  54],\n",
       "       [883, 373,  54,  54],\n",
       "       [639, 380,  48,  48],\n",
       "       [389, 381,  51,  51],\n",
       "       [ 60,  67,  50,  50],\n",
       "       [680,  79,  48,  48],\n",
       "       [411,  99,  47,  47],\n",
       "       [847, 135,  50,  50],\n",
       "       [520, 113,  48,  48],\n",
       "       [800, 110,  50,  50],\n",
       "       [595, 115,  49,  49],\n",
       "       [176, 120,  49,  49],\n",
       "       [293, 107,  47,  47]], dtype=int32)"
      ]
     },
     "execution_count": 34,
     "metadata": {},
     "output_type": "execute_result"
    }
   ],
   "source": [
    "faces"
   ]
  },
  {
   "cell_type": "code",
   "execution_count": 35,
   "metadata": {},
   "outputs": [],
   "source": [
    "# Aplicação das regras. Vejamos que as faces são agora uma lista de elementos pela qual percorremos com um loop for\n",
    "for (x, y, width, height) in faces:\n",
    "    cv2.rectangle(imagem, (x, y), (x + width, y + height),(0, 0, 255), 10)"
   ]
  },
  {
   "cell_type": "code",
   "execution_count": 36,
   "metadata": {},
   "outputs": [
    {
     "data": {
      "text/plain": [
       "True"
      ]
     },
     "execution_count": 36,
     "metadata": {},
     "output_type": "execute_result"
    }
   ],
   "source": [
    "# Gravando o resultado 1\n",
    "cv2.imwrite('Resultados/resultado1.jpg', imagem)"
   ]
  },
  {
   "cell_type": "code",
   "execution_count": 37,
   "metadata": {},
   "outputs": [
    {
     "data": {
      "text/plain": [
       "True"
      ]
     },
     "execution_count": 37,
     "metadata": {},
     "output_type": "execute_result"
    }
   ],
   "source": [
    "# Alterando os parametros e gravando resultado 2 (altera a cor)\n",
    "for (x, y, width, height) in faces:\n",
    "    cv2.rectangle(imagem, (x, y), (x + width, y + height),(0, 0, 2), 10)\n",
    "    \n",
    "cv2.imwrite('Resultados/resultado2.jpg', imagem)"
   ]
  },
  {
   "cell_type": "code",
   "execution_count": null,
   "metadata": {},
   "outputs": [],
   "source": []
  }
 ],
 "metadata": {
  "kernelspec": {
   "display_name": "Python 3",
   "language": "python",
   "name": "python3"
  },
  "language_info": {
   "codemirror_mode": {
    "name": "ipython",
    "version": 3
   },
   "file_extension": ".py",
   "mimetype": "text/x-python",
   "name": "python",
   "nbconvert_exporter": "python",
   "pygments_lexer": "ipython3",
   "version": "3.6.5"
  }
 },
 "nbformat": 4,
 "nbformat_minor": 2
}
