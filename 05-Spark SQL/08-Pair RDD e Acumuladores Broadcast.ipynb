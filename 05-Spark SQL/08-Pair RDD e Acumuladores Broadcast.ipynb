{
 "cells": [
  {
   "cell_type": "markdown",
   "metadata": {},
   "source": [
    "# Pares RDD (Pair RDD)"
   ]
  },
  {
   "cell_type": "code",
   "execution_count": 1,
   "metadata": {},
   "outputs": [],
   "source": [
    "# Importando arquivo csv e criando um RDD\n",
    "carros = sc.textFile(\"data/carros.csv\")"
   ]
  },
  {
   "cell_type": "code",
   "execution_count": 2,
   "metadata": {},
   "outputs": [
    {
     "data": {
      "text/plain": [
       "['MAKE,FUELTYPE,ASPIRE,DOORS,BODY,DRIVE,CYLINDERS,HP,RPM,MPG-CITY,MPG-HWY,PRICE',\n",
       " 'subaru,gas,std,two,hatchback,fwd,four,69,4900,31,36,5118',\n",
       " 'chevrolet,gas,std,two,hatchback,fwd,three,48,5100,47,53,5151',\n",
       " 'mazda,gas,std,two,hatchback,fwd,four,68,5000,30,31,5195',\n",
       " 'toyota,gas,std,two,hatchback,fwd,four,62,4800,35,39,5348']"
      ]
     },
     "execution_count": 2,
     "metadata": {},
     "output_type": "execute_result"
    }
   ],
   "source": [
    "carros.take(5)"
   ]
  },
  {
   "cell_type": "code",
   "execution_count": 3,
   "metadata": {},
   "outputs": [
    {
     "data": {
      "text/plain": [
       "[('MAKE', 'HP'),\n",
       " ('subaru', '69'),\n",
       " ('chevrolet', '48'),\n",
       " ('mazda', '68'),\n",
       " ('toyota', '62')]"
      ]
     },
     "execution_count": 3,
     "metadata": {},
     "output_type": "execute_result"
    }
   ],
   "source": [
    "# Criando um Pair RDD\n",
    "carrosPairRDD = carros.map(lambda x: (x.split(\",\")[0], x.split(\",\")[7]))\n",
    "carrosPairRDD.take(5)"
   ]
  },
  {
   "cell_type": "code",
   "execution_count": 4,
   "metadata": {},
   "outputs": [],
   "source": [
    "# Removendo o cabeçalho\n",
    "header = carrosPairRDD.first()\n",
    "carrosPairRDD2 = carrosPairRDD.filter(lambda line: line != header)"
   ]
  },
  {
   "cell_type": "code",
   "execution_count": 5,
   "metadata": {},
   "outputs": [
    {
     "data": {
      "text/plain": [
       "[('subaru', ('69', 1)),\n",
       " ('chevrolet', ('48', 1)),\n",
       " ('mazda', ('68', 1)),\n",
       " ('toyota', ('62', 1)),\n",
       " ('mitsubishi', ('68', 1)),\n",
       " ('honda', ('60', 1)),\n",
       " ('nissan', ('69', 1)),\n",
       " ('dodge', ('68', 1)),\n",
       " ('plymouth', ('68', 1)),\n",
       " ('mazda', ('68', 1)),\n",
       " ('mitsubishi', ('68', 1)),\n",
       " ('dodge', ('68', 1)),\n",
       " ('plymouth', ('68', 1)),\n",
       " ('chevrolet', ('70', 1)),\n",
       " ('toyota', ('62', 1)),\n",
       " ('dodge', ('68', 1)),\n",
       " ('honda', ('58', 1)),\n",
       " ('toyota', ('62', 1)),\n",
       " ('honda', ('76', 1)),\n",
       " ('chevrolet', ('70', 1)),\n",
       " ('nissan', ('69', 1)),\n",
       " ('mitsubishi', ('68', 1)),\n",
       " ('dodge', ('68', 1)),\n",
       " ('plymouth', ('68', 1)),\n",
       " ('mazda', ('68', 1)),\n",
       " ('isuzu', ('78', 1)),\n",
       " ('mazda', ('68', 1)),\n",
       " ('nissan', ('69', 1)),\n",
       " ('honda', ('76', 1)),\n",
       " ('toyota', ('62', 1)),\n",
       " ('toyota', ('70', 1)),\n",
       " ('mitsubishi', ('88', 1)),\n",
       " ('subaru', ('73', 1)),\n",
       " ('nissan', ('55', 1)),\n",
       " ('subaru', ('82', 1)),\n",
       " ('honda', ('76', 1)),\n",
       " ('toyota', ('70', 1)),\n",
       " ('honda', ('76', 1)),\n",
       " ('honda', ('76', 1)),\n",
       " ('nissan', ('69', 1)),\n",
       " ('nissan', ('69', 1)),\n",
       " ('mazda', ('68', 1)),\n",
       " ('subaru', ('82', 1)),\n",
       " ('nissan', ('69', 1)),\n",
       " ('subaru', ('73', 1)),\n",
       " ('dodge', ('68', 1)),\n",
       " ('plymouth', ('68', 1)),\n",
       " ('mitsubishi', ('102', 1)),\n",
       " ('toyota', ('70', 1)),\n",
       " ('subaru', ('82', 1)),\n",
       " ('volkswagen', ('52', 1)),\n",
       " ('toyota', ('56', 1)),\n",
       " ('nissan', ('69', 1)),\n",
       " ('honda', ('86', 1)),\n",
       " ('toyota', ('62', 1)),\n",
       " ('toyota', ('56', 1)),\n",
       " ('dodge', ('102', 1)),\n",
       " ('plymouth', ('102', 1)),\n",
       " ('volkswagen', ('85', 1)),\n",
       " ('volkswagen', ('52', 1)),\n",
       " ('nissan', ('69', 1)),\n",
       " ('subaru', ('82', 1)),\n",
       " ('toyota', ('70', 1)),\n",
       " ('mitsubishi', ('88', 1)),\n",
       " ('volkswagen', ('85', 1)),\n",
       " ('toyota', ('70', 1)),\n",
       " ('nissan', ('69', 1)),\n",
       " ('toyota', ('70', 1)),\n",
       " ('toyota', ('116', 1)),\n",
       " ('mazda', ('84', 1)),\n",
       " ('volkswagen', ('85', 1)),\n",
       " ('mitsubishi', ('88', 1)),\n",
       " ('toyota', ('62', 1)),\n",
       " ('honda', ('86', 1)),\n",
       " ('mazda', ('84', 1)),\n",
       " ('dodge', ('88', 1)),\n",
       " ('plymouth', ('88', 1)),\n",
       " ('toyota', ('92', 1)),\n",
       " ('nissan', ('97', 1)),\n",
       " ('honda', ('86', 1)),\n",
       " ('subaru', ('82', 1)),\n",
       " ('toyota', ('70', 1)),\n",
       " ('mitsubishi', ('116', 1)),\n",
       " ('mitsubishi', ('116', 1)),\n",
       " ('toyota', ('112', 1)),\n",
       " ('volkswagen', ('68', 1)),\n",
       " ('toyota', ('112', 1)),\n",
       " ('nissan', ('97', 1)),\n",
       " ('toyota', ('116', 1)),\n",
       " ('mitsubishi', ('116', 1)),\n",
       " ('subaru', ('94', 1)),\n",
       " ('volkswagen', ('90', 1)),\n",
       " ('toyota', ('92', 1)),\n",
       " ('toyota', ('116', 1)),\n",
       " ('volkswagen', ('100', 1)),\n",
       " ('subaru', ('94', 1)),\n",
       " ('mazda', ('84', 1)),\n",
       " ('honda', ('86', 1)),\n",
       " ('honda', ('100', 1)),\n",
       " ('mazda', ('84', 1)),\n",
       " ('toyota', ('73', 1)),\n",
       " ('toyota', ('92', 1)),\n",
       " ('mazda', ('101', 1)),\n",
       " ('isuzu', ('90', 1)),\n",
       " ('toyota', ('116', 1)),\n",
       " ('mazda', ('84', 1)),\n",
       " ('toyota', ('92', 1)),\n",
       " ('subaru', ('111', 1)),\n",
       " ('toyota', ('116', 1)),\n",
       " ('volkswagen', ('90', 1)),\n",
       " ('subaru', ('111', 1)),\n",
       " ('mazda', ('101', 1)),\n",
       " ('saab', ('110', 1)),\n",
       " ('peugot', ('97', 1)),\n",
       " ('saab', ('110', 1)),\n",
       " ('volkswagen', ('88', 1)),\n",
       " ('peugot', ('97', 1)),\n",
       " ('mitsubishi', ('145', 1)),\n",
       " ('plymouth', ('145', 1)),\n",
       " ('volvo', ('114', 1)),\n",
       " ('honda', ('101', 1)),\n",
       " ('dodge', ('145', 1)),\n",
       " ('peugot', ('95', 1)),\n",
       " ('volkswagen', ('110', 1)),\n",
       " ('volvo', ('114', 1)),\n",
       " ('alfa-romero', ('111', 1)),\n",
       " ('nissan', ('152', 1)),\n",
       " ('nissan', ('152', 1)),\n",
       " ('mazda', ('101', 1)),\n",
       " ('volkswagen', ('68', 1)),\n",
       " ('peugot', ('95', 1)),\n",
       " ('audi', ('102', 1)),\n",
       " ('nissan', ('152', 1)),\n",
       " ('mitsubishi', ('145', 1)),\n",
       " ('mitsubishi', ('145', 1)),\n",
       " ('saab', ('110', 1)),\n",
       " ('audi', ('110', 1)),\n",
       " ('saab', ('110', 1)),\n",
       " ('peugot', ('95', 1)),\n",
       " ('mazda', ('135', 1)),\n",
       " ('toyota', ('156', 1)),\n",
       " ('toyota', ('156', 1)),\n",
       " ('volvo', ('114', 1)),\n",
       " ('toyota', ('161', 1)),\n",
       " ('bmw', ('101', 1)),\n",
       " ('alfa-romero', ('111', 1)),\n",
       " ('alfa-romero', ('154', 1)),\n",
       " ('mercury', ('175', 1)),\n",
       " ('volvo', ('114', 1)),\n",
       " ('toyota', ('161', 1)),\n",
       " ('peugot', ('97', 1)),\n",
       " ('peugot', ('95', 1)),\n",
       " ('volvo', ('114', 1)),\n",
       " ('peugot', ('95', 1)),\n",
       " ('bmw', ('101', 1)),\n",
       " ('peugot', ('95', 1)),\n",
       " ('nissan', ('160', 1)),\n",
       " ('audi', ('115', 1)),\n",
       " ('toyota', ('116', 1)),\n",
       " ('audi', ('110', 1)),\n",
       " ('peugot', ('95', 1)),\n",
       " ('peugot', ('142', 1)),\n",
       " ('saab', ('160', 1)),\n",
       " ('mazda', ('120', 1)),\n",
       " ('mazda', ('72', 1)),\n",
       " ('nissan', ('160', 1)),\n",
       " ('volvo', ('162', 1)),\n",
       " ('saab', ('160', 1)),\n",
       " ('audi', ('110', 1)),\n",
       " ('volvo', ('162', 1)),\n",
       " ('volvo', ('160', 1)),\n",
       " ('nissan', ('200', 1)),\n",
       " ('bmw', ('121', 1)),\n",
       " ('bmw', ('121', 1)),\n",
       " ('volvo', ('134', 1)),\n",
       " ('porsche', ('143', 1)),\n",
       " ('volvo', ('106', 1)),\n",
       " ('volvo', ('114', 1)),\n",
       " ('audi', ('140', 1)),\n",
       " ('bmw', ('121', 1)),\n",
       " ('mercedes-benz', ('123', 1)),\n",
       " ('mercedes-benz', ('123', 1)),\n",
       " ('mercedes-benz', ('123', 1)),\n",
       " ('bmw', ('182', 1)),\n",
       " ('mercedes-benz', ('123', 1)),\n",
       " ('jaguar', ('176', 1)),\n",
       " ('porsche', ('207', 1)),\n",
       " ('porsche', ('207', 1)),\n",
       " ('mercedes-benz', ('155', 1)),\n",
       " ('mercedes-benz', ('155', 1)),\n",
       " ('jaguar', ('176', 1)),\n",
       " ('jaguar', ('262', 1)),\n",
       " ('bmw', ('182', 1)),\n",
       " ('porsche', ('207', 1)),\n",
       " ('mercedes-benz', ('184', 1)),\n",
       " ('bmw', ('182', 1)),\n",
       " ('mercedes-benz', ('184', 1))]"
      ]
     },
     "execution_count": 5,
     "metadata": {},
     "output_type": "execute_result"
    }
   ],
   "source": [
    "# Encontra a média de HP por marca de carro e adiciona 1 a cada contagem\n",
    "addOne = carrosPairRDD2.mapValues(lambda x: (x, 1))\n",
    "addOne.collect()"
   ]
  },
  {
   "cell_type": "code",
   "execution_count": 6,
   "metadata": {},
   "outputs": [
    {
     "data": {
      "text/plain": [
       "[('chevrolet', (70, 3)),\n",
       " ('mazda', (72, 16)),\n",
       " ('mitsubishi', (145, 13)),\n",
       " ('nissan', (200, 18)),\n",
       " ('dodge', (145, 8)),\n",
       " ('plymouth', (145, 7)),\n",
       " ('saab', (160, 6)),\n",
       " ('volvo', (114, 11)),\n",
       " ('alfa-romero', (154, 3)),\n",
       " ('mercedes-benz', (184, 8)),\n",
       " ('jaguar', (262, 3)),\n",
       " ('subaru', (111, 12)),\n",
       " ('toyota', (116, 32)),\n",
       " ('honda', (101, 13)),\n",
       " ('isuzu', (90, 2)),\n",
       " ('volkswagen', (68, 12)),\n",
       " ('peugot', (142, 11)),\n",
       " ('audi', (140, 6)),\n",
       " ('bmw', (182, 8)),\n",
       " ('mercury', ('175', 1)),\n",
       " ('porsche', (207, 4))]"
      ]
     },
     "execution_count": 6,
     "metadata": {},
     "output_type": "execute_result"
    }
   ],
   "source": [
    "# Aplicando redução por key (reduceByKey) e conta a quantidade de fabricantes\n",
    "# de carro, a média de HP e o nome do fabricante\n",
    "fabricantes = addOne.reduceByKey(lambda x, y: (int(y[0]), x[1] + y[1]))\n",
    "fabricantes.collect()"
   ]
  },
  {
   "cell_type": "code",
   "execution_count": 7,
   "metadata": {},
   "outputs": [
    {
     "data": {
      "text/plain": [
       "[('chevrolet', 23.333333333333332),\n",
       " ('mazda', 4.5),\n",
       " ('mitsubishi', 11.153846153846153),\n",
       " ('nissan', 11.11111111111111),\n",
       " ('dodge', 18.125),\n",
       " ('plymouth', 20.714285714285715),\n",
       " ('saab', 26.666666666666668),\n",
       " ('volvo', 10.363636363636363),\n",
       " ('alfa-romero', 51.333333333333336),\n",
       " ('mercedes-benz', 23.0),\n",
       " ('jaguar', 87.33333333333333),\n",
       " ('subaru', 9.25),\n",
       " ('toyota', 3.625),\n",
       " ('honda', 7.769230769230769),\n",
       " ('isuzu', 45.0),\n",
       " ('volkswagen', 5.666666666666667),\n",
       " ('peugot', 12.909090909090908),\n",
       " ('audi', 23.333333333333332),\n",
       " ('bmw', 22.75),\n",
       " ('mercury', 175.0),\n",
       " ('porsche', 51.75)]"
      ]
     },
     "execution_count": 7,
     "metadata": {},
     "output_type": "execute_result"
    }
   ],
   "source": [
    "# Calculando a média de HP dividindo pela contagem total\n",
    "fabricantes.mapValues(lambda x: int(x[0]) / int(x[1])).collect()"
   ]
  },
  {
   "cell_type": "markdown",
   "metadata": {},
   "source": [
    "# Accumulators e Broadcast"
   ]
  },
  {
   "cell_type": "code",
   "execution_count": 8,
   "metadata": {},
   "outputs": [],
   "source": [
    "# Inicializando variáveis Accumulator\n",
    "sedanCount = sc.accumulator(0)\n",
    "hatchbackCount = sc.accumulator(0)"
   ]
  },
  {
   "cell_type": "code",
   "execution_count": 10,
   "metadata": {},
   "outputs": [],
   "source": [
    "# Inicializando variáveis Broadcast\n",
    "sedanText = sc.broadcast(\"sedan\")\n",
    "hatchbackText = sc.broadcast(\"hatchback\")"
   ]
  },
  {
   "cell_type": "code",
   "execution_count": 11,
   "metadata": {},
   "outputs": [],
   "source": [
    "def splitLines(line):\n",
    "    \n",
    "    global sedanCount\n",
    "    global hatchbackCount\n",
    "    \n",
    "    # Usa a variavel broadcast para comparar e configurar o accumulator\n",
    "    if sedanText.value in line:\n",
    "        sedanCount += 1\n",
    "    if hatchbackText.value in line:\n",
    "        hatchbackCount += 1\n",
    "        \n",
    "    return line.split(\",\")"
   ]
  },
  {
   "cell_type": "code",
   "execution_count": 13,
   "metadata": {},
   "outputs": [],
   "source": [
    "# map()\n",
    "splitData = carros.map(splitLines)"
   ]
  },
  {
   "cell_type": "code",
   "execution_count": 14,
   "metadata": {},
   "outputs": [
    {
     "name": "stdout",
     "output_type": "stream",
     "text": [
      "92 67\n"
     ]
    }
   ],
   "source": [
    "# Ação para executar a transformação (lazy evaluation)\n",
    "splitData.count()\n",
    "print(sedanCount, hatchbackCount)"
   ]
  },
  {
   "cell_type": "markdown",
   "metadata": {},
   "source": [
    "# Partições"
   ]
  },
  {
   "cell_type": "code",
   "execution_count": 15,
   "metadata": {},
   "outputs": [
    {
     "data": {
      "text/plain": [
       "2"
      ]
     },
     "execution_count": 15,
     "metadata": {},
     "output_type": "execute_result"
    }
   ],
   "source": [
    "fabricantes.getNumPartitions()"
   ]
  },
  {
   "cell_type": "code",
   "execution_count": 16,
   "metadata": {},
   "outputs": [
    {
     "data": {
      "text/plain": [
       "5"
      ]
     },
     "execution_count": 16,
     "metadata": {},
     "output_type": "execute_result"
    }
   ],
   "source": [
    "# Especificando o número de partiçõees\n",
    "collData = sc.parallelize([3, 5, 4, 7, 4],3)\n",
    "collData.cache()\n",
    "collData.count()"
   ]
  },
  {
   "cell_type": "code",
   "execution_count": 17,
   "metadata": {},
   "outputs": [
    {
     "data": {
      "text/plain": [
       "3"
      ]
     },
     "execution_count": 17,
     "metadata": {},
     "output_type": "execute_result"
    }
   ],
   "source": [
    "collData.getNumPartitions()"
   ]
  },
  {
   "cell_type": "code",
   "execution_count": 18,
   "metadata": {},
   "outputs": [
    {
     "name": "stdout",
     "output_type": "stream",
     "text": [
      "2\n"
     ]
    }
   ],
   "source": [
    "print(sc.defaultParallelism)"
   ]
  },
  {
   "cell_type": "code",
   "execution_count": null,
   "metadata": {},
   "outputs": [],
   "source": []
  }
 ],
 "metadata": {
  "kernelspec": {
   "display_name": "Python 3",
   "language": "python",
   "name": "python3"
  },
  "language_info": {
   "codemirror_mode": {
    "name": "ipython",
    "version": 3
   },
   "file_extension": ".py",
   "mimetype": "text/x-python",
   "name": "python",
   "nbconvert_exporter": "python",
   "pygments_lexer": "ipython3",
   "version": "3.6.5"
  }
 },
 "nbformat": 4,
 "nbformat_minor": 2
}
