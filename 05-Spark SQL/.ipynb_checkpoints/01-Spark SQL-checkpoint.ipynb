{
 "cells": [
  {
   "cell_type": "markdown",
   "metadata": {},
   "source": [
    "# Spark SQL"
   ]
  },
  {
   "cell_type": "markdown",
   "metadata": {},
   "source": [
    "## Spark SQL e RDD's"
   ]
  },
  {
   "cell_type": "code",
   "execution_count": 1,
   "metadata": {},
   "outputs": [],
   "source": [
    "from pyspark.sql import SparkSession\n",
    "from pyspark.sql import SQLContext\n",
    "from pyspark.sql import Row"
   ]
  },
  {
   "cell_type": "code",
   "execution_count": 2,
   "metadata": {},
   "outputs": [
    {
     "name": "stdout",
     "output_type": "stream",
     "text": [
      "<SparkContext master=local[*] appName=PySparkShell>\n"
     ]
    }
   ],
   "source": [
    "print(sc)"
   ]
  },
  {
   "cell_type": "code",
   "execution_count": 3,
   "metadata": {},
   "outputs": [],
   "source": [
    "# Spark Session - usada quando se trabalha com Dataframes no spark\n",
    "spSession = SparkSession.builder.master(\"local\").appName(\"DSA-SparkSQL\").config(\"spark.some.config.option\", \"some-value\").getOrCreate()"
   ]
  },
  {
   "cell_type": "code",
   "execution_count": 4,
   "metadata": {},
   "outputs": [],
   "source": [
    "# Criando o SQL Contect para trabalhar com o Spark SQL\n",
    "sqlContext = SQLContext(sc)"
   ]
  },
  {
   "cell_type": "code",
   "execution_count": 5,
   "metadata": {},
   "outputs": [],
   "source": [
    "# Importanto o arquivo e criando um RDD\n",
    "linhaRDD1 = sc.textFile(\"data/carros.csv\")"
   ]
  },
  {
   "cell_type": "code",
   "execution_count": 6,
   "metadata": {},
   "outputs": [
    {
     "data": {
      "text/plain": [
       "198"
      ]
     },
     "execution_count": 6,
     "metadata": {},
     "output_type": "execute_result"
    }
   ],
   "source": [
    "linhaRDD1.count()"
   ]
  },
  {
   "cell_type": "code",
   "execution_count": 7,
   "metadata": {},
   "outputs": [],
   "source": [
    "# Removendo a primeira linha - Transformação 1\n",
    "linhaRDD2 = linhaRDD1.filter(lambda x: \"FUELTYPE\" not in x)"
   ]
  },
  {
   "cell_type": "code",
   "execution_count": 8,
   "metadata": {},
   "outputs": [
    {
     "data": {
      "text/plain": [
       "197"
      ]
     },
     "execution_count": 8,
     "metadata": {},
     "output_type": "execute_result"
    }
   ],
   "source": [
    "linhaRDD2.count()"
   ]
  },
  {
   "cell_type": "code",
   "execution_count": 9,
   "metadata": {},
   "outputs": [],
   "source": [
    "# Dividindo o conjunto de dados em colunas - Tranformação 2\n",
    "linhaRDD3 = linhaRDD2.map(lambda line: line.split(\",\"))"
   ]
  },
  {
   "cell_type": "code",
   "execution_count": 10,
   "metadata": {},
   "outputs": [],
   "source": [
    "# Dividindo o conjunto de dados em colunas - Transformação 3\n",
    "linhaRDD4 = linhaRDD3.map(lambda p: Row(make = p[0], body = p[4], hp = int(p[7])))"
   ]
  },
  {
   "cell_type": "code",
   "execution_count": 11,
   "metadata": {},
   "outputs": [],
   "source": [
    "?Row"
   ]
  },
  {
   "cell_type": "code",
   "execution_count": 12,
   "metadata": {},
   "outputs": [
    {
     "data": {
      "text/plain": [
       "[Row(body='hatchback', hp=69, make='subaru'),\n",
       " Row(body='hatchback', hp=48, make='chevrolet'),\n",
       " Row(body='hatchback', hp=68, make='mazda'),\n",
       " Row(body='hatchback', hp=62, make='toyota'),\n",
       " Row(body='hatchback', hp=68, make='mitsubishi'),\n",
       " Row(body='hatchback', hp=60, make='honda'),\n",
       " Row(body='sedan', hp=69, make='nissan'),\n",
       " Row(body='hatchback', hp=68, make='dodge'),\n",
       " Row(body='hatchback', hp=68, make='plymouth'),\n",
       " Row(body='hatchback', hp=68, make='mazda'),\n",
       " Row(body='hatchback', hp=68, make='mitsubishi'),\n",
       " Row(body='hatchback', hp=68, make='dodge'),\n",
       " Row(body='hatchback', hp=68, make='plymouth'),\n",
       " Row(body='hatchback', hp=70, make='chevrolet'),\n",
       " Row(body='hatchback', hp=62, make='toyota'),\n",
       " Row(body='hatchback', hp=68, make='dodge'),\n",
       " Row(body='hatchback', hp=58, make='honda'),\n",
       " Row(body='hatchback', hp=62, make='toyota'),\n",
       " Row(body='hatchback', hp=76, make='honda'),\n",
       " Row(body='sedan', hp=70, make='chevrolet'),\n",
       " Row(body='sedan', hp=69, make='nissan'),\n",
       " Row(body='hatchback', hp=68, make='mitsubishi'),\n",
       " Row(body='sedan', hp=68, make='dodge'),\n",
       " Row(body='sedan', hp=68, make='plymouth'),\n",
       " Row(body='sedan', hp=68, make='mazda'),\n",
       " Row(body='sedan', hp=78, make='isuzu'),\n",
       " Row(body='hatchback', hp=68, make='mazda'),\n",
       " Row(body='sedan', hp=69, make='nissan'),\n",
       " Row(body='hatchback', hp=76, make='honda'),\n",
       " Row(body='wagon', hp=62, make='toyota'),\n",
       " Row(body='sedan', hp=70, make='toyota'),\n",
       " Row(body='sedan', hp=88, make='mitsubishi'),\n",
       " Row(body='hatchback', hp=73, make='subaru'),\n",
       " Row(body='sedan', hp=55, make='nissan'),\n",
       " Row(body='sedan', hp=82, make='subaru'),\n",
       " Row(body='hatchback', hp=76, make='honda'),\n",
       " Row(body='hatchback', hp=70, make='toyota'),\n",
       " Row(body='sedan', hp=76, make='honda'),\n",
       " Row(body='wagon', hp=76, make='honda'),\n",
       " Row(body='sedan', hp=69, make='nissan'),\n",
       " Row(body='wagon', hp=69, make='nissan'),\n",
       " Row(body='sedan', hp=68, make='mazda'),\n",
       " Row(body='wagon', hp=82, make='subaru'),\n",
       " Row(body='sedan', hp=69, make='nissan'),\n",
       " Row(body='hatchback', hp=73, make='subaru'),\n",
       " Row(body='sedan', hp=68, make='dodge'),\n",
       " Row(body='sedan', hp=68, make='plymouth'),\n",
       " Row(body='hatchback', hp=102, make='mitsubishi'),\n",
       " Row(body='sedan', hp=70, make='toyota'),\n",
       " Row(body='sedan', hp=82, make='subaru'),\n",
       " Row(body='sedan', hp=52, make='volkswagen'),\n",
       " Row(body='hatchback', hp=56, make='toyota'),\n",
       " Row(body='hatchback', hp=69, make='nissan'),\n",
       " Row(body='hatchback', hp=86, make='honda'),\n",
       " Row(body='wagon', hp=62, make='toyota'),\n",
       " Row(body='sedan', hp=56, make='toyota'),\n",
       " Row(body='hatchback', hp=102, make='dodge'),\n",
       " Row(body='hatchback', hp=102, make='plymouth'),\n",
       " Row(body='sedan', hp=85, make='volkswagen'),\n",
       " Row(body='sedan', hp=52, make='volkswagen'),\n",
       " Row(body='wagon', hp=69, make='nissan'),\n",
       " Row(body='wagon', hp=82, make='subaru'),\n",
       " Row(body='sedan', hp=70, make='toyota'),\n",
       " Row(body='sedan', hp=88, make='mitsubishi'),\n",
       " Row(body='sedan', hp=85, make='volkswagen'),\n",
       " Row(body='hatchback', hp=70, make='toyota'),\n",
       " Row(body='hardtop', hp=69, make='nissan'),\n",
       " Row(body='hatchback', hp=70, make='toyota'),\n",
       " Row(body='hardtop', hp=116, make='toyota'),\n",
       " Row(body='sedan', hp=84, make='mazda'),\n",
       " Row(body='sedan', hp=85, make='volkswagen'),\n",
       " Row(body='hatchback', hp=88, make='mitsubishi'),\n",
       " Row(body='wagon', hp=62, make='toyota'),\n",
       " Row(body='sedan', hp=86, make='honda'),\n",
       " Row(body='hatchback', hp=84, make='mazda'),\n",
       " Row(body='wagon', hp=88, make='dodge'),\n",
       " Row(body='wagon', hp=88, make='plymouth'),\n",
       " Row(body='sedan', hp=92, make='toyota'),\n",
       " Row(body='hatchback', hp=97, make='nissan'),\n",
       " Row(body='hatchback', hp=86, make='honda'),\n",
       " Row(body='sedan', hp=82, make='subaru'),\n",
       " Row(body='sedan', hp=70, make='toyota'),\n",
       " Row(body='sedan', hp=116, make='mitsubishi'),\n",
       " Row(body='sedan', hp=116, make='mitsubishi'),\n",
       " Row(body='sedan', hp=112, make='toyota'),\n",
       " Row(body='sedan', hp=68, make='volkswagen'),\n",
       " Row(body='hatchback', hp=112, make='toyota'),\n",
       " Row(body='sedan', hp=97, make='nissan'),\n",
       " Row(body='hardtop', hp=116, make='toyota'),\n",
       " Row(body='hatchback', hp=116, make='mitsubishi'),\n",
       " Row(body='sedan', hp=94, make='subaru'),\n",
       " Row(body='hatchback', hp=90, make='volkswagen'),\n",
       " Row(body='hatchback', hp=92, make='toyota'),\n",
       " Row(body='hatchback', hp=116, make='toyota'),\n",
       " Row(body='sedan', hp=100, make='volkswagen'),\n",
       " Row(body='wagon', hp=94, make='subaru'),\n",
       " Row(body='sedan', hp=84, make='mazda'),\n",
       " Row(body='sedan', hp=86, make='honda'),\n",
       " Row(body='sedan', hp=100, make='honda'),\n",
       " Row(body='hatchback', hp=84, make='mazda'),\n",
       " Row(body='sedan', hp=73, make='toyota'),\n",
       " Row(body='sedan', hp=92, make='toyota'),\n",
       " Row(body='hatchback', hp=101, make='mazda'),\n",
       " Row(body='hatchback', hp=90, make='isuzu'),\n",
       " Row(body='hardtop', hp=116, make='toyota'),\n",
       " Row(body='hatchback', hp=84, make='mazda'),\n",
       " Row(body='hatchback', hp=92, make='toyota'),\n",
       " Row(body='sedan', hp=111, make='subaru'),\n",
       " Row(body='hatchback', hp=116, make='toyota'),\n",
       " Row(body='convertible', hp=90, make='volkswagen'),\n",
       " Row(body='wagon', hp=111, make='subaru'),\n",
       " Row(body='hatchback', hp=101, make='mazda'),\n",
       " Row(body='hatchback', hp=110, make='saab'),\n",
       " Row(body='sedan', hp=97, make='peugot'),\n",
       " Row(body='sedan', hp=110, make='saab'),\n",
       " Row(body='wagon', hp=88, make='volkswagen'),\n",
       " Row(body='wagon', hp=97, make='peugot'),\n",
       " Row(body='hatchback', hp=145, make='mitsubishi'),\n",
       " Row(body='hatchback', hp=145, make='plymouth'),\n",
       " Row(body='sedan', hp=114, make='volvo'),\n",
       " Row(body='sedan', hp=101, make='honda'),\n",
       " Row(body='hatchback', hp=145, make='dodge'),\n",
       " Row(body='sedan', hp=95, make='peugot'),\n",
       " Row(body='sedan', hp=110, make='volkswagen'),\n",
       " Row(body='wagon', hp=114, make='volvo'),\n",
       " Row(body='convertible', hp=111, make='alfa-romero'),\n",
       " Row(body='sedan', hp=152, make='nissan'),\n",
       " Row(body='sedan', hp=152, make='nissan'),\n",
       " Row(body='hatchback', hp=101, make='mazda'),\n",
       " Row(body='sedan', hp=68, make='volkswagen'),\n",
       " Row(body='wagon', hp=95, make='peugot'),\n",
       " Row(body='sedan', hp=102, make='audi'),\n",
       " Row(body='wagon', hp=152, make='nissan'),\n",
       " Row(body='hatchback', hp=145, make='mitsubishi'),\n",
       " Row(body='hatchback', hp=145, make='mitsubishi'),\n",
       " Row(body='hatchback', hp=110, make='saab'),\n",
       " Row(body='sedan', hp=110, make='audi'),\n",
       " Row(body='sedan', hp=110, make='saab'),\n",
       " Row(body='sedan', hp=95, make='peugot'),\n",
       " Row(body='hatchback', hp=135, make='mazda'),\n",
       " Row(body='sedan', hp=156, make='toyota'),\n",
       " Row(body='wagon', hp=156, make='toyota'),\n",
       " Row(body='sedan', hp=114, make='volvo'),\n",
       " Row(body='hatchback', hp=161, make='toyota'),\n",
       " Row(body='sedan', hp=101, make='bmw'),\n",
       " Row(body='convertible', hp=111, make='alfa-romero'),\n",
       " Row(body='hatchback', hp=154, make='alfa-romero'),\n",
       " Row(body='hatchback', hp=175, make='mercury'),\n",
       " Row(body='wagon', hp=114, make='volvo'),\n",
       " Row(body='hatchback', hp=161, make='toyota'),\n",
       " Row(body='sedan', hp=97, make='peugot'),\n",
       " Row(body='wagon', hp=95, make='peugot'),\n",
       " Row(body='sedan', hp=114, make='volvo'),\n",
       " Row(body='sedan', hp=95, make='peugot'),\n",
       " Row(body='sedan', hp=101, make='bmw'),\n",
       " Row(body='wagon', hp=95, make='peugot'),\n",
       " Row(body='hatchback', hp=160, make='nissan'),\n",
       " Row(body='sedan', hp=115, make='audi'),\n",
       " Row(body='convertible', hp=116, make='toyota'),\n",
       " Row(body='sedan', hp=110, make='audi'),\n",
       " Row(body='sedan', hp=95, make='peugot'),\n",
       " Row(body='sedan', hp=142, make='peugot'),\n",
       " Row(body='hatchback', hp=160, make='saab'),\n",
       " Row(body='sedan', hp=120, make='mazda'),\n",
       " Row(body='sedan', hp=72, make='mazda'),\n",
       " Row(body='hatchback', hp=160, make='nissan'),\n",
       " Row(body='sedan', hp=162, make='volvo'),\n",
       " Row(body='sedan', hp=160, make='saab'),\n",
       " Row(body='wagon', hp=110, make='audi'),\n",
       " Row(body='wagon', hp=162, make='volvo'),\n",
       " Row(body='sedan', hp=160, make='volvo'),\n",
       " Row(body='hatchback', hp=200, make='nissan'),\n",
       " Row(body='sedan', hp=121, make='bmw'),\n",
       " Row(body='sedan', hp=121, make='bmw'),\n",
       " Row(body='sedan', hp=134, make='volvo'),\n",
       " Row(body='hatchback', hp=143, make='porsche'),\n",
       " Row(body='sedan', hp=106, make='volvo'),\n",
       " Row(body='sedan', hp=114, make='volvo'),\n",
       " Row(body='sedan', hp=140, make='audi'),\n",
       " Row(body='sedan', hp=121, make='bmw'),\n",
       " Row(body='sedan', hp=123, make='mercedes-benz'),\n",
       " Row(body='hardtop', hp=123, make='mercedes-benz'),\n",
       " Row(body='wagon', hp=123, make='mercedes-benz'),\n",
       " Row(body='sedan', hp=182, make='bmw'),\n",
       " Row(body='sedan', hp=123, make='mercedes-benz'),\n",
       " Row(body='sedan', hp=176, make='jaguar'),\n",
       " Row(body='hardtop', hp=207, make='porsche'),\n",
       " Row(body='hardtop', hp=207, make='porsche'),\n",
       " Row(body='sedan', hp=155, make='mercedes-benz'),\n",
       " Row(body='convertible', hp=155, make='mercedes-benz'),\n",
       " Row(body='sedan', hp=176, make='jaguar'),\n",
       " Row(body='sedan', hp=262, make='jaguar'),\n",
       " Row(body='sedan', hp=182, make='bmw'),\n",
       " Row(body='convertible', hp=207, make='porsche'),\n",
       " Row(body='sedan', hp=184, make='mercedes-benz'),\n",
       " Row(body='sedan', hp=182, make='bmw'),\n",
       " Row(body='hardtop', hp=184, make='mercedes-benz')]"
      ]
     },
     "execution_count": 12,
     "metadata": {},
     "output_type": "execute_result"
    }
   ],
   "source": [
    "linhaRDD4.collect()"
   ]
  },
  {
   "cell_type": "code",
   "execution_count": 13,
   "metadata": {},
   "outputs": [],
   "source": [
    "# Criando um dataframe a partir do RDD\n",
    "linhaDF = spSession.createDataFrame(linhaRDD4)"
   ]
  },
  {
   "cell_type": "code",
   "execution_count": 14,
   "metadata": {},
   "outputs": [
    {
     "name": "stdout",
     "output_type": "stream",
     "text": [
      "+---------+---+----------+\n",
      "|     body| hp|      make|\n",
      "+---------+---+----------+\n",
      "|hatchback| 69|    subaru|\n",
      "|hatchback| 48| chevrolet|\n",
      "|hatchback| 68|     mazda|\n",
      "|hatchback| 62|    toyota|\n",
      "|hatchback| 68|mitsubishi|\n",
      "|hatchback| 60|     honda|\n",
      "|    sedan| 69|    nissan|\n",
      "|hatchback| 68|     dodge|\n",
      "|hatchback| 68|  plymouth|\n",
      "|hatchback| 68|     mazda|\n",
      "|hatchback| 68|mitsubishi|\n",
      "|hatchback| 68|     dodge|\n",
      "|hatchback| 68|  plymouth|\n",
      "|hatchback| 70| chevrolet|\n",
      "|hatchback| 62|    toyota|\n",
      "|hatchback| 68|     dodge|\n",
      "|hatchback| 58|     honda|\n",
      "|hatchback| 62|    toyota|\n",
      "|hatchback| 76|     honda|\n",
      "|    sedan| 70| chevrolet|\n",
      "+---------+---+----------+\n",
      "only showing top 20 rows\n",
      "\n"
     ]
    }
   ],
   "source": [
    "linhaDF.show()"
   ]
  },
  {
   "cell_type": "code",
   "execution_count": 15,
   "metadata": {},
   "outputs": [
    {
     "data": {
      "text/plain": [
       "pyspark.sql.dataframe.DataFrame"
      ]
     },
     "execution_count": 15,
     "metadata": {},
     "output_type": "execute_result"
    }
   ],
   "source": [
    "type(linhaDF)"
   ]
  },
  {
   "cell_type": "code",
   "execution_count": 16,
   "metadata": {},
   "outputs": [
    {
     "name": "stdout",
     "output_type": "stream",
     "text": [
      "+---------+---+----------+\n",
      "|     body| hp|      make|\n",
      "+---------+---+----------+\n",
      "|hatchback| 69|    subaru|\n",
      "|hatchback| 48| chevrolet|\n",
      "|hatchback| 68|     mazda|\n",
      "|hatchback| 62|    toyota|\n",
      "|hatchback| 68|mitsubishi|\n",
      "|hatchback| 60|     honda|\n",
      "|    sedan| 69|    nissan|\n",
      "|hatchback| 68|     dodge|\n",
      "|hatchback| 68|  plymouth|\n",
      "|hatchback| 68|     mazda|\n",
      "|hatchback| 68|mitsubishi|\n",
      "|hatchback| 68|     dodge|\n",
      "|hatchback| 68|  plymouth|\n",
      "|hatchback| 70| chevrolet|\n",
      "|hatchback| 62|    toyota|\n",
      "|hatchback| 68|     dodge|\n",
      "|hatchback| 58|     honda|\n",
      "|hatchback| 62|    toyota|\n",
      "|hatchback| 76|     honda|\n",
      "|    sedan| 70| chevrolet|\n",
      "+---------+---+----------+\n",
      "only showing top 20 rows\n",
      "\n"
     ]
    }
   ],
   "source": [
    "linhaDF.select(\"*\").show()"
   ]
  },
  {
   "cell_type": "code",
   "execution_count": 17,
   "metadata": {},
   "outputs": [
    {
     "name": "stdout",
     "output_type": "stream",
     "text": [
      "+-----------+---+-----------+\n",
      "|       body| hp|       make|\n",
      "+-----------+---+-----------+\n",
      "|  hatchback|154|alfa-romero|\n",
      "|convertible|111|alfa-romero|\n",
      "|convertible|111|alfa-romero|\n",
      "|      sedan|110|       audi|\n",
      "|      wagon|110|       audi|\n",
      "|      sedan|140|       audi|\n",
      "|      sedan|110|       audi|\n",
      "|      sedan|115|       audi|\n",
      "|      sedan|102|       audi|\n",
      "|      sedan|121|        bmw|\n",
      "|      sedan|121|        bmw|\n",
      "|      sedan|182|        bmw|\n",
      "|      sedan|182|        bmw|\n",
      "|      sedan|101|        bmw|\n",
      "|      sedan|182|        bmw|\n",
      "|      sedan|121|        bmw|\n",
      "|      sedan|101|        bmw|\n",
      "|  hatchback| 70|  chevrolet|\n",
      "|      sedan| 70|  chevrolet|\n",
      "|  hatchback| 48|  chevrolet|\n",
      "+-----------+---+-----------+\n",
      "only showing top 20 rows\n",
      "\n"
     ]
    }
   ],
   "source": [
    "linhaDF.orderBy(\"make\").show()"
   ]
  },
  {
   "cell_type": "code",
   "execution_count": 18,
   "metadata": {},
   "outputs": [],
   "source": [
    "# Registrando o dataframe como uma temp Table\n",
    "linhaDF.createOrReplaceTempView(\"linhaTB\")"
   ]
  },
  {
   "cell_type": "code",
   "execution_count": 19,
   "metadata": {},
   "outputs": [
    {
     "name": "stdout",
     "output_type": "stream",
     "text": [
      "+---------+---+------+\n",
      "|     body| hp|  make|\n",
      "+---------+---+------+\n",
      "|    sedan| 69|nissan|\n",
      "|    sedan| 69|nissan|\n",
      "|    sedan| 69|nissan|\n",
      "|    sedan| 55|nissan|\n",
      "|    sedan| 69|nissan|\n",
      "|    wagon| 69|nissan|\n",
      "|    sedan| 69|nissan|\n",
      "|hatchback| 69|nissan|\n",
      "|    wagon| 69|nissan|\n",
      "|  hardtop| 69|nissan|\n",
      "|hatchback| 97|nissan|\n",
      "|    sedan| 97|nissan|\n",
      "|    sedan|152|nissan|\n",
      "|    sedan|152|nissan|\n",
      "|    wagon|152|nissan|\n",
      "|hatchback|160|nissan|\n",
      "|hatchback|160|nissan|\n",
      "|hatchback|200|nissan|\n",
      "+---------+---+------+\n",
      "\n"
     ]
    }
   ],
   "source": [
    "# Executando queries SQL ANSI\n",
    "spSession.sql(\"select * from linhaTB where make = 'nissan'\").show()"
   ]
  },
  {
   "cell_type": "code",
   "execution_count": 20,
   "metadata": {},
   "outputs": [
    {
     "name": "stdout",
     "output_type": "stream",
     "text": [
      "+-------------+-----------+-----------------+\n",
      "|         make|       body|          avg(hp)|\n",
      "+-------------+-----------+-----------------+\n",
      "|       nissan|      wagon|96.66666666666667|\n",
      "|       subaru|      sedan|             90.2|\n",
      "|     plymouth|      sedan|             68.0|\n",
      "|        dodge|  hatchback|             90.2|\n",
      "|       nissan|      sedan|             89.0|\n",
      "|        honda|      sedan|             89.8|\n",
      "|   mitsubishi|  hatchback|            105.0|\n",
      "|        mazda|      sedan|82.66666666666667|\n",
      "|  alfa-romero|convertible|            111.0|\n",
      "|mercedes-benz|convertible|            155.0|\n",
      "|     plymouth|      wagon|             88.0|\n",
      "|mercedes-benz|      wagon|            123.0|\n",
      "|        isuzu|  hatchback|             90.0|\n",
      "|       toyota|convertible|            116.0|\n",
      "|        mazda|  hatchback|             89.4|\n",
      "|    chevrolet|      sedan|             70.0|\n",
      "|      mercury|  hatchback|            175.0|\n",
      "|      porsche|  hatchback|            143.0|\n",
      "|        honda|      wagon|             76.0|\n",
      "|      porsche|convertible|            207.0|\n",
      "+-------------+-----------+-----------------+\n",
      "only showing top 20 rows\n",
      "\n"
     ]
    }
   ],
   "source": [
    "# Executando queries SQL ANSI\n",
    "spSession.sql(\"select make, body, avg(hp) from linhaTB group by make, body\").show()"
   ]
  },
  {
   "cell_type": "markdown",
   "metadata": {},
   "source": [
    "## Spark SQL e Arquivos CSV"
   ]
  },
  {
   "cell_type": "code",
   "execution_count": 21,
   "metadata": {},
   "outputs": [],
   "source": [
    "carrosDF = spSession.read.csv(\"data/carros.csv\", header = True)"
   ]
  },
  {
   "cell_type": "code",
   "execution_count": 22,
   "metadata": {},
   "outputs": [
    {
     "data": {
      "text/plain": [
       "pyspark.sql.dataframe.DataFrame"
      ]
     },
     "execution_count": 22,
     "metadata": {},
     "output_type": "execute_result"
    }
   ],
   "source": [
    "type(carrosDF)"
   ]
  },
  {
   "cell_type": "code",
   "execution_count": 23,
   "metadata": {},
   "outputs": [
    {
     "name": "stdout",
     "output_type": "stream",
     "text": [
      "+----------+--------+------+-----+---------+-----+---------+---+----+--------+-------+-----+\n",
      "|      MAKE|FUELTYPE|ASPIRE|DOORS|     BODY|DRIVE|CYLINDERS| HP| RPM|MPG-CITY|MPG-HWY|PRICE|\n",
      "+----------+--------+------+-----+---------+-----+---------+---+----+--------+-------+-----+\n",
      "|    subaru|     gas|   std|  two|hatchback|  fwd|     four| 69|4900|      31|     36| 5118|\n",
      "| chevrolet|     gas|   std|  two|hatchback|  fwd|    three| 48|5100|      47|     53| 5151|\n",
      "|     mazda|     gas|   std|  two|hatchback|  fwd|     four| 68|5000|      30|     31| 5195|\n",
      "|    toyota|     gas|   std|  two|hatchback|  fwd|     four| 62|4800|      35|     39| 5348|\n",
      "|mitsubishi|     gas|   std|  two|hatchback|  fwd|     four| 68|5500|      37|     41| 5389|\n",
      "|     honda|     gas|   std|  two|hatchback|  fwd|     four| 60|5500|      38|     42| 5399|\n",
      "|    nissan|     gas|   std|  two|    sedan|  fwd|     four| 69|5200|      31|     37| 5499|\n",
      "|     dodge|     gas|   std|  two|hatchback|  fwd|     four| 68|5500|      37|     41| 5572|\n",
      "|  plymouth|     gas|   std|  two|hatchback|  fwd|     four| 68|5500|      37|     41| 5572|\n",
      "|     mazda|     gas|   std|  two|hatchback|  fwd|     four| 68|5000|      31|     38| 6095|\n",
      "|mitsubishi|     gas|   std|  two|hatchback|  fwd|     four| 68|5500|      31|     38| 6189|\n",
      "|     dodge|     gas|   std| four|hatchback|  fwd|     four| 68|5500|      31|     38| 6229|\n",
      "|  plymouth|     gas|   std| four|hatchback|  fwd|     four| 68|5500|      31|     38| 6229|\n",
      "| chevrolet|     gas|   std|  two|hatchback|  fwd|     four| 70|5400|      38|     43| 6295|\n",
      "|    toyota|     gas|   std|  two|hatchback|  fwd|     four| 62|4800|      31|     38| 6338|\n",
      "|     dodge|     gas|   std|  two|hatchback|  fwd|     four| 68|5500|      31|     38| 6377|\n",
      "|     honda|     gas|   std|  two|hatchback|  fwd|     four| 58|4800|      49|     54| 6479|\n",
      "|    toyota|     gas|   std| four|hatchback|  fwd|     four| 62|4800|      31|     38| 6488|\n",
      "|     honda|     gas|   std|  two|hatchback|  fwd|     four| 76|6000|      30|     34| 6529|\n",
      "| chevrolet|     gas|   std| four|    sedan|  fwd|     four| 70|5400|      38|     43| 6575|\n",
      "+----------+--------+------+-----+---------+-----+---------+---+----+--------+-------+-----+\n",
      "only showing top 20 rows\n",
      "\n"
     ]
    }
   ],
   "source": [
    "carrosDF.show()"
   ]
  },
  {
   "cell_type": "code",
   "execution_count": 24,
   "metadata": {},
   "outputs": [],
   "source": [
    "# Registrando o dataframe como uma Temp Table\n",
    "carrosDF.createOrReplaceTempView(\"carrosTB\")"
   ]
  },
  {
   "cell_type": "code",
   "execution_count": 25,
   "metadata": {},
   "outputs": [
    {
     "name": "stdout",
     "output_type": "stream",
     "text": [
      "+---------+---+-----+\n",
      "|     make| hp|price|\n",
      "+---------+---+-----+\n",
      "|chevrolet| 48| 5151|\n",
      "+---------+---+-----+\n",
      "\n"
     ]
    }
   ],
   "source": [
    "spSession.sql(\"select make, hp, price from carrosTB where CYLINDERS = 'three'\").show()"
   ]
  },
  {
   "cell_type": "code",
   "execution_count": 26,
   "metadata": {},
   "outputs": [],
   "source": [
    "carrosTT = spSession.sql(\"select make, hp, price from carrosTB where CYLINDERS = 'three'\")"
   ]
  },
  {
   "cell_type": "code",
   "execution_count": 27,
   "metadata": {},
   "outputs": [
    {
     "name": "stdout",
     "output_type": "stream",
     "text": [
      "+---------+---+-----+\n",
      "|     make| hp|price|\n",
      "+---------+---+-----+\n",
      "|chevrolet| 48| 5151|\n",
      "+---------+---+-----+\n",
      "\n"
     ]
    }
   ],
   "source": [
    "carrosTT.show()"
   ]
  },
  {
   "cell_type": "markdown",
   "metadata": {},
   "source": [
    "## Aplicando Machine Learning"
   ]
  },
  {
   "cell_type": "code",
   "execution_count": 28,
   "metadata": {},
   "outputs": [
    {
     "data": {
      "text/plain": [
       "data/carros.csv MapPartitionsRDD[54] at textFile at NativeMethodAccessorImpl.java:0"
      ]
     },
     "execution_count": 28,
     "metadata": {},
     "output_type": "execute_result"
    }
   ],
   "source": [
    "# Carregando o arquivo CSV e mantendo o objeto em cache\n",
    "carros = sc.textFile(\"data/carros.csv\")\n",
    "carros.cache()"
   ]
  },
  {
   "cell_type": "code",
   "execution_count": 29,
   "metadata": {},
   "outputs": [
    {
     "data": {
      "text/plain": [
       "197"
      ]
     },
     "execution_count": 29,
     "metadata": {},
     "output_type": "execute_result"
    }
   ],
   "source": [
    "# Removendo a primeira linha (header)\n",
    "primeiraLinha = carros.first()\n",
    "linhas = carros.filter(lambda x: x!= primeiraLinha)\n",
    "linhas.count()"
   ]
  },
  {
   "cell_type": "code",
   "execution_count": 30,
   "metadata": {},
   "outputs": [],
   "source": [
    "# Importando a função row e função vectors\n",
    "from pyspark.sql import Row\n",
    "from pyspark.ml.linalg import Vectors\n",
    "import math"
   ]
  },
  {
   "cell_type": "code",
   "execution_count": 31,
   "metadata": {},
   "outputs": [],
   "source": [
    "# Convertendo para um vetor de linhas\n",
    "def transformToNumeric(inputStr):\n",
    "    attList = inputStr.split(\",\")\n",
    "    doors = 1.0 if attList[3] == \"two\" else 2.0\n",
    "    body = 1.0 if attList[4] == 'sedan'else 2.0\n",
    "    \n",
    "    # Filtrando colunas não necessárias nesta etapa\n",
    "    valores = Row(DOORS = doors, BODY = float(body), HP = float(attList[7]), RPM = float(attList[8]), MPG = float(attList[9]))\n",
    "    return valores"
   ]
  },
  {
   "cell_type": "code",
   "execution_count": 32,
   "metadata": {},
   "outputs": [
    {
     "data": {
      "text/plain": [
       "[Row(BODY=2.0, DOORS=1.0, HP=69.0, MPG=31.0, RPM=4900.0),\n",
       " Row(BODY=2.0, DOORS=1.0, HP=48.0, MPG=47.0, RPM=5100.0),\n",
       " Row(BODY=2.0, DOORS=1.0, HP=68.0, MPG=30.0, RPM=5000.0),\n",
       " Row(BODY=2.0, DOORS=1.0, HP=62.0, MPG=35.0, RPM=4800.0),\n",
       " Row(BODY=2.0, DOORS=1.0, HP=68.0, MPG=37.0, RPM=5500.0),\n",
       " Row(BODY=2.0, DOORS=1.0, HP=60.0, MPG=38.0, RPM=5500.0),\n",
       " Row(BODY=1.0, DOORS=1.0, HP=69.0, MPG=31.0, RPM=5200.0),\n",
       " Row(BODY=2.0, DOORS=1.0, HP=68.0, MPG=37.0, RPM=5500.0),\n",
       " Row(BODY=2.0, DOORS=1.0, HP=68.0, MPG=37.0, RPM=5500.0),\n",
       " Row(BODY=2.0, DOORS=1.0, HP=68.0, MPG=31.0, RPM=5000.0),\n",
       " Row(BODY=2.0, DOORS=1.0, HP=68.0, MPG=31.0, RPM=5500.0),\n",
       " Row(BODY=2.0, DOORS=2.0, HP=68.0, MPG=31.0, RPM=5500.0),\n",
       " Row(BODY=2.0, DOORS=2.0, HP=68.0, MPG=31.0, RPM=5500.0),\n",
       " Row(BODY=2.0, DOORS=1.0, HP=70.0, MPG=38.0, RPM=5400.0),\n",
       " Row(BODY=2.0, DOORS=1.0, HP=62.0, MPG=31.0, RPM=4800.0),\n",
       " Row(BODY=2.0, DOORS=1.0, HP=68.0, MPG=31.0, RPM=5500.0),\n",
       " Row(BODY=2.0, DOORS=1.0, HP=58.0, MPG=49.0, RPM=4800.0),\n",
       " Row(BODY=2.0, DOORS=2.0, HP=62.0, MPG=31.0, RPM=4800.0),\n",
       " Row(BODY=2.0, DOORS=1.0, HP=76.0, MPG=30.0, RPM=6000.0),\n",
       " Row(BODY=1.0, DOORS=2.0, HP=70.0, MPG=38.0, RPM=5400.0),\n",
       " Row(BODY=1.0, DOORS=1.0, HP=69.0, MPG=31.0, RPM=5200.0),\n",
       " Row(BODY=2.0, DOORS=1.0, HP=68.0, MPG=31.0, RPM=5500.0),\n",
       " Row(BODY=1.0, DOORS=2.0, HP=68.0, MPG=31.0, RPM=5500.0),\n",
       " Row(BODY=1.0, DOORS=2.0, HP=68.0, MPG=31.0, RPM=5500.0),\n",
       " Row(BODY=1.0, DOORS=2.0, HP=68.0, MPG=31.0, RPM=5000.0),\n",
       " Row(BODY=1.0, DOORS=2.0, HP=78.0, MPG=24.0, RPM=4800.0),\n",
       " Row(BODY=2.0, DOORS=1.0, HP=68.0, MPG=31.0, RPM=5000.0),\n",
       " Row(BODY=1.0, DOORS=2.0, HP=69.0, MPG=31.0, RPM=5200.0),\n",
       " Row(BODY=2.0, DOORS=1.0, HP=76.0, MPG=31.0, RPM=6000.0),\n",
       " Row(BODY=2.0, DOORS=2.0, HP=62.0, MPG=31.0, RPM=4800.0),\n",
       " Row(BODY=1.0, DOORS=2.0, HP=70.0, MPG=30.0, RPM=4800.0),\n",
       " Row(BODY=1.0, DOORS=2.0, HP=88.0, MPG=25.0, RPM=5000.0),\n",
       " Row(BODY=2.0, DOORS=1.0, HP=73.0, MPG=26.0, RPM=4400.0),\n",
       " Row(BODY=1.0, DOORS=1.0, HP=55.0, MPG=45.0, RPM=4800.0),\n",
       " Row(BODY=1.0, DOORS=2.0, HP=82.0, MPG=32.0, RPM=4800.0),\n",
       " Row(BODY=2.0, DOORS=1.0, HP=76.0, MPG=30.0, RPM=6000.0),\n",
       " Row(BODY=2.0, DOORS=2.0, HP=70.0, MPG=30.0, RPM=4800.0),\n",
       " Row(BODY=1.0, DOORS=2.0, HP=76.0, MPG=30.0, RPM=6000.0),\n",
       " Row(BODY=2.0, DOORS=2.0, HP=76.0, MPG=30.0, RPM=6000.0),\n",
       " Row(BODY=1.0, DOORS=1.0, HP=69.0, MPG=31.0, RPM=5200.0),\n",
       " Row(BODY=2.0, DOORS=2.0, HP=69.0, MPG=31.0, RPM=5200.0),\n",
       " Row(BODY=1.0, DOORS=2.0, HP=68.0, MPG=31.0, RPM=5000.0),\n",
       " Row(BODY=2.0, DOORS=2.0, HP=82.0, MPG=28.0, RPM=4800.0),\n",
       " Row(BODY=1.0, DOORS=2.0, HP=69.0, MPG=31.0, RPM=5200.0),\n",
       " Row(BODY=2.0, DOORS=1.0, HP=73.0, MPG=26.0, RPM=4400.0),\n",
       " Row(BODY=1.0, DOORS=2.0, HP=68.0, MPG=31.0, RPM=5500.0),\n",
       " Row(BODY=1.0, DOORS=2.0, HP=68.0, MPG=31.0, RPM=5500.0),\n",
       " Row(BODY=2.0, DOORS=1.0, HP=102.0, MPG=24.0, RPM=5500.0),\n",
       " Row(BODY=1.0, DOORS=2.0, HP=70.0, MPG=38.0, RPM=4800.0),\n",
       " Row(BODY=1.0, DOORS=2.0, HP=82.0, MPG=28.0, RPM=4400.0),\n",
       " Row(BODY=1.0, DOORS=1.0, HP=52.0, MPG=37.0, RPM=4800.0),\n",
       " Row(BODY=2.0, DOORS=2.0, HP=56.0, MPG=38.0, RPM=4500.0),\n",
       " Row(BODY=2.0, DOORS=1.0, HP=69.0, MPG=31.0, RPM=5200.0),\n",
       " Row(BODY=2.0, DOORS=1.0, HP=86.0, MPG=27.0, RPM=5800.0),\n",
       " Row(BODY=2.0, DOORS=2.0, HP=62.0, MPG=27.0, RPM=4800.0),\n",
       " Row(BODY=1.0, DOORS=2.0, HP=56.0, MPG=34.0, RPM=4500.0),\n",
       " Row(BODY=2.0, DOORS=1.0, HP=102.0, MPG=24.0, RPM=5500.0),\n",
       " Row(BODY=2.0, DOORS=1.0, HP=102.0, MPG=24.0, RPM=5500.0),\n",
       " Row(BODY=1.0, DOORS=1.0, HP=85.0, MPG=27.0, RPM=5250.0),\n",
       " Row(BODY=1.0, DOORS=2.0, HP=52.0, MPG=37.0, RPM=4800.0),\n",
       " Row(BODY=2.0, DOORS=2.0, HP=69.0, MPG=31.0, RPM=5200.0),\n",
       " Row(BODY=2.0, DOORS=2.0, HP=82.0, MPG=23.0, RPM=4800.0),\n",
       " Row(BODY=1.0, DOORS=1.0, HP=70.0, MPG=29.0, RPM=4800.0),\n",
       " Row(BODY=1.0, DOORS=2.0, HP=88.0, MPG=25.0, RPM=5000.0),\n",
       " Row(BODY=1.0, DOORS=2.0, HP=85.0, MPG=27.0, RPM=5250.0),\n",
       " Row(BODY=2.0, DOORS=1.0, HP=70.0, MPG=29.0, RPM=4800.0),\n",
       " Row(BODY=2.0, DOORS=1.0, HP=69.0, MPG=31.0, RPM=5200.0),\n",
       " Row(BODY=2.0, DOORS=2.0, HP=70.0, MPG=28.0, RPM=4800.0),\n",
       " Row(BODY=2.0, DOORS=1.0, HP=116.0, MPG=24.0, RPM=4800.0),\n",
       " Row(BODY=1.0, DOORS=2.0, HP=84.0, MPG=26.0, RPM=4800.0),\n",
       " Row(BODY=1.0, DOORS=2.0, HP=85.0, MPG=27.0, RPM=5250.0),\n",
       " Row(BODY=2.0, DOORS=1.0, HP=88.0, MPG=25.0, RPM=5000.0),\n",
       " Row(BODY=2.0, DOORS=2.0, HP=62.0, MPG=27.0, RPM=4800.0),\n",
       " Row(BODY=1.0, DOORS=2.0, HP=86.0, MPG=27.0, RPM=5800.0),\n",
       " Row(BODY=2.0, DOORS=1.0, HP=84.0, MPG=26.0, RPM=4800.0),\n",
       " Row(BODY=2.0, DOORS=2.0, HP=88.0, MPG=24.0, RPM=5000.0),\n",
       " Row(BODY=2.0, DOORS=2.0, HP=88.0, MPG=24.0, RPM=5000.0),\n",
       " Row(BODY=1.0, DOORS=2.0, HP=92.0, MPG=29.0, RPM=4200.0),\n",
       " Row(BODY=2.0, DOORS=2.0, HP=97.0, MPG=27.0, RPM=5200.0),\n",
       " Row(BODY=2.0, DOORS=1.0, HP=86.0, MPG=27.0, RPM=5800.0),\n",
       " Row(BODY=1.0, DOORS=2.0, HP=82.0, MPG=24.0, RPM=4800.0),\n",
       " Row(BODY=1.0, DOORS=2.0, HP=70.0, MPG=28.0, RPM=4800.0),\n",
       " Row(BODY=1.0, DOORS=2.0, HP=116.0, MPG=23.0, RPM=5500.0),\n",
       " Row(BODY=1.0, DOORS=2.0, HP=116.0, MPG=23.0, RPM=5500.0),\n",
       " Row(BODY=1.0, DOORS=1.0, HP=112.0, MPG=26.0, RPM=6600.0),\n",
       " Row(BODY=1.0, DOORS=2.0, HP=68.0, MPG=37.0, RPM=4500.0),\n",
       " Row(BODY=2.0, DOORS=1.0, HP=112.0, MPG=26.0, RPM=6600.0),\n",
       " Row(BODY=1.0, DOORS=2.0, HP=97.0, MPG=27.0, RPM=5200.0),\n",
       " Row(BODY=2.0, DOORS=1.0, HP=116.0, MPG=24.0, RPM=4800.0),\n",
       " Row(BODY=2.0, DOORS=1.0, HP=116.0, MPG=23.0, RPM=5500.0),\n",
       " Row(BODY=1.0, DOORS=2.0, HP=94.0, MPG=26.0, RPM=5200.0),\n",
       " Row(BODY=2.0, DOORS=1.0, HP=90.0, MPG=24.0, RPM=5500.0),\n",
       " Row(BODY=2.0, DOORS=2.0, HP=92.0, MPG=27.0, RPM=4200.0),\n",
       " Row(BODY=2.0, DOORS=1.0, HP=116.0, MPG=24.0, RPM=4800.0),\n",
       " Row(BODY=1.0, DOORS=2.0, HP=100.0, MPG=26.0, RPM=5500.0),\n",
       " Row(BODY=2.0, DOORS=2.0, HP=94.0, MPG=25.0, RPM=5200.0),\n",
       " Row(BODY=1.0, DOORS=2.0, HP=84.0, MPG=26.0, RPM=4800.0),\n",
       " Row(BODY=1.0, DOORS=2.0, HP=86.0, MPG=27.0, RPM=5800.0),\n",
       " Row(BODY=1.0, DOORS=1.0, HP=100.0, MPG=25.0, RPM=5500.0),\n",
       " Row(BODY=2.0, DOORS=1.0, HP=84.0, MPG=26.0, RPM=4800.0),\n",
       " Row(BODY=1.0, DOORS=2.0, HP=73.0, MPG=30.0, RPM=4500.0),\n",
       " Row(BODY=1.0, DOORS=2.0, HP=92.0, MPG=27.0, RPM=4200.0),\n",
       " Row(BODY=2.0, DOORS=1.0, HP=101.0, MPG=17.0, RPM=6000.0),\n",
       " Row(BODY=2.0, DOORS=1.0, HP=90.0, MPG=24.0, RPM=5000.0),\n",
       " Row(BODY=2.0, DOORS=1.0, HP=116.0, MPG=24.0, RPM=4800.0),\n",
       " Row(BODY=2.0, DOORS=2.0, HP=84.0, MPG=26.0, RPM=4800.0),\n",
       " Row(BODY=2.0, DOORS=2.0, HP=92.0, MPG=27.0, RPM=4200.0),\n",
       " Row(BODY=1.0, DOORS=2.0, HP=111.0, MPG=24.0, RPM=4800.0),\n",
       " Row(BODY=2.0, DOORS=1.0, HP=116.0, MPG=24.0, RPM=4800.0),\n",
       " Row(BODY=2.0, DOORS=1.0, HP=90.0, MPG=24.0, RPM=5500.0),\n",
       " Row(BODY=2.0, DOORS=2.0, HP=111.0, MPG=23.0, RPM=4800.0),\n",
       " Row(BODY=2.0, DOORS=1.0, HP=101.0, MPG=17.0, RPM=6000.0),\n",
       " Row(BODY=2.0, DOORS=1.0, HP=110.0, MPG=21.0, RPM=5250.0),\n",
       " Row(BODY=1.0, DOORS=2.0, HP=97.0, MPG=19.0, RPM=5000.0),\n",
       " Row(BODY=1.0, DOORS=2.0, HP=110.0, MPG=21.0, RPM=5250.0),\n",
       " Row(BODY=2.0, DOORS=2.0, HP=88.0, MPG=25.0, RPM=5500.0),\n",
       " Row(BODY=2.0, DOORS=2.0, HP=97.0, MPG=19.0, RPM=5000.0),\n",
       " Row(BODY=2.0, DOORS=1.0, HP=145.0, MPG=19.0, RPM=5000.0),\n",
       " Row(BODY=2.0, DOORS=1.0, HP=145.0, MPG=19.0, RPM=5000.0),\n",
       " Row(BODY=1.0, DOORS=2.0, HP=114.0, MPG=23.0, RPM=5400.0),\n",
       " Row(BODY=1.0, DOORS=2.0, HP=101.0, MPG=24.0, RPM=5800.0),\n",
       " Row(BODY=2.0, DOORS=1.0, HP=145.0, MPG=19.0, RPM=5000.0),\n",
       " Row(BODY=1.0, DOORS=2.0, HP=95.0, MPG=28.0, RPM=4150.0),\n",
       " Row(BODY=1.0, DOORS=2.0, HP=110.0, MPG=19.0, RPM=5500.0),\n",
       " Row(BODY=2.0, DOORS=2.0, HP=114.0, MPG=23.0, RPM=5400.0),\n",
       " Row(BODY=2.0, DOORS=1.0, HP=111.0, MPG=21.0, RPM=5000.0),\n",
       " Row(BODY=1.0, DOORS=2.0, HP=152.0, MPG=17.0, RPM=5200.0),\n",
       " Row(BODY=1.0, DOORS=2.0, HP=152.0, MPG=19.0, RPM=5200.0),\n",
       " Row(BODY=2.0, DOORS=1.0, HP=101.0, MPG=17.0, RPM=6000.0),\n",
       " Row(BODY=1.0, DOORS=2.0, HP=68.0, MPG=33.0, RPM=4500.0),\n",
       " Row(BODY=2.0, DOORS=2.0, HP=95.0, MPG=25.0, RPM=4150.0),\n",
       " Row(BODY=1.0, DOORS=2.0, HP=102.0, MPG=24.0, RPM=5500.0),\n",
       " Row(BODY=2.0, DOORS=2.0, HP=152.0, MPG=17.0, RPM=5200.0),\n",
       " Row(BODY=2.0, DOORS=1.0, HP=145.0, MPG=19.0, RPM=5000.0),\n",
       " Row(BODY=2.0, DOORS=1.0, HP=145.0, MPG=19.0, RPM=5000.0),\n",
       " Row(BODY=2.0, DOORS=1.0, HP=110.0, MPG=21.0, RPM=5250.0),\n",
       " Row(BODY=1.0, DOORS=1.0, HP=110.0, MPG=19.0, RPM=5500.0),\n",
       " Row(BODY=1.0, DOORS=2.0, HP=110.0, MPG=21.0, RPM=5250.0),\n",
       " Row(BODY=1.0, DOORS=2.0, HP=95.0, MPG=19.0, RPM=5000.0),\n",
       " Row(BODY=2.0, DOORS=1.0, HP=135.0, MPG=16.0, RPM=6000.0),\n",
       " Row(BODY=1.0, DOORS=2.0, HP=156.0, MPG=20.0, RPM=5200.0),\n",
       " Row(BODY=2.0, DOORS=2.0, HP=156.0, MPG=19.0, RPM=5200.0),\n",
       " Row(BODY=1.0, DOORS=2.0, HP=114.0, MPG=24.0, RPM=5400.0),\n",
       " Row(BODY=2.0, DOORS=1.0, HP=161.0, MPG=19.0, RPM=5200.0),\n",
       " Row(BODY=1.0, DOORS=1.0, HP=101.0, MPG=23.0, RPM=5800.0),\n",
       " Row(BODY=2.0, DOORS=1.0, HP=111.0, MPG=21.0, RPM=5000.0),\n",
       " Row(BODY=2.0, DOORS=1.0, HP=154.0, MPG=19.0, RPM=5000.0),\n",
       " Row(BODY=2.0, DOORS=1.0, HP=175.0, MPG=19.0, RPM=5000.0),\n",
       " Row(BODY=2.0, DOORS=2.0, HP=114.0, MPG=24.0, RPM=5400.0),\n",
       " Row(BODY=2.0, DOORS=1.0, HP=161.0, MPG=20.0, RPM=5200.0),\n",
       " Row(BODY=1.0, DOORS=2.0, HP=97.0, MPG=19.0, RPM=5000.0),\n",
       " Row(BODY=2.0, DOORS=2.0, HP=95.0, MPG=19.0, RPM=5000.0),\n",
       " Row(BODY=1.0, DOORS=2.0, HP=114.0, MPG=23.0, RPM=5400.0),\n",
       " Row(BODY=1.0, DOORS=2.0, HP=95.0, MPG=28.0, RPM=4150.0),\n",
       " Row(BODY=1.0, DOORS=2.0, HP=101.0, MPG=23.0, RPM=5800.0),\n",
       " Row(BODY=2.0, DOORS=2.0, HP=95.0, MPG=25.0, RPM=4150.0),\n",
       " Row(BODY=2.0, DOORS=1.0, HP=160.0, MPG=19.0, RPM=5200.0),\n",
       " Row(BODY=1.0, DOORS=2.0, HP=115.0, MPG=18.0, RPM=5500.0),\n",
       " Row(BODY=2.0, DOORS=1.0, HP=116.0, MPG=24.0, RPM=4800.0),\n",
       " Row(BODY=1.0, DOORS=2.0, HP=110.0, MPG=19.0, RPM=5500.0),\n",
       " Row(BODY=1.0, DOORS=2.0, HP=95.0, MPG=28.0, RPM=4150.0),\n",
       " Row(BODY=1.0, DOORS=2.0, HP=142.0, MPG=18.0, RPM=5600.0),\n",
       " Row(BODY=2.0, DOORS=1.0, HP=160.0, MPG=19.0, RPM=5500.0),\n",
       " Row(BODY=1.0, DOORS=2.0, HP=120.0, MPG=19.0, RPM=5000.0),\n",
       " Row(BODY=1.0, DOORS=2.0, HP=72.0, MPG=31.0, RPM=4200.0),\n",
       " Row(BODY=2.0, DOORS=1.0, HP=160.0, MPG=19.0, RPM=5200.0),\n",
       " Row(BODY=1.0, DOORS=2.0, HP=162.0, MPG=17.0, RPM=5100.0),\n",
       " Row(BODY=1.0, DOORS=2.0, HP=160.0, MPG=19.0, RPM=5500.0),\n",
       " Row(BODY=2.0, DOORS=2.0, HP=110.0, MPG=19.0, RPM=5500.0),\n",
       " Row(BODY=2.0, DOORS=2.0, HP=162.0, MPG=17.0, RPM=5100.0),\n",
       " Row(BODY=1.0, DOORS=2.0, HP=160.0, MPG=19.0, RPM=5300.0),\n",
       " Row(BODY=2.0, DOORS=1.0, HP=200.0, MPG=17.0, RPM=5200.0),\n",
       " Row(BODY=1.0, DOORS=1.0, HP=121.0, MPG=21.0, RPM=4250.0),\n",
       " Row(BODY=1.0, DOORS=2.0, HP=121.0, MPG=21.0, RPM=4250.0),\n",
       " Row(BODY=1.0, DOORS=2.0, HP=134.0, MPG=18.0, RPM=5500.0),\n",
       " Row(BODY=2.0, DOORS=1.0, HP=143.0, MPG=19.0, RPM=5500.0),\n",
       " Row(BODY=1.0, DOORS=2.0, HP=106.0, MPG=26.0, RPM=4800.0),\n",
       " Row(BODY=1.0, DOORS=2.0, HP=114.0, MPG=19.0, RPM=5400.0),\n",
       " Row(BODY=1.0, DOORS=2.0, HP=140.0, MPG=17.0, RPM=5500.0),\n",
       " Row(BODY=1.0, DOORS=2.0, HP=121.0, MPG=20.0, RPM=4250.0),\n",
       " Row(BODY=1.0, DOORS=2.0, HP=123.0, MPG=22.0, RPM=4350.0),\n",
       " Row(BODY=2.0, DOORS=1.0, HP=123.0, MPG=22.0, RPM=4350.0),\n",
       " Row(BODY=2.0, DOORS=2.0, HP=123.0, MPG=22.0, RPM=4350.0),\n",
       " Row(BODY=1.0, DOORS=2.0, HP=182.0, MPG=16.0, RPM=5400.0),\n",
       " Row(BODY=1.0, DOORS=2.0, HP=123.0, MPG=22.0, RPM=4350.0),\n",
       " Row(BODY=1.0, DOORS=2.0, HP=176.0, MPG=15.0, RPM=4750.0),\n",
       " Row(BODY=2.0, DOORS=1.0, HP=207.0, MPG=17.0, RPM=5900.0),\n",
       " Row(BODY=2.0, DOORS=1.0, HP=207.0, MPG=17.0, RPM=5900.0),\n",
       " Row(BODY=1.0, DOORS=2.0, HP=155.0, MPG=16.0, RPM=4750.0),\n",
       " Row(BODY=2.0, DOORS=1.0, HP=155.0, MPG=16.0, RPM=4750.0),\n",
       " Row(BODY=1.0, DOORS=2.0, HP=176.0, MPG=15.0, RPM=4750.0),\n",
       " Row(BODY=1.0, DOORS=1.0, HP=262.0, MPG=13.0, RPM=5000.0),\n",
       " Row(BODY=1.0, DOORS=2.0, HP=182.0, MPG=15.0, RPM=5400.0),\n",
       " Row(BODY=2.0, DOORS=1.0, HP=207.0, MPG=17.0, RPM=5900.0),\n",
       " Row(BODY=1.0, DOORS=2.0, HP=184.0, MPG=14.0, RPM=4500.0),\n",
       " Row(BODY=1.0, DOORS=1.0, HP=182.0, MPG=16.0, RPM=5400.0),\n",
       " Row(BODY=2.0, DOORS=1.0, HP=184.0, MPG=14.0, RPM=4500.0)]"
      ]
     },
     "execution_count": 32,
     "metadata": {},
     "output_type": "execute_result"
    }
   ],
   "source": [
    "autoMap = linhas.map(transformToNumeric)\n",
    "autoMap.persist()\n",
    "autoMap.collect()"
   ]
  },
  {
   "cell_type": "code",
   "execution_count": 33,
   "metadata": {},
   "outputs": [
    {
     "name": "stdout",
     "output_type": "stream",
     "text": [
      "+----+-----+----+----+------+\n",
      "|BODY|DOORS|  HP| MPG|   RPM|\n",
      "+----+-----+----+----+------+\n",
      "| 2.0|  1.0|69.0|31.0|4900.0|\n",
      "| 2.0|  1.0|48.0|47.0|5100.0|\n",
      "| 2.0|  1.0|68.0|30.0|5000.0|\n",
      "| 2.0|  1.0|62.0|35.0|4800.0|\n",
      "| 2.0|  1.0|68.0|37.0|5500.0|\n",
      "| 2.0|  1.0|60.0|38.0|5500.0|\n",
      "| 1.0|  1.0|69.0|31.0|5200.0|\n",
      "| 2.0|  1.0|68.0|37.0|5500.0|\n",
      "| 2.0|  1.0|68.0|37.0|5500.0|\n",
      "| 2.0|  1.0|68.0|31.0|5000.0|\n",
      "| 2.0|  1.0|68.0|31.0|5500.0|\n",
      "| 2.0|  2.0|68.0|31.0|5500.0|\n",
      "| 2.0|  2.0|68.0|31.0|5500.0|\n",
      "| 2.0|  1.0|70.0|38.0|5400.0|\n",
      "| 2.0|  1.0|62.0|31.0|4800.0|\n",
      "| 2.0|  1.0|68.0|31.0|5500.0|\n",
      "| 2.0|  1.0|58.0|49.0|4800.0|\n",
      "| 2.0|  2.0|62.0|31.0|4800.0|\n",
      "| 2.0|  1.0|76.0|30.0|6000.0|\n",
      "| 1.0|  2.0|70.0|38.0|5400.0|\n",
      "+----+-----+----+----+------+\n",
      "only showing top 20 rows\n",
      "\n"
     ]
    }
   ],
   "source": [
    "# Criando o dataframe\n",
    "carrosDf = spSession.createDataFrame(autoMap)\n",
    "carrosDf.show()"
   ]
  },
  {
   "cell_type": "code",
   "execution_count": 34,
   "metadata": {},
   "outputs": [],
   "source": [
    "# Aplicando técnicas de normalização e escala\n",
    "summStats = carrosDf.describe().toPandas()\n",
    "medias = summStats.iloc[1,1:5].values.tolist()\n",
    "desvios_padroes = summStats.iloc[2,1:5].values.tolist()"
   ]
  },
  {
   "cell_type": "code",
   "execution_count": 35,
   "metadata": {},
   "outputs": [],
   "source": [
    "# Inserindo a média e o desvio padrão em uma variável do tipo broadcast\n",
    "bcMedias = sc.broadcast(medias)\n",
    "bcDesviosP = sc.broadcast(desvios_padroes)"
   ]
  },
  {
   "cell_type": "code",
   "execution_count": 42,
   "metadata": {},
   "outputs": [],
   "source": [
    "def centerAndScale(inRow):\n",
    "    global bcMedias\n",
    "    global bcDesviosP\n",
    "    \n",
    "    meanArray = bcMedias.value\n",
    "    stdArray = bcDesviosP.value\n",
    "    \n",
    "    retArray = []\n",
    "    \n",
    "    for i in range(len(meanArray)):\n",
    "        retArray.append((float(inRow[i]) - float(meanArray[i])) / float(stdArray[i]))\n",
    "    return Vectors.dense(retArray)"
   ]
  },
  {
   "cell_type": "code",
   "execution_count": 43,
   "metadata": {},
   "outputs": [
    {
     "data": {
      "text/plain": [
       "[DenseVector([0.9337, -1.145, -0.9194, 0.9083]),\n",
       " DenseVector([0.9337, -1.145, -1.4773, 3.3936]),\n",
       " DenseVector([0.9337, -1.145, -0.9459, 0.753]),\n",
       " DenseVector([0.9337, -1.145, -1.1053, 1.5297]),\n",
       " DenseVector([0.9337, -1.145, -0.9459, 1.8403]),\n",
       " DenseVector([0.9337, -1.145, -1.1585, 1.9956]),\n",
       " DenseVector([-1.0656, -1.145, -0.9194, 0.9083]),\n",
       " DenseVector([0.9337, -1.145, -0.9459, 1.8403]),\n",
       " DenseVector([0.9337, -1.145, -0.9459, 1.8403]),\n",
       " DenseVector([0.9337, -1.145, -0.9459, 0.9083]),\n",
       " DenseVector([0.9337, -1.145, -0.9459, 0.9083]),\n",
       " DenseVector([0.9337, 0.869, -0.9459, 0.9083]),\n",
       " DenseVector([0.9337, 0.869, -0.9459, 0.9083]),\n",
       " DenseVector([0.9337, -1.145, -0.8928, 1.9956]),\n",
       " DenseVector([0.9337, -1.145, -1.1053, 0.9083]),\n",
       " DenseVector([0.9337, -1.145, -0.9459, 0.9083]),\n",
       " DenseVector([0.9337, -1.145, -1.2116, 3.7043]),\n",
       " DenseVector([0.9337, 0.869, -1.1053, 0.9083]),\n",
       " DenseVector([0.9337, -1.145, -0.7334, 0.753]),\n",
       " DenseVector([-1.0656, 0.869, -0.8928, 1.9956]),\n",
       " DenseVector([-1.0656, -1.145, -0.9194, 0.9083]),\n",
       " DenseVector([0.9337, -1.145, -0.9459, 0.9083]),\n",
       " DenseVector([-1.0656, 0.869, -0.9459, 0.9083]),\n",
       " DenseVector([-1.0656, 0.869, -0.9459, 0.9083]),\n",
       " DenseVector([-1.0656, 0.869, -0.9459, 0.9083]),\n",
       " DenseVector([-1.0656, 0.869, -0.6802, -0.179]),\n",
       " DenseVector([0.9337, -1.145, -0.9459, 0.9083]),\n",
       " DenseVector([-1.0656, 0.869, -0.9194, 0.9083]),\n",
       " DenseVector([0.9337, -1.145, -0.7334, 0.9083]),\n",
       " DenseVector([0.9337, 0.869, -1.1053, 0.9083]),\n",
       " DenseVector([-1.0656, 0.869, -0.8928, 0.753]),\n",
       " DenseVector([-1.0656, 0.869, -0.4146, -0.0237]),\n",
       " DenseVector([0.9337, -1.145, -0.8131, 0.1317]),\n",
       " DenseVector([-1.0656, -1.145, -1.2913, 3.083]),\n",
       " DenseVector([-1.0656, 0.869, -0.574, 1.0637]),\n",
       " DenseVector([0.9337, -1.145, -0.7334, 0.753]),\n",
       " DenseVector([0.9337, 0.869, -0.8928, 0.753]),\n",
       " DenseVector([-1.0656, 0.869, -0.7334, 0.753]),\n",
       " DenseVector([0.9337, 0.869, -0.7334, 0.753]),\n",
       " DenseVector([-1.0656, -1.145, -0.9194, 0.9083]),\n",
       " DenseVector([0.9337, 0.869, -0.9194, 0.9083]),\n",
       " DenseVector([-1.0656, 0.869, -0.9459, 0.9083]),\n",
       " DenseVector([0.9337, 0.869, -0.574, 0.4423]),\n",
       " DenseVector([-1.0656, 0.869, -0.9194, 0.9083]),\n",
       " DenseVector([0.9337, -1.145, -0.8131, 0.1317]),\n",
       " DenseVector([-1.0656, 0.869, -0.9459, 0.9083]),\n",
       " DenseVector([-1.0656, 0.869, -0.9459, 0.9083]),\n",
       " DenseVector([0.9337, -1.145, -0.0426, -0.179]),\n",
       " DenseVector([-1.0656, 0.869, -0.8928, 1.9956]),\n",
       " DenseVector([-1.0656, 0.869, -0.574, 0.4423]),\n",
       " DenseVector([-1.0656, -1.145, -1.371, 1.8403]),\n",
       " DenseVector([0.9337, 0.869, -1.2647, 1.9956]),\n",
       " DenseVector([0.9337, -1.145, -0.9194, 0.9083]),\n",
       " DenseVector([0.9337, -1.145, -0.4677, 0.287]),\n",
       " DenseVector([0.9337, 0.869, -1.1053, 0.287]),\n",
       " DenseVector([-1.0656, 0.869, -1.2647, 1.3743]),\n",
       " DenseVector([0.9337, -1.145, -0.0426, -0.179]),\n",
       " DenseVector([0.9337, -1.145, -0.0426, -0.179]),\n",
       " DenseVector([-1.0656, -1.145, -0.4943, 0.287]),\n",
       " DenseVector([-1.0656, 0.869, -1.371, 1.8403]),\n",
       " DenseVector([0.9337, 0.869, -0.9194, 0.9083]),\n",
       " DenseVector([0.9337, 0.869, -0.574, -0.3343]),\n",
       " DenseVector([-1.0656, -1.145, -0.8928, 0.5977]),\n",
       " DenseVector([-1.0656, 0.869, -0.4146, -0.0237]),\n",
       " DenseVector([-1.0656, 0.869, -0.4943, 0.287]),\n",
       " DenseVector([0.9337, -1.145, -0.8928, 0.5977]),\n",
       " DenseVector([0.9337, -1.145, -0.9194, 0.9083]),\n",
       " DenseVector([0.9337, 0.869, -0.8928, 0.4423]),\n",
       " DenseVector([0.9337, -1.145, 0.3293, -0.179]),\n",
       " DenseVector([-1.0656, 0.869, -0.5208, 0.1317]),\n",
       " DenseVector([-1.0656, 0.869, -0.4943, 0.287]),\n",
       " DenseVector([0.9337, -1.145, -0.4146, -0.0237]),\n",
       " DenseVector([0.9337, 0.869, -1.1053, 0.287]),\n",
       " DenseVector([-1.0656, 0.869, -0.4677, 0.287]),\n",
       " DenseVector([0.9337, -1.145, -0.5208, 0.1317]),\n",
       " DenseVector([0.9337, 0.869, -0.4146, -0.179]),\n",
       " DenseVector([0.9337, 0.869, -0.4146, -0.179]),\n",
       " DenseVector([-1.0656, 0.869, -0.3083, 0.5977]),\n",
       " DenseVector([0.9337, 0.869, -0.1755, 0.287]),\n",
       " DenseVector([0.9337, -1.145, -0.4677, 0.287]),\n",
       " DenseVector([-1.0656, 0.869, -0.574, -0.179]),\n",
       " DenseVector([-1.0656, 0.869, -0.8928, 0.4423]),\n",
       " DenseVector([-1.0656, 0.869, 0.3293, -0.3343]),\n",
       " DenseVector([-1.0656, 0.869, 0.3293, -0.3343]),\n",
       " DenseVector([-1.0656, -1.145, 0.2231, 0.1317]),\n",
       " DenseVector([-1.0656, 0.869, -0.9459, 1.8403]),\n",
       " DenseVector([0.9337, -1.145, 0.2231, 0.1317]),\n",
       " DenseVector([-1.0656, 0.869, -0.1755, 0.287]),\n",
       " DenseVector([0.9337, -1.145, 0.3293, -0.179]),\n",
       " DenseVector([0.9337, -1.145, 0.3293, -0.3343]),\n",
       " DenseVector([-1.0656, 0.869, -0.2552, 0.1317]),\n",
       " DenseVector([0.9337, -1.145, -0.3614, -0.179]),\n",
       " DenseVector([0.9337, 0.869, -0.3083, 0.287]),\n",
       " DenseVector([0.9337, -1.145, 0.3293, -0.179]),\n",
       " DenseVector([-1.0656, 0.869, -0.0958, 0.1317]),\n",
       " DenseVector([0.9337, 0.869, -0.2552, -0.0237]),\n",
       " DenseVector([-1.0656, 0.869, -0.5208, 0.1317]),\n",
       " DenseVector([-1.0656, 0.869, -0.4677, 0.287]),\n",
       " DenseVector([-1.0656, -1.145, -0.0958, -0.0237]),\n",
       " DenseVector([0.9337, -1.145, -0.5208, 0.1317]),\n",
       " DenseVector([-1.0656, 0.869, -0.8131, 0.753]),\n",
       " DenseVector([-1.0656, 0.869, -0.3083, 0.287]),\n",
       " DenseVector([0.9337, -1.145, -0.0692, -1.2663]),\n",
       " DenseVector([0.9337, -1.145, -0.3614, -0.179]),\n",
       " DenseVector([0.9337, -1.145, 0.3293, -0.179]),\n",
       " DenseVector([0.9337, 0.869, -0.5208, 0.1317]),\n",
       " DenseVector([0.9337, 0.869, -0.3083, 0.287]),\n",
       " DenseVector([-1.0656, 0.869, 0.1965, -0.179]),\n",
       " DenseVector([0.9337, -1.145, 0.3293, -0.179]),\n",
       " DenseVector([0.9337, -1.145, -0.3614, -0.179]),\n",
       " DenseVector([0.9337, 0.869, 0.1965, -0.3343]),\n",
       " DenseVector([0.9337, -1.145, -0.0692, -1.2663]),\n",
       " DenseVector([0.9337, -1.145, 0.1699, -0.645]),\n",
       " DenseVector([-1.0656, 0.869, -0.1755, -0.9556]),\n",
       " DenseVector([-1.0656, 0.869, 0.1699, -0.645]),\n",
       " DenseVector([0.9337, 0.869, -0.4146, -0.0237]),\n",
       " DenseVector([0.9337, 0.869, -0.1755, -0.9556]),\n",
       " DenseVector([0.9337, -1.145, 1.0998, -0.9556]),\n",
       " DenseVector([0.9337, -1.145, 1.0998, -0.9556]),\n",
       " DenseVector([-1.0656, 0.869, 0.2762, -0.3343]),\n",
       " DenseVector([-1.0656, 0.869, -0.0692, -0.179]),\n",
       " DenseVector([0.9337, -1.145, 1.0998, -0.9556]),\n",
       " DenseVector([-1.0656, 0.869, -0.2286, 0.4423]),\n",
       " DenseVector([-1.0656, 0.869, 0.1699, -0.9556]),\n",
       " DenseVector([0.9337, 0.869, 0.2762, -0.3343]),\n",
       " DenseVector([0.9337, -1.145, 0.1965, -0.645]),\n",
       " DenseVector([-1.0656, 0.869, 1.2858, -1.2663]),\n",
       " DenseVector([-1.0656, 0.869, 1.2858, -0.9556]),\n",
       " DenseVector([0.9337, -1.145, -0.0692, -1.2663]),\n",
       " DenseVector([-1.0656, 0.869, -0.9459, 1.219]),\n",
       " DenseVector([0.9337, 0.869, -0.2286, -0.0237]),\n",
       " DenseVector([-1.0656, 0.869, -0.0426, -0.179]),\n",
       " DenseVector([0.9337, 0.869, 1.2858, -1.2663]),\n",
       " DenseVector([0.9337, -1.145, 1.0998, -0.9556]),\n",
       " DenseVector([0.9337, -1.145, 1.0998, -0.9556]),\n",
       " DenseVector([0.9337, -1.145, 0.1699, -0.645]),\n",
       " DenseVector([-1.0656, -1.145, 0.1699, -0.9556]),\n",
       " DenseVector([-1.0656, 0.869, 0.1699, -0.645]),\n",
       " DenseVector([-1.0656, 0.869, -0.2286, -0.9556]),\n",
       " DenseVector([0.9337, -1.145, 0.8341, -1.4216]),\n",
       " DenseVector([-1.0656, 0.869, 1.3921, -0.8003]),\n",
       " DenseVector([0.9337, 0.869, 1.3921, -0.9556]),\n",
       " DenseVector([-1.0656, 0.869, 0.2762, -0.179]),\n",
       " DenseVector([0.9337, -1.145, 1.5249, -0.9556]),\n",
       " DenseVector([-1.0656, -1.145, -0.0692, -0.3343]),\n",
       " DenseVector([0.9337, -1.145, 0.1965, -0.645]),\n",
       " DenseVector([0.9337, -1.145, 1.3389, -0.9556]),\n",
       " DenseVector([0.9337, -1.145, 1.8969, -0.9556]),\n",
       " DenseVector([0.9337, 0.869, 0.2762, -0.179]),\n",
       " DenseVector([0.9337, -1.145, 1.5249, -0.8003]),\n",
       " DenseVector([-1.0656, 0.869, -0.1755, -0.9556]),\n",
       " DenseVector([0.9337, 0.869, -0.2286, -0.9556]),\n",
       " DenseVector([-1.0656, 0.869, 0.2762, -0.3343]),\n",
       " DenseVector([-1.0656, 0.869, -0.2286, 0.4423]),\n",
       " DenseVector([-1.0656, 0.869, -0.0692, -0.3343]),\n",
       " DenseVector([0.9337, 0.869, -0.2286, -0.0237]),\n",
       " DenseVector([0.9337, -1.145, 1.4983, -0.9556]),\n",
       " DenseVector([-1.0656, 0.869, 0.3028, -1.111]),\n",
       " DenseVector([0.9337, -1.145, 0.3293, -0.179]),\n",
       " DenseVector([-1.0656, 0.869, 0.1699, -0.9556]),\n",
       " DenseVector([-1.0656, 0.869, -0.2286, 0.4423]),\n",
       " DenseVector([-1.0656, 0.869, 1.0201, -1.111]),\n",
       " DenseVector([0.9337, -1.145, 1.4983, -0.9556]),\n",
       " DenseVector([-1.0656, 0.869, 0.4356, -0.9556]),\n",
       " DenseVector([-1.0656, 0.869, -0.8397, 0.9083]),\n",
       " DenseVector([0.9337, -1.145, 1.4983, -0.9556]),\n",
       " DenseVector([-1.0656, 0.869, 1.5515, -1.2663]),\n",
       " DenseVector([-1.0656, 0.869, 1.4983, -0.9556]),\n",
       " DenseVector([0.9337, 0.869, 0.1699, -0.9556]),\n",
       " DenseVector([0.9337, 0.869, 1.5515, -1.2663]),\n",
       " DenseVector([-1.0656, 0.869, 1.4983, -0.9556]),\n",
       " DenseVector([0.9337, -1.145, 2.5611, -1.2663]),\n",
       " DenseVector([-1.0656, -1.145, 0.4622, -0.645]),\n",
       " DenseVector([-1.0656, 0.869, 0.4622, -0.645]),\n",
       " DenseVector([-1.0656, 0.869, 0.8076, -1.111]),\n",
       " DenseVector([0.9337, -1.145, 1.0467, -0.9556]),\n",
       " DenseVector([-1.0656, 0.869, 0.0637, 0.1317]),\n",
       " DenseVector([-1.0656, 0.869, 0.2762, -0.9556]),\n",
       " DenseVector([-1.0656, 0.869, 0.967, -1.2663]),\n",
       " DenseVector([-1.0656, 0.869, 0.4622, -0.8003]),\n",
       " DenseVector([-1.0656, 0.869, 0.5153, -0.4896]),\n",
       " DenseVector([0.9337, -1.145, 0.5153, -0.4896]),\n",
       " DenseVector([0.9337, 0.869, 0.5153, -0.4896]),\n",
       " DenseVector([-1.0656, 0.869, 2.0828, -1.4216]),\n",
       " DenseVector([-1.0656, 0.869, 0.5153, -0.4896]),\n",
       " DenseVector([-1.0656, 0.869, 1.9234, -1.577]),\n",
       " DenseVector([0.9337, -1.145, 2.747, -1.2663]),\n",
       " DenseVector([0.9337, -1.145, 2.747, -1.2663]),\n",
       " DenseVector([-1.0656, 0.869, 1.3655, -1.4216]),\n",
       " DenseVector([0.9337, -1.145, 1.3655, -1.4216]),\n",
       " DenseVector([-1.0656, 0.869, 1.9234, -1.577]),\n",
       " DenseVector([-1.0656, -1.145, 4.2083, -1.8876]),\n",
       " DenseVector([-1.0656, 0.869, 2.0828, -1.577]),\n",
       " DenseVector([0.9337, -1.145, 2.747, -1.2663]),\n",
       " DenseVector([-1.0656, 0.869, 2.136, -1.7323]),\n",
       " DenseVector([-1.0656, -1.145, 2.0828, -1.4216]),\n",
       " DenseVector([0.9337, -1.145, 2.136, -1.7323])]"
      ]
     },
     "execution_count": 43,
     "metadata": {},
     "output_type": "execute_result"
    }
   ],
   "source": [
    "csAuto = carrosDf.rdd.map(centerAndScale)\n",
    "csAuto.collect()"
   ]
  },
  {
   "cell_type": "code",
   "execution_count": 44,
   "metadata": {},
   "outputs": [
    {
     "name": "stdout",
     "output_type": "stream",
     "text": [
      "+--------------------+\n",
      "|            features|\n",
      "+--------------------+\n",
      "|[0.93367168148051...|\n",
      "|[0.93367168148051...|\n",
      "|[0.93367168148051...|\n",
      "|[0.93367168148051...|\n",
      "|[0.93367168148051...|\n",
      "|[0.93367168148051...|\n",
      "|[-1.0656035495158...|\n",
      "|[0.93367168148051...|\n",
      "|[0.93367168148051...|\n",
      "|[0.93367168148051...|\n",
      "+--------------------+\n",
      "only showing top 10 rows\n",
      "\n"
     ]
    }
   ],
   "source": [
    "autoRows = csAuto.map(lambda f: Row(features = f))\n",
    "autoDF = spSession.createDataFrame(autoRows)\n",
    "autoDF.select(\"features\").show(10)"
   ]
  },
  {
   "cell_type": "code",
   "execution_count": 45,
   "metadata": {},
   "outputs": [
    {
     "name": "stdout",
     "output_type": "stream",
     "text": [
      "+--------------------+----------+\n",
      "|            features|prediction|\n",
      "+--------------------+----------+\n",
      "|[0.93367168148051...|         1|\n",
      "|[0.93367168148051...|         1|\n",
      "|[0.93367168148051...|         1|\n",
      "|[0.93367168148051...|         1|\n",
      "|[0.93367168148051...|         1|\n",
      "|[0.93367168148051...|         1|\n",
      "|[-1.0656035495158...|         0|\n",
      "|[0.93367168148051...|         1|\n",
      "|[0.93367168148051...|         1|\n",
      "|[0.93367168148051...|         1|\n",
      "|[0.93367168148051...|         1|\n",
      "|[0.93367168148051...|         1|\n",
      "|[0.93367168148051...|         1|\n",
      "|[0.93367168148051...|         1|\n",
      "|[0.93367168148051...|         1|\n",
      "|[0.93367168148051...|         1|\n",
      "|[0.93367168148051...|         1|\n",
      "|[0.93367168148051...|         1|\n",
      "|[0.93367168148051...|         1|\n",
      "|[-1.0656035495158...|         0|\n",
      "+--------------------+----------+\n",
      "only showing top 20 rows\n",
      "\n"
     ]
    }
   ],
   "source": [
    "# Importando o algoritmo K-Means para clusterização\n",
    "from pyspark.ml.clustering import KMeans\n",
    "kmeans = KMeans(k = 3, seed = 1)\n",
    "modelo = kmeans.fit(autoDF)\n",
    "previsoes = modelo.transform(autoDF)\n",
    "previsoes.show()"
   ]
  },
  {
   "cell_type": "code",
   "execution_count": 46,
   "metadata": {},
   "outputs": [],
   "source": [
    "# Plot dos resultados\n",
    "import pandas as pd\n",
    "import matplotlib.pylab as plt\n",
    "%matplotlib inline"
   ]
  },
  {
   "cell_type": "code",
   "execution_count": 47,
   "metadata": {},
   "outputs": [],
   "source": [
    "def unstripData(instr):\n",
    "    return (instr[\"prediction\"], instr[\"features\"][0],instr[\"features\"][1], instr[\"features\"][2], instr[\"features\"][3])"
   ]
  },
  {
   "cell_type": "code",
   "execution_count": 49,
   "metadata": {},
   "outputs": [],
   "source": [
    "# Organizando os dados para plot\n",
    "unstripped = previsoes.rdd.map(unstripData)\n",
    "predList = unstripped.collect()\n",
    "predPd = pd.DataFrame(predList)"
   ]
  },
  {
   "cell_type": "code",
   "execution_count": 50,
   "metadata": {},
   "outputs": [
    {
     "data": {
      "text/plain": [
       "<matplotlib.collections.PathCollection at 0x7fd9be274c18>"
      ]
     },
     "execution_count": 50,
     "metadata": {},
     "output_type": "execute_result"
    },
    {
     "data": {
      "image/png": "[encoded data removed]",
      "text/plain": [
       "<Figure size 432x288 with 1 Axes>"
      ]
     },
     "metadata": {
      "needs_background": "light"
     },
     "output_type": "display_data"
    }
   ],
   "source": [
    "plt.cla()\n",
    "plt.scatter(predPd[3], predPd[4], c = predPd[0])"
   ]
  },
  {
   "cell_type": "markdown",
   "metadata": {},
   "source": [
    "## Spark SQL e Arquivos JSON"
   ]
  },
  {
   "cell_type": "code",
   "execution_count": 51,
   "metadata": {},
   "outputs": [],
   "source": [
    "# Importando o arquivo JSON\n",
    "funcDF = spSession.read.json(\"data/funcionarios.json\")"
   ]
  },
  {
   "cell_type": "code",
   "execution_count": 52,
   "metadata": {},
   "outputs": [
    {
     "name": "stdout",
     "output_type": "stream",
     "text": [
      "+------+-----+----------------+-------+----+\n",
      "|deptid|idade|            nome|salario|sexo|\n",
      "+------+-----+----------------+-------+----+\n",
      "|  1000|   42|   Josias Rebelo|   7000|   m|\n",
      "|  2000|   50|Mauricio Gonheim|   9500|   m|\n",
      "|  1000|   36| Bruno Velasquez|   6700|   m|\n",
      "|  1000|   41|  Ananda Tavares|   9300|   f|\n",
      "|  2000|   34|     Carlos Maia|   5500|   m|\n",
      "+------+-----+----------------+-------+----+\n",
      "\n"
     ]
    }
   ],
   "source": [
    "funcDF.show()"
   ]
  },
  {
   "cell_type": "code",
   "execution_count": 53,
   "metadata": {},
   "outputs": [
    {
     "name": "stdout",
     "output_type": "stream",
     "text": [
      "root\n",
      " |-- deptid: string (nullable = true)\n",
      " |-- idade: string (nullable = true)\n",
      " |-- nome: string (nullable = true)\n",
      " |-- salario: string (nullable = true)\n",
      " |-- sexo: string (nullable = true)\n",
      "\n"
     ]
    }
   ],
   "source": [
    "funcDF.printSchema()"
   ]
  },
  {
   "cell_type": "code",
   "execution_count": 54,
   "metadata": {},
   "outputs": [
    {
     "data": {
      "text/plain": [
       "pyspark.sql.dataframe.DataFrame"
      ]
     },
     "execution_count": 54,
     "metadata": {},
     "output_type": "execute_result"
    }
   ],
   "source": [
    "type(funcDF)"
   ]
  },
  {
   "cell_type": "code",
   "execution_count": 55,
   "metadata": {},
   "outputs": [
    {
     "name": "stdout",
     "output_type": "stream",
     "text": [
      "+----------------+\n",
      "|            nome|\n",
      "+----------------+\n",
      "|   Josias Rebelo|\n",
      "|Mauricio Gonheim|\n",
      "| Bruno Velasquez|\n",
      "|  Ananda Tavares|\n",
      "|     Carlos Maia|\n",
      "+----------------+\n",
      "\n"
     ]
    }
   ],
   "source": [
    "# Operações com DataFrame Spark SQL - select()\n",
    "funcDF.select(\"nome\").show()"
   ]
  },
  {
   "cell_type": "code",
   "execution_count": 56,
   "metadata": {},
   "outputs": [
    {
     "name": "stdout",
     "output_type": "stream",
     "text": [
      "+------+-----+----------------+-------+----+\n",
      "|deptid|idade|            nome|salario|sexo|\n",
      "+------+-----+----------------+-------+----+\n",
      "|  2000|   50|Mauricio Gonheim|   9500|   m|\n",
      "+------+-----+----------------+-------+----+\n",
      "\n"
     ]
    }
   ],
   "source": [
    "# Operações com DataFrame Spark SQL - filter()\n",
    "funcDF.filter(funcDF[\"idade\"] == 50).show()"
   ]
  },
  {
   "cell_type": "code",
   "execution_count": 57,
   "metadata": {},
   "outputs": [
    {
     "name": "stdout",
     "output_type": "stream",
     "text": [
      "+----+-----+\n",
      "|sexo|count|\n",
      "+----+-----+\n",
      "|   m|    4|\n",
      "|   f|    1|\n",
      "+----+-----+\n",
      "\n"
     ]
    }
   ],
   "source": [
    "# Operações com DataFrame Spark SQL - groupBy()\n",
    "funcDF.groupBy(\"sexo\").count().show()"
   ]
  },
  {
   "cell_type": "code",
   "execution_count": 58,
   "metadata": {},
   "outputs": [
    {
     "name": "stdout",
     "output_type": "stream",
     "text": [
      "+------+----------+-----------------+\n",
      "|deptid|max(idade)|     avg(salario)|\n",
      "+------+----------+-----------------+\n",
      "|  2000|        50|           7500.0|\n",
      "|  1000|        42|7666.666666666667|\n",
      "+------+----------+-----------------+\n",
      "\n"
     ]
    }
   ],
   "source": [
    "# Operações com DataFrame Spark SQL - groupBy()\n",
    "funcDF.groupBy(\"deptid\").agg({\"salario\": \"avg\", \"idade\": \"max\"}).show()"
   ]
  },
  {
   "cell_type": "code",
   "execution_count": 59,
   "metadata": {},
   "outputs": [],
   "source": [
    "# Registrando o dataframe como uma temp table\n",
    "funcDF.registerTempTable(\"funcTB\")"
   ]
  },
  {
   "cell_type": "code",
   "execution_count": 60,
   "metadata": {},
   "outputs": [
    {
     "name": "stdout",
     "output_type": "stream",
     "text": [
      "+------+----------+----------------------------+\n",
      "|deptid|max(idade)|avg(CAST(salario AS DOUBLE))|\n",
      "+------+----------+----------------------------+\n",
      "|  2000|        50|                      7500.0|\n",
      "|  1000|        42|           7666.666666666667|\n",
      "+------+----------+----------------------------+\n",
      "\n"
     ]
    }
   ],
   "source": [
    "# Executando queries SQL ANSI\n",
    "spSession.sql(\"select deptid, max(idade), avg(salario)from funcTB group by deptid\").show()"
   ]
  },
  {
   "cell_type": "markdown",
   "metadata": {},
   "source": [
    "## Temp Tables\n"
   ]
  },
  {
   "cell_type": "code",
   "execution_count": 61,
   "metadata": {},
   "outputs": [],
   "source": [
    "# Registrando o dataframe como temp table\n",
    "funcDF.createOrReplaceTempView(\"funcTB\")"
   ]
  },
  {
   "cell_type": "code",
   "execution_count": 62,
   "metadata": {},
   "outputs": [
    {
     "name": "stdout",
     "output_type": "stream",
     "text": [
      "+------+-----+---------------+-------+----+\n",
      "|deptid|idade|           nome|salario|sexo|\n",
      "+------+-----+---------------+-------+----+\n",
      "|  1000|   36|Bruno Velasquez|   6700|   m|\n",
      "+------+-----+---------------+-------+----+\n",
      "\n"
     ]
    }
   ],
   "source": [
    "spSession.sql(\"select * from funcTB where salario = 6700\").show()"
   ]
  },
  {
   "cell_type": "code",
   "execution_count": 63,
   "metadata": {},
   "outputs": [],
   "source": [
    "# Criando Temp Table\n",
    "sqlContext.registerDataFrameAsTable(funcDF, \"funcTB2\")"
   ]
  },
  {
   "cell_type": "code",
   "execution_count": 64,
   "metadata": {},
   "outputs": [
    {
     "ename": "NameError",
     "evalue": "name 'funcTB2' is not defined",
     "output_type": "error",
     "traceback": [
      "\u001b[0;31m------------------------------------------------------------------\u001b[0m",
      "\u001b[0;31mNameError\u001b[0m                        Traceback (most recent call last)",
      "\u001b[0;32m<ipython-input-64-f4105f0fb9ac>\u001b[0m in \u001b[0;36m<module>\u001b[0;34m\u001b[0m\n\u001b[0;32m----> 1\u001b[0;31m \u001b[0mtype\u001b[0m\u001b[0;34m(\u001b[0m\u001b[0mfuncTB2\u001b[0m\u001b[0;34m)\u001b[0m\u001b[0;34m\u001b[0m\u001b[0;34m\u001b[0m\u001b[0m\n\u001b[0m",
      "\u001b[0;31mNameError\u001b[0m: name 'funcTB2' is not defined"
     ]
    }
   ],
   "source": [
    "type(funcTB2)"
   ]
  },
  {
   "cell_type": "code",
   "execution_count": 65,
   "metadata": {},
   "outputs": [],
   "source": [
    "# Persistindo a Temp Table\n",
    "funcTB3 = spSession.table(\"funcTB2\")"
   ]
  },
  {
   "cell_type": "code",
   "execution_count": 66,
   "metadata": {},
   "outputs": [
    {
     "data": {
      "text/plain": [
       "pyspark.sql.dataframe.DataFrame"
      ]
     },
     "execution_count": 66,
     "metadata": {},
     "output_type": "execute_result"
    }
   ],
   "source": [
    "type(funcTB3)"
   ]
  },
  {
   "cell_type": "code",
   "execution_count": 67,
   "metadata": {},
   "outputs": [
    {
     "data": {
      "text/plain": [
       "True"
      ]
     },
     "execution_count": 67,
     "metadata": {},
     "output_type": "execute_result"
    }
   ],
   "source": [
    "# Comparando o Dataframe com a tabela temporaria criada\n",
    "sorted(funcDF.collect()) == sorted(funcTB3.collect())"
   ]
  },
  {
   "cell_type": "code",
   "execution_count": 69,
   "metadata": {},
   "outputs": [
    {
     "data": {
      "text/plain": [
       "Row(deptid='1000', idade='42', nome='Josias Rebelo', salario='7000', sexo='m')"
      ]
     },
     "execution_count": 69,
     "metadata": {},
     "output_type": "execute_result"
    }
   ],
   "source": [
    "# Aplicando o filtro\n",
    "sqlContext.registerDataFrameAsTable(funcDF, \"funcTB2\")\n",
    "funcTB3 = spSession.table(\"funcTB2\")\n",
    "funcTB3.filter(\"idade = '42'\").first()"
   ]
  },
  {
   "cell_type": "code",
   "execution_count": 70,
   "metadata": {},
   "outputs": [],
   "source": [
    "# Drop temp table\n",
    "sqlContext.dropTempTable(\"funcTB2\")"
   ]
  },
  {
   "cell_type": "markdown",
   "metadata": {},
   "source": [
    "# Banco de Dados relacionais"
   ]
  },
  {
   "cell_type": "code",
   "execution_count": 71,
   "metadata": {},
   "outputs": [],
   "source": [
    "from pyspark.sql import SQLContext\n",
    "sqlContext = SQLContext(sc)"
   ]
  },
  {
   "cell_type": "code",
   "execution_count": 72,
   "metadata": {},
   "outputs": [
    {
     "ename": "Py4JJavaError",
     "evalue": "An error occurred while calling o506.load.\n: java.lang.ClassNotFoundException: com.mysql.jdbc.Driver\n\tat java.net.URLClassLoader.findClass(URLClassLoader.java:382)\n\tat java.lang.ClassLoader.loadClass(ClassLoader.java:424)\n\tat java.lang.ClassLoader.loadClass(ClassLoader.java:357)\n\tat org.apache.spark.sql.execution.datasources.jdbc.DriverRegistry$.register(DriverRegistry.scala:45)\n\tat org.apache.spark.sql.execution.datasources.jdbc.JDBCOptions$$anonfun$5.apply(JDBCOptions.scala:99)\n\tat org.apache.spark.sql.execution.datasources.jdbc.JDBCOptions$$anonfun$5.apply(JDBCOptions.scala:99)\n\tat scala.Option.foreach(Option.scala:257)\n\tat org.apache.spark.sql.execution.datasources.jdbc.JDBCOptions.<init>(JDBCOptions.scala:99)\n\tat org.apache.spark.sql.execution.datasources.jdbc.JDBCOptions.<init>(JDBCOptions.scala:35)\n\tat org.apache.spark.sql.execution.datasources.jdbc.JdbcRelationProvider.createRelation(JdbcRelationProvider.scala:32)\n\tat org.apache.spark.sql.execution.datasources.DataSource.resolveRelation(DataSource.scala:318)\n\tat org.apache.spark.sql.DataFrameReader.loadV1Source(DataFrameReader.scala:223)\n\tat org.apache.spark.sql.DataFrameReader.load(DataFrameReader.scala:211)\n\tat org.apache.spark.sql.DataFrameReader.load(DataFrameReader.scala:167)\n\tat sun.reflect.NativeMethodAccessorImpl.invoke0(Native Method)\n\tat sun.reflect.NativeMethodAccessorImpl.invoke(NativeMethodAccessorImpl.java:62)\n\tat sun.reflect.DelegatingMethodAccessorImpl.invoke(DelegatingMethodAccessorImpl.java:43)\n\tat java.lang.reflect.Method.invoke(Method.java:498)\n\tat py4j.reflection.MethodInvoker.invoke(MethodInvoker.java:244)\n\tat py4j.reflection.ReflectionEngine.invoke(ReflectionEngine.java:357)\n\tat py4j.Gateway.invoke(Gateway.java:282)\n\tat py4j.commands.AbstractCommand.invokeMethod(AbstractCommand.java:132)\n\tat py4j.commands.CallCommand.execute(CallCommand.java:79)\n\tat py4j.GatewayConnection.run(GatewayConnection.java:238)\n\tat java.lang.Thread.run(Thread.java:748)\n",
     "output_type": "error",
     "traceback": [
      "\u001b[0;31m-----------------------------------------------------------------\u001b[0m",
      "\u001b[0;31mPy4JJavaError\u001b[0m                   Traceback (most recent call last)",
      "\u001b[0;32m<ipython-input-72-c156e6e2a2c9>\u001b[0m in \u001b[0;36m<module>\u001b[0;34m\u001b[0m\n\u001b[1;32m      4\u001b[0m             \u001b[0mdbtable\u001b[0m \u001b[0;34m=\u001b[0m \u001b[0;34m\"carrosTB\"\u001b[0m\u001b[0;34m,\u001b[0m\u001b[0;34m\u001b[0m\u001b[0;34m\u001b[0m\u001b[0m\n\u001b[1;32m      5\u001b[0m             \u001b[0muser\u001b[0m \u001b[0;34m=\u001b[0m \u001b[0;34m\"aline\"\u001b[0m\u001b[0;34m,\u001b[0m\u001b[0;34m\u001b[0m\u001b[0;34m\u001b[0m\u001b[0m\n\u001b[0;32m----> 6\u001b[0;31m             password = \"aline\").load()\n\u001b[0m",
      "\u001b[0;32m/opt/spark/python/pyspark/sql/readwriter.py\u001b[0m in \u001b[0;36mload\u001b[0;34m(self, path, format, schema, **options)\u001b[0m\n\u001b[1;32m    170\u001b[0m             \u001b[0;32mreturn\u001b[0m \u001b[0mself\u001b[0m\u001b[0;34m.\u001b[0m\u001b[0m_df\u001b[0m\u001b[0;34m(\u001b[0m\u001b[0mself\u001b[0m\u001b[0;34m.\u001b[0m\u001b[0m_jreader\u001b[0m\u001b[0;34m.\u001b[0m\u001b[0mload\u001b[0m\u001b[0;34m(\u001b[0m\u001b[0mself\u001b[0m\u001b[0;34m.\u001b[0m\u001b[0m_spark\u001b[0m\u001b[0;34m.\u001b[0m\u001b[0m_sc\u001b[0m\u001b[0;34m.\u001b[0m\u001b[0m_jvm\u001b[0m\u001b[0;34m.\u001b[0m\u001b[0mPythonUtils\u001b[0m\u001b[0;34m.\u001b[0m\u001b[0mtoSeq\u001b[0m\u001b[0;34m(\u001b[0m\u001b[0mpath\u001b[0m\u001b[0;34m)\u001b[0m\u001b[0;34m)\u001b[0m\u001b[0;34m)\u001b[0m\u001b[0;34m\u001b[0m\u001b[0;34m\u001b[0m\u001b[0m\n\u001b[1;32m    171\u001b[0m         \u001b[0;32melse\u001b[0m\u001b[0;34m:\u001b[0m\u001b[0;34m\u001b[0m\u001b[0;34m\u001b[0m\u001b[0m\n\u001b[0;32m--> 172\u001b[0;31m             \u001b[0;32mreturn\u001b[0m \u001b[0mself\u001b[0m\u001b[0;34m.\u001b[0m\u001b[0m_df\u001b[0m\u001b[0;34m(\u001b[0m\u001b[0mself\u001b[0m\u001b[0;34m.\u001b[0m\u001b[0m_jreader\u001b[0m\u001b[0;34m.\u001b[0m\u001b[0mload\u001b[0m\u001b[0;34m(\u001b[0m\u001b[0;34m)\u001b[0m\u001b[0;34m)\u001b[0m\u001b[0;34m\u001b[0m\u001b[0;34m\u001b[0m\u001b[0m\n\u001b[0m\u001b[1;32m    173\u001b[0m \u001b[0;34m\u001b[0m\u001b[0m\n\u001b[1;32m    174\u001b[0m     \u001b[0;34m@\u001b[0m\u001b[0msince\u001b[0m\u001b[0;34m(\u001b[0m\u001b[0;36m1.4\u001b[0m\u001b[0;34m)\u001b[0m\u001b[0;34m\u001b[0m\u001b[0;34m\u001b[0m\u001b[0m\n",
      "\u001b[0;32m/opt/spark/python/lib/py4j-0.10.7-src.zip/py4j/java_gateway.py\u001b[0m in \u001b[0;36m__call__\u001b[0;34m(self, *args)\u001b[0m\n\u001b[1;32m   1255\u001b[0m         \u001b[0manswer\u001b[0m \u001b[0;34m=\u001b[0m \u001b[0mself\u001b[0m\u001b[0;34m.\u001b[0m\u001b[0mgateway_client\u001b[0m\u001b[0;34m.\u001b[0m\u001b[0msend_command\u001b[0m\u001b[0;34m(\u001b[0m\u001b[0mcommand\u001b[0m\u001b[0;34m)\u001b[0m\u001b[0;34m\u001b[0m\u001b[0;34m\u001b[0m\u001b[0m\n\u001b[1;32m   1256\u001b[0m         return_value = get_return_value(\n\u001b[0;32m-> 1257\u001b[0;31m             answer, self.gateway_client, self.target_id, self.name)\n\u001b[0m\u001b[1;32m   1258\u001b[0m \u001b[0;34m\u001b[0m\u001b[0m\n\u001b[1;32m   1259\u001b[0m         \u001b[0;32mfor\u001b[0m \u001b[0mtemp_arg\u001b[0m \u001b[0;32min\u001b[0m \u001b[0mtemp_args\u001b[0m\u001b[0;34m:\u001b[0m\u001b[0;34m\u001b[0m\u001b[0;34m\u001b[0m\u001b[0m\n",
      "\u001b[0;32m/opt/spark/python/pyspark/sql/utils.py\u001b[0m in \u001b[0;36mdeco\u001b[0;34m(*a, **kw)\u001b[0m\n\u001b[1;32m     61\u001b[0m     \u001b[0;32mdef\u001b[0m \u001b[0mdeco\u001b[0m\u001b[0;34m(\u001b[0m\u001b[0;34m*\u001b[0m\u001b[0ma\u001b[0m\u001b[0;34m,\u001b[0m \u001b[0;34m**\u001b[0m\u001b[0mkw\u001b[0m\u001b[0;34m)\u001b[0m\u001b[0;34m:\u001b[0m\u001b[0;34m\u001b[0m\u001b[0;34m\u001b[0m\u001b[0m\n\u001b[1;32m     62\u001b[0m         \u001b[0;32mtry\u001b[0m\u001b[0;34m:\u001b[0m\u001b[0;34m\u001b[0m\u001b[0;34m\u001b[0m\u001b[0m\n\u001b[0;32m---> 63\u001b[0;31m             \u001b[0;32mreturn\u001b[0m \u001b[0mf\u001b[0m\u001b[0;34m(\u001b[0m\u001b[0;34m*\u001b[0m\u001b[0ma\u001b[0m\u001b[0;34m,\u001b[0m \u001b[0;34m**\u001b[0m\u001b[0mkw\u001b[0m\u001b[0;34m)\u001b[0m\u001b[0;34m\u001b[0m\u001b[0;34m\u001b[0m\u001b[0m\n\u001b[0m\u001b[1;32m     64\u001b[0m         \u001b[0;32mexcept\u001b[0m \u001b[0mpy4j\u001b[0m\u001b[0;34m.\u001b[0m\u001b[0mprotocol\u001b[0m\u001b[0;34m.\u001b[0m\u001b[0mPy4JJavaError\u001b[0m \u001b[0;32mas\u001b[0m \u001b[0me\u001b[0m\u001b[0;34m:\u001b[0m\u001b[0;34m\u001b[0m\u001b[0;34m\u001b[0m\u001b[0m\n\u001b[1;32m     65\u001b[0m             \u001b[0ms\u001b[0m \u001b[0;34m=\u001b[0m \u001b[0me\u001b[0m\u001b[0;34m.\u001b[0m\u001b[0mjava_exception\u001b[0m\u001b[0;34m.\u001b[0m\u001b[0mtoString\u001b[0m\u001b[0;34m(\u001b[0m\u001b[0;34m)\u001b[0m\u001b[0;34m\u001b[0m\u001b[0;34m\u001b[0m\u001b[0m\n",
      "\u001b[0;32m/opt/spark/python/lib/py4j-0.10.7-src.zip/py4j/protocol.py\u001b[0m in \u001b[0;36mget_return_value\u001b[0;34m(answer, gateway_client, target_id, name)\u001b[0m\n\u001b[1;32m    326\u001b[0m                 raise Py4JJavaError(\n\u001b[1;32m    327\u001b[0m                     \u001b[0;34m\"An error occurred while calling {0}{1}{2}.\\n\"\u001b[0m\u001b[0;34m.\u001b[0m\u001b[0;34m\u001b[0m\u001b[0;34m\u001b[0m\u001b[0m\n\u001b[0;32m--> 328\u001b[0;31m                     format(target_id, \".\", name), value)\n\u001b[0m\u001b[1;32m    329\u001b[0m             \u001b[0;32melse\u001b[0m\u001b[0;34m:\u001b[0m\u001b[0;34m\u001b[0m\u001b[0;34m\u001b[0m\u001b[0m\n\u001b[1;32m    330\u001b[0m                 raise Py4JError(\n",
      "\u001b[0;31mPy4JJavaError\u001b[0m: An error occurred while calling o506.load.\n: java.lang.ClassNotFoundException: com.mysql.jdbc.Driver\n\tat java.net.URLClassLoader.findClass(URLClassLoader.java:382)\n\tat java.lang.ClassLoader.loadClass(ClassLoader.java:424)\n\tat java.lang.ClassLoader.loadClass(ClassLoader.java:357)\n\tat org.apache.spark.sql.execution.datasources.jdbc.DriverRegistry$.register(DriverRegistry.scala:45)\n\tat org.apache.spark.sql.execution.datasources.jdbc.JDBCOptions$$anonfun$5.apply(JDBCOptions.scala:99)\n\tat org.apache.spark.sql.execution.datasources.jdbc.JDBCOptions$$anonfun$5.apply(JDBCOptions.scala:99)\n\tat scala.Option.foreach(Option.scala:257)\n\tat org.apache.spark.sql.execution.datasources.jdbc.JDBCOptions.<init>(JDBCOptions.scala:99)\n\tat org.apache.spark.sql.execution.datasources.jdbc.JDBCOptions.<init>(JDBCOptions.scala:35)\n\tat org.apache.spark.sql.execution.datasources.jdbc.JdbcRelationProvider.createRelation(JdbcRelationProvider.scala:32)\n\tat org.apache.spark.sql.execution.datasources.DataSource.resolveRelation(DataSource.scala:318)\n\tat org.apache.spark.sql.DataFrameReader.loadV1Source(DataFrameReader.scala:223)\n\tat org.apache.spark.sql.DataFrameReader.load(DataFrameReader.scala:211)\n\tat org.apache.spark.sql.DataFrameReader.load(DataFrameReader.scala:167)\n\tat sun.reflect.NativeMethodAccessorImpl.invoke0(Native Method)\n\tat sun.reflect.NativeMethodAccessorImpl.invoke(NativeMethodAccessorImpl.java:62)\n\tat sun.reflect.DelegatingMethodAccessorImpl.invoke(DelegatingMethodAccessorImpl.java:43)\n\tat java.lang.reflect.Method.invoke(Method.java:498)\n\tat py4j.reflection.MethodInvoker.invoke(MethodInvoker.java:244)\n\tat py4j.reflection.ReflectionEngine.invoke(ReflectionEngine.java:357)\n\tat py4j.Gateway.invoke(Gateway.java:282)\n\tat py4j.commands.AbstractCommand.invokeMethod(AbstractCommand.java:132)\n\tat py4j.commands.CallCommand.execute(CallCommand.java:79)\n\tat py4j.GatewayConnection.run(GatewayConnection.java:238)\n\tat java.lang.Thread.run(Thread.java:748)\n"
     ]
    }
   ],
   "source": [
    "mysql_df = spSession.read.format(\"jdbc\").options(\n",
    "            url = \"jdbc:mysql://localhost/carros\",\n",
    "            driver = \"com.mysql.jdbc.Driver\",\n",
    "            dbtable = \"carrosTB\", \n",
    "            user = \"aline\",\n",
    "            password = \"aline\").load()"
   ]
  },
  {
   "cell_type": "code",
   "execution_count": null,
   "metadata": {},
   "outputs": [],
   "source": []
  },
  {
   "cell_type": "code",
   "execution_count": null,
   "metadata": {},
   "outputs": [],
   "source": []
  },
  {
   "cell_type": "code",
   "execution_count": null,
   "metadata": {},
   "outputs": [],
   "source": []
  },
  {
   "cell_type": "code",
   "execution_count": null,
   "metadata": {},
   "outputs": [],
   "source": []
  }
 ],
 "metadata": {
  "kernelspec": {
   "display_name": "Python 3",
   "language": "python",
   "name": "python3"
  },
  "language_info": {
   "codemirror_mode": {
    "name": "ipython",
    "version": 3
   },
   "file_extension": ".py",
   "mimetype": "text/x-python",
   "name": "python",
   "nbconvert_exporter": "python",
   "pygments_lexer": "ipython3",
   "version": "3.7.1"
  }
 },
 "nbformat": 4,
 "nbformat_minor": 2
}
