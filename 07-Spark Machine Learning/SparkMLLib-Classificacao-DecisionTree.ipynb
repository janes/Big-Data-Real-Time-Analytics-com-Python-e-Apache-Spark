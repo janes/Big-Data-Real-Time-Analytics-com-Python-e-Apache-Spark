{
 "cells": [
  {
   "cell_type": "markdown",
   "metadata": {},
   "source": [
    "# Spark MLLib - Classificação - Decision Tree"
   ]
  },
  {
   "cell_type": "markdown",
   "metadata": {},
   "source": [
    "## Classificar as especies de flores, listadas no dataser iris"
   ]
  },
  {
   "cell_type": "code",
   "execution_count": 1,
   "metadata": {},
   "outputs": [],
   "source": [
    "# Spark Session - usada quando se trabalha com Dataframes no Spark\n",
    "spSession = SparkSession.builder.master(\"local\").appName(\"SparkMLLib\").config(\"spark.some.config.option\", \"session\").getOrCreate()"
   ]
  },
  {
   "cell_type": "code",
   "execution_count": 2,
   "metadata": {},
   "outputs": [],
   "source": [
    "from pyspark.sql import Row\n",
    "from pyspark.ml.feature import StringIndexer\n",
    "from pyspark.ml.linalg import Vectors\n",
    "from pyspark.ml.classification import DecisionTreeClassifier\n",
    "from pyspark.ml.evaluation import MulticlassClassificationEvaluator"
   ]
  },
  {
   "cell_type": "code",
   "execution_count": 3,
   "metadata": {},
   "outputs": [],
   "source": [
    "# Carregando os dados e gerando um RDD\n",
    "irisRDD = sc.textFile(\"data/iris.csv\")"
   ]
  },
  {
   "cell_type": "code",
   "execution_count": 4,
   "metadata": {},
   "outputs": [
    {
     "data": {
      "text/plain": [
       "data/iris.csv MapPartitionsRDD[1] at textFile at NativeMethodAccessorImpl.java:0"
      ]
     },
     "execution_count": 4,
     "metadata": {},
     "output_type": "execute_result"
    }
   ],
   "source": [
    "# Colocando o RDD em cache. \n",
    "# Esse processo otimiza a performance.\n",
    "irisRDD.cache()"
   ]
  },
  {
   "cell_type": "code",
   "execution_count": 5,
   "metadata": {},
   "outputs": [
    {
     "data": {
      "text/plain": [
       "151"
      ]
     },
     "execution_count": 5,
     "metadata": {},
     "output_type": "execute_result"
    }
   ],
   "source": [
    "irisRDD.count()"
   ]
  },
  {
   "cell_type": "code",
   "execution_count": 6,
   "metadata": {},
   "outputs": [
    {
     "data": {
      "text/plain": [
       "['Sepal.Length,Sepal.Width,Petal.Length,Petal.Width,Species',\n",
       " '5.1,3.5,1.4,0.2,setosa',\n",
       " '4.9,3,1.4,0.2,setosa',\n",
       " '4.7,3.2,1.3,0.2,setosa',\n",
       " '4.6,3.1,1.5,0.2,setosa']"
      ]
     },
     "execution_count": 6,
     "metadata": {},
     "output_type": "execute_result"
    }
   ],
   "source": [
    "irisRDD.take(5)"
   ]
  },
  {
   "cell_type": "code",
   "execution_count": 7,
   "metadata": {},
   "outputs": [
    {
     "data": {
      "text/plain": [
       "150"
      ]
     },
     "execution_count": 7,
     "metadata": {},
     "output_type": "execute_result"
    }
   ],
   "source": [
    "# removendo a primeira linha\n",
    "irisRDD2 = irisRDD.filter(lambda x: 'Sepal' not in x)\n",
    "irisRDD2.count()"
   ]
  },
  {
   "cell_type": "markdown",
   "metadata": {},
   "source": [
    "## Limpeza dos Dados"
   ]
  },
  {
   "cell_type": "code",
   "execution_count": 8,
   "metadata": {},
   "outputs": [],
   "source": [
    "# Separando as colunas\n",
    "irisRDD3 = irisRDD2.map(lambda l: l.split(\",\"))"
   ]
  },
  {
   "cell_type": "code",
   "execution_count": 10,
   "metadata": {},
   "outputs": [],
   "source": [
    "# Mapeando as colunas\n",
    "irisRDD4 = irisRDD3.map(lambda p: Row(SEPAL_LENGTH = float(p[0]), SEPAL_WIDTH = float(p[1]), \n",
    "                                      PETAL_LENGTH = float(p[2]), PETAL_WIDTH = float(p[3]), \n",
    "                                      SPECIES = p[4] ))"
   ]
  },
  {
   "cell_type": "code",
   "execution_count": 11,
   "metadata": {},
   "outputs": [
    {
     "data": {
      "text/plain": [
       "DataFrame[PETAL_LENGTH: double, PETAL_WIDTH: double, SEPAL_LENGTH: double, SEPAL_WIDTH: double, SPECIES: string]"
      ]
     },
     "execution_count": 11,
     "metadata": {},
     "output_type": "execute_result"
    }
   ],
   "source": [
    "# Criando um DataFrame\n",
    "irisDF = spSession.createDataFrame(irisRDD4)\n",
    "irisDF.cache()"
   ]
  },
  {
   "cell_type": "code",
   "execution_count": 12,
   "metadata": {},
   "outputs": [
    {
     "data": {
      "text/plain": [
       "[Row(PETAL_LENGTH=1.4, PETAL_WIDTH=0.2, SEPAL_LENGTH=5.1, SEPAL_WIDTH=3.5, SPECIES='setosa'),\n",
       " Row(PETAL_LENGTH=1.4, PETAL_WIDTH=0.2, SEPAL_LENGTH=4.9, SEPAL_WIDTH=3.0, SPECIES='setosa'),\n",
       " Row(PETAL_LENGTH=1.3, PETAL_WIDTH=0.2, SEPAL_LENGTH=4.7, SEPAL_WIDTH=3.2, SPECIES='setosa'),\n",
       " Row(PETAL_LENGTH=1.5, PETAL_WIDTH=0.2, SEPAL_LENGTH=4.6, SEPAL_WIDTH=3.1, SPECIES='setosa'),\n",
       " Row(PETAL_LENGTH=1.4, PETAL_WIDTH=0.2, SEPAL_LENGTH=5.0, SEPAL_WIDTH=3.6, SPECIES='setosa')]"
      ]
     },
     "execution_count": 12,
     "metadata": {},
     "output_type": "execute_result"
    }
   ],
   "source": [
    "irisDF.take(5)"
   ]
  },
  {
   "cell_type": "code",
   "execution_count": 13,
   "metadata": {},
   "outputs": [],
   "source": [
    "# Criando um índice numerico para a coluna de label target\n",
    "stringIndexer = StringIndexer(inputCol = \"SPECIES\", outputCol = \"IDX_SPECIES\")\n",
    "si_model = stringIndexer.fit(irisDF)\n",
    "irisNormDF = si_model.transform(irisDF)"
   ]
  },
  {
   "cell_type": "code",
   "execution_count": 14,
   "metadata": {},
   "outputs": [
    {
     "data": {
      "text/plain": [
       "[Row(SPECIES='versicolor', IDX_SPECIES=0.0),\n",
       " Row(SPECIES='setosa', IDX_SPECIES=2.0),\n",
       " Row(SPECIES='virginica', IDX_SPECIES=1.0)]"
      ]
     },
     "execution_count": 14,
     "metadata": {},
     "output_type": "execute_result"
    }
   ],
   "source": [
    "irisNormDF.select(\"SPECIES\", \"IDX_SPECIES\").distinct().collect()"
   ]
  },
  {
   "cell_type": "markdown",
   "metadata": {},
   "source": [
    "## Analise exploratoria de Dados"
   ]
  },
  {
   "cell_type": "code",
   "execution_count": 15,
   "metadata": {},
   "outputs": [
    {
     "name": "stdout",
     "output_type": "stream",
     "text": [
      "+-------+------------------+------------------+------------------+------------------+---------+------------------+\n",
      "|summary|      PETAL_LENGTH|       PETAL_WIDTH|      SEPAL_LENGTH|       SEPAL_WIDTH|  SPECIES|       IDX_SPECIES|\n",
      "+-------+------------------+------------------+------------------+------------------+---------+------------------+\n",
      "|  count|               150|               150|               150|               150|      150|               150|\n",
      "|   mean| 3.758000000000001|1.1993333333333331| 5.843333333333332|3.0573333333333337|     null|               1.0|\n",
      "| stddev|1.7652982332594662|0.7622376689603467|0.8280661279778634|0.4358662849366978|     null|0.8192319205190404|\n",
      "|    min|               1.0|               0.1|               4.3|               2.0|   setosa|               0.0|\n",
      "|    max|               6.9|               2.5|               7.9|               4.4|virginica|               2.0|\n",
      "+-------+------------------+------------------+------------------+------------------+---------+------------------+\n",
      "\n"
     ]
    }
   ],
   "source": [
    "# Estatistica descritiva\n",
    "irisNormDF.describe().show()"
   ]
  },
  {
   "cell_type": "code",
   "execution_count": 16,
   "metadata": {},
   "outputs": [
    {
     "name": "stdout",
     "output_type": "stream",
     "text": [
      "Correlação da variavel Species com PETAL_LENGTH -0.649241830764174\n",
      "Correlação da variavel Species com PETAL_WIDTH -0.5803770334306264\n",
      "Correlação da variavel Species com SEPAL_LENGTH -0.4600391565002369\n",
      "Correlação da variavel Species com SEPAL_WIDTH 0.6183715308237433\n",
      "Correlação da variavel Species com IDX_SPECIES 1.0\n"
     ]
    }
   ],
   "source": [
    "# Correlação entre as variaveis\n",
    "for i in irisNormDF.columns:\n",
    "    if not( isinstance(irisNormDF.select(i).take(1)[0][0], str)):\n",
    "        print(\"Correlação da variavel Species com\", i, irisNormDF.stat.corr(\"IDX_SPECIES\", i))"
   ]
  },
  {
   "cell_type": "markdown",
   "metadata": {},
   "source": [
    "## Pré-Processamento dos dados"
   ]
  },
  {
   "cell_type": "code",
   "execution_count": 17,
   "metadata": {},
   "outputs": [],
   "source": [
    "# Criando um LabelLedpoint (target, Vector[features])\n",
    "# Removendo colunas não relevantes para o modelo ou com baixa correlação\n",
    "def transformaVar(row):\n",
    "    obj = (row[\"SPECIES\"], row[\"IDX_SPECIES\"], Vectors.dense([row[\"SEPAL_LENGTH\"], row[\"SEPAL_WIDTH\"], \n",
    "                                                              row[\"PETAL_LENGTH\"], row[\"PETAL_WIDTH\"]]))\n",
    "    return obj"
   ]
  },
  {
   "cell_type": "code",
   "execution_count": 18,
   "metadata": {},
   "outputs": [],
   "source": [
    "irisRDD5 = irisNormDF.rdd.map(transformaVar)"
   ]
  },
  {
   "cell_type": "code",
   "execution_count": 19,
   "metadata": {},
   "outputs": [
    {
     "data": {
      "text/plain": [
       "[('setosa', 2.0, DenseVector([5.1, 3.5, 1.4, 0.2])),\n",
       " ('setosa', 2.0, DenseVector([4.9, 3.0, 1.4, 0.2])),\n",
       " ('setosa', 2.0, DenseVector([4.7, 3.2, 1.3, 0.2])),\n",
       " ('setosa', 2.0, DenseVector([4.6, 3.1, 1.5, 0.2])),\n",
       " ('setosa', 2.0, DenseVector([5.0, 3.6, 1.4, 0.2]))]"
      ]
     },
     "execution_count": 19,
     "metadata": {},
     "output_type": "execute_result"
    }
   ],
   "source": [
    "irisRDD5.take(5)"
   ]
  },
  {
   "cell_type": "code",
   "execution_count": 20,
   "metadata": {},
   "outputs": [
    {
     "name": "stdout",
     "output_type": "stream",
     "text": [
      "+-------+-----+-----------------+\n",
      "|species|label|         features|\n",
      "+-------+-----+-----------------+\n",
      "| setosa|  2.0|[5.1,3.5,1.4,0.2]|\n",
      "| setosa|  2.0|[4.9,3.0,1.4,0.2]|\n",
      "| setosa|  2.0|[4.7,3.2,1.3,0.2]|\n",
      "| setosa|  2.0|[4.6,3.1,1.5,0.2]|\n",
      "| setosa|  2.0|[5.0,3.6,1.4,0.2]|\n",
      "| setosa|  2.0|[5.4,3.9,1.7,0.4]|\n",
      "| setosa|  2.0|[4.6,3.4,1.4,0.3]|\n",
      "| setosa|  2.0|[5.0,3.4,1.5,0.2]|\n",
      "| setosa|  2.0|[4.4,2.9,1.4,0.2]|\n",
      "| setosa|  2.0|[4.9,3.1,1.5,0.1]|\n",
      "+-------+-----+-----------------+\n",
      "only showing top 10 rows\n",
      "\n"
     ]
    },
    {
     "data": {
      "text/plain": [
       "DataFrame[species: string, label: double, features: vector]"
      ]
     },
     "execution_count": 20,
     "metadata": {},
     "output_type": "execute_result"
    }
   ],
   "source": [
    "irisDF = spSession.createDataFrame(irisRDD5, [\"species\", \"label\", \"features\"])\n",
    "irisDF.select(\"species\", \"label\", \"features\").show(10)\n",
    "irisDF.cache()"
   ]
  },
  {
   "cell_type": "markdown",
   "metadata": {},
   "source": [
    "## Machine Learning"
   ]
  },
  {
   "cell_type": "code",
   "execution_count": 27,
   "metadata": {},
   "outputs": [],
   "source": [
    "# Dados de Treino e de teste\n",
    "(dados_treino, dados_teste) = irisDF.randomSplit([0.7, 0.3])"
   ]
  },
  {
   "cell_type": "code",
   "execution_count": 28,
   "metadata": {},
   "outputs": [
    {
     "data": {
      "text/plain": [
       "98"
      ]
     },
     "execution_count": 28,
     "metadata": {},
     "output_type": "execute_result"
    }
   ],
   "source": [
    "dados_treino.count()"
   ]
  },
  {
   "cell_type": "code",
   "execution_count": 29,
   "metadata": {},
   "outputs": [
    {
     "data": {
      "text/plain": [
       "52"
      ]
     },
     "execution_count": 29,
     "metadata": {},
     "output_type": "execute_result"
    }
   ],
   "source": [
    "dados_teste.count()"
   ]
  },
  {
   "cell_type": "code",
   "execution_count": 30,
   "metadata": {},
   "outputs": [],
   "source": [
    "# Construindo o modelo con os dados de treino\n",
    "dtClassifier = DecisionTreeClassifier(maxDepth = 2, labelCol = \"label\", featuresCol = \"features\")\n",
    "modelo = dtClassifier.fit(dados_treino)"
   ]
  },
  {
   "cell_type": "code",
   "execution_count": 31,
   "metadata": {},
   "outputs": [
    {
     "data": {
      "text/plain": [
       "2"
      ]
     },
     "execution_count": 31,
     "metadata": {},
     "output_type": "execute_result"
    }
   ],
   "source": [
    "modelo.numNodes\n",
    "modelo.depth"
   ]
  },
  {
   "cell_type": "code",
   "execution_count": 32,
   "metadata": {},
   "outputs": [
    {
     "data": {
      "text/plain": [
       "[Row(prediction=2.0, species='setosa', label=2.0),\n",
       " Row(prediction=2.0, species='setosa', label=2.0),\n",
       " Row(prediction=2.0, species='setosa', label=2.0),\n",
       " Row(prediction=2.0, species='setosa', label=2.0),\n",
       " Row(prediction=2.0, species='setosa', label=2.0),\n",
       " Row(prediction=2.0, species='setosa', label=2.0),\n",
       " Row(prediction=2.0, species='setosa', label=2.0),\n",
       " Row(prediction=2.0, species='setosa', label=2.0),\n",
       " Row(prediction=2.0, species='setosa', label=2.0),\n",
       " Row(prediction=2.0, species='setosa', label=2.0),\n",
       " Row(prediction=2.0, species='setosa', label=2.0),\n",
       " Row(prediction=2.0, species='setosa', label=2.0),\n",
       " Row(prediction=2.0, species='setosa', label=2.0),\n",
       " Row(prediction=2.0, species='setosa', label=2.0),\n",
       " Row(prediction=2.0, species='setosa', label=2.0),\n",
       " Row(prediction=2.0, species='setosa', label=2.0),\n",
       " Row(prediction=2.0, species='setosa', label=2.0),\n",
       " Row(prediction=2.0, species='setosa', label=2.0),\n",
       " Row(prediction=2.0, species='setosa', label=2.0),\n",
       " Row(prediction=0.0, species='versicolor', label=0.0),\n",
       " Row(prediction=0.0, species='versicolor', label=0.0),\n",
       " Row(prediction=0.0, species='versicolor', label=0.0),\n",
       " Row(prediction=0.0, species='versicolor', label=0.0),\n",
       " Row(prediction=0.0, species='versicolor', label=0.0),\n",
       " Row(prediction=1.0, species='versicolor', label=0.0),\n",
       " Row(prediction=0.0, species='versicolor', label=0.0),\n",
       " Row(prediction=1.0, species='versicolor', label=0.0),\n",
       " Row(prediction=0.0, species='versicolor', label=0.0),\n",
       " Row(prediction=0.0, species='versicolor', label=0.0),\n",
       " Row(prediction=0.0, species='versicolor', label=0.0),\n",
       " Row(prediction=0.0, species='versicolor', label=0.0),\n",
       " Row(prediction=0.0, species='versicolor', label=0.0),\n",
       " Row(prediction=0.0, species='versicolor', label=0.0),\n",
       " Row(prediction=0.0, species='versicolor', label=0.0),\n",
       " Row(prediction=0.0, species='versicolor', label=0.0),\n",
       " Row(prediction=1.0, species='versicolor', label=0.0),\n",
       " Row(prediction=0.0, species='versicolor', label=0.0),\n",
       " Row(prediction=1.0, species='virginica', label=1.0),\n",
       " Row(prediction=1.0, species='virginica', label=1.0),\n",
       " Row(prediction=1.0, species='virginica', label=1.0),\n",
       " Row(prediction=1.0, species='virginica', label=1.0),\n",
       " Row(prediction=1.0, species='virginica', label=1.0),\n",
       " Row(prediction=1.0, species='virginica', label=1.0),\n",
       " Row(prediction=1.0, species='virginica', label=1.0),\n",
       " Row(prediction=1.0, species='virginica', label=1.0),\n",
       " Row(prediction=1.0, species='virginica', label=1.0),\n",
       " Row(prediction=1.0, species='virginica', label=1.0),\n",
       " Row(prediction=1.0, species='virginica', label=1.0),\n",
       " Row(prediction=1.0, species='virginica', label=1.0),\n",
       " Row(prediction=1.0, species='virginica', label=1.0),\n",
       " Row(prediction=1.0, species='virginica', label=1.0),\n",
       " Row(prediction=1.0, species='virginica', label=1.0)]"
      ]
     },
     "execution_count": 32,
     "metadata": {},
     "output_type": "execute_result"
    }
   ],
   "source": [
    "# Previsões com dados de teste\n",
    "previsoes = modelo.transform(dados_teste)\n",
    "previsoes.select(\"prediction\", \"species\", \"label\").collect()"
   ]
  },
  {
   "cell_type": "code",
   "execution_count": 33,
   "metadata": {},
   "outputs": [
    {
     "data": {
      "text/plain": [
       "0.9423076923076923"
      ]
     },
     "execution_count": 33,
     "metadata": {},
     "output_type": "execute_result"
    }
   ],
   "source": [
    "# Avaliando a acuracia\n",
    "avaliador = MulticlassClassificationEvaluator(predictionCol = \"prediction\", labelCol = \"label\", metricName = \"accuracy\")\n",
    "avaliador.evaluate(previsoes)"
   ]
  },
  {
   "cell_type": "code",
   "execution_count": 34,
   "metadata": {},
   "outputs": [
    {
     "name": "stdout",
     "output_type": "stream",
     "text": [
      "+-----+----------+-----+\n",
      "|label|prediction|count|\n",
      "+-----+----------+-----+\n",
      "|  1.0|       1.0|   15|\n",
      "|  0.0|       1.0|    3|\n",
      "|  2.0|       2.0|   19|\n",
      "|  0.0|       0.0|   15|\n",
      "+-----+----------+-----+\n",
      "\n"
     ]
    }
   ],
   "source": [
    "# Resumindo as previsoes - Confusion Matrix\n",
    "previsoes.groupBy(\"label\", \"prediction\").count().show()"
   ]
  },
  {
   "cell_type": "code",
   "execution_count": null,
   "metadata": {},
   "outputs": [],
   "source": []
  }
 ],
 "metadata": {
  "kernelspec": {
   "display_name": "Python 3",
   "language": "python",
   "name": "python3"
  },
  "language_info": {
   "codemirror_mode": {
    "name": "ipython",
    "version": 3
   },
   "file_extension": ".py",
   "mimetype": "text/x-python",
   "name": "python",
   "nbconvert_exporter": "python",
   "pygments_lexer": "ipython3",
   "version": "3.6.5"
  }
 },
 "nbformat": 4,
 "nbformat_minor": 2
}
